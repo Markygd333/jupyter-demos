{
 "cells": [
  {
   "cell_type": "markdown",
   "metadata": {},
   "source": [
    "# Python Basics 9: Dictionaries\n",
    "\n",
    "This exercise is part of a series. Each exercise assumes the reader has completed and understood the learning outcomes of the previous exercises.\n",
    "\n",
    "## Table of Contents\n",
    "\n",
    "- [🎯 Lesson outcome](#🎯-Lesson-outcome)\n",
    "- [📖 Dictionaries](#📖-dictionaries)\n",
    "- [📝 Creating Dictionaries](#📝-creating-dictionaries)\n",
    "- [👈 Selecting Dictionary Items](#👈-selecting-dictionary-items)\n",
    "- [✍️ Editing Dictionaries](#✍️-editing-dictionaries)\n",
    "- [🌳 Data Structures](#🌳-data-structures)\n",
    "- [🏡 How to try this at home](#🏡-How-to-try-this-at-home)\n",
    "\n",
    "## 🎯 Lesson outcome\n",
    "([Back to top](#Table-of-Contents))\n",
    "\n",
    "In this lesson, you'll learn one of the most important complex data types of them all: dictionaries. You'll be able to represent the data of your application in complex data structures making it easy to reason about what kind of data an application needs and how it relates to each other.\n",
    "\n",
    "## 📖 Dictionaries\n",
    "([Back to top](#Table-of-Contents))\n",
    "\n",
    "Much like a **list**, a **dictionary** is another **complex data type** - which means it represents multiple data points at once (just like a list). In other programming languages, it's also known as **hash** or **object**. Although, you should be careful as both those terms can also mean slightly different things. Python likes to name things in a more human-understandable way. That's why a list is called a list (and not an \"array\"). If you think of a real-world dictionary you think of a book with lots of terms that are paired up with a definition or a translation. \n",
    "\n",
    "For example, a simplified dictionary might look like something like this: \n",
    "\n",
    "```\n",
    "python: \"a very large snake that kills animals for food by wrapping itself around them and crushing them\"\n",
    "software: \"the instructions that control what a computer does\"\n",
    "jupiter: \"the planet fifth in order of distance from the Sun, after Mars and before Saturn\"\n",
    "```\n",
    "\n",
    "[Source: Cambridge Dictionary](https://dictionary.cambridge.org/)\n",
    "\n",
    "A dictionary is filled with pairs of words and their definitions. Or in programming terms: It's filled with pairs of **keys** and **values**. \n",
    "\n",
    "Different kinds of data sets need different tools to represent them. Simple shopping lists or to-do lists are usually written from top to bottom in a simple list format. \n",
    "\n",
    "Dictionaries, on the other hand, are useful when you want to connect two pieces of information: A word and its definition, or an English word and its German equivalent.\n",
    "\n",
    "So much like their equivalents in the physical world, dictionaries and lists serve different purposes for different kinds of data. There are gray areas and complex combinations. But we'll get to those at the end of this lesson.\n",
    "\n",
    "## 📝 Creating Dictionaries\n",
    "([Back to top](#Table-of-Contents))\n",
    "\n",
    "Imagine a simple phonebook app that lists multiple names and their corresponding phone number. You could try to store the data in a list of strings:\n",
    "\n",
    "```python\n",
    "contacts = [\n",
    "  \"Samantha 123-456-7890\",\n",
    "  \"Sammy 980-765-4321\",\n",
    "  \"Sam 321-654-0987\"\n",
    "]\n",
    "```\n",
    "\n",
    "But that has multiple downsides. You have the phone number and name both in the same string and first need to find a way to separate them if you want to call someone straight from the app. It's hard to search and sort the individual names. You may want to display the name and the number in separate places. \n",
    "\n",
    "It makes a lot more sense to create a **dictionary** in this situation."
   ]
  },
  {
   "cell_type": "code",
   "execution_count": null,
   "metadata": {},
   "outputs": [],
   "source": [
    "contacts = {\n",
    "  \"Samantha\": \"123-456-7890\",\n",
    "  \"Sammy\": \"980-765-4321\",\n",
    "  \"Sam\": \"321-654-0987\"\n",
    "}\n",
    "\n",
    "print(contacts)"
   ]
  },
  {
   "cell_type": "markdown",
   "metadata": {},
   "source": [
    "You can see that dictionaries have some similarities with lists. Instead of square brackets, you signal the start and end of a dictionary with curly braces `{ }`.\n",
    "\n",
    "Each element in a dictionary always has to be a pair of a **key** and a **value**. The **key** comes first, followed by a colon (`:`), followed by the **value**. \n",
    "\n",
    "The different items are separated by commas (just like in lists).\n",
    "\n",
    "And much like with lists, it's common practice to write dictionaries over multiple likes like you see above where you put one item on each line and end the line with a comma. However, shorter dictionaries can also be written in a single line: "
   ]
  },
  {
   "cell_type": "code",
   "execution_count": null,
   "metadata": {},
   "outputs": [],
   "source": [
    "user_ages = {\"Samantha\": 21, \"Sammy\": 32, \"Sam\": 42}\n",
    "\n",
    "print(user_ages)"
   ]
  },
  {
   "cell_type": "markdown",
   "metadata": {},
   "source": [
    "In both code cells above, try adding, changing, and removing some keys and values. Play around with it a bit to get comfortable with them. \n",
    "\n",
    "**Keys** always have to be constants (like strings or numbers). They cannot change while the code is running. The way to change a key would be to delete the key-value pair and add a new one with the new key to the dictionary. (More on that below.)\n",
    "\n",
    "**Values**, however, are dynamic and can be changed throughout the application runtime. You'll learn more about changing values in just a moment. \n",
    "\n",
    "It's your turn. Create a new dictionary that could be used by a local library to store how many books they still have in store. Assign it to the variable that's already there. The **key** should be the name of the book. The **value** should be an integer. The dictionary should have at least three entries."
   ]
  },
  {
   "cell_type": "code",
   "execution_count": null,
   "metadata": {},
   "outputs": [],
   "source": [
    "library_books = \n",
    "\n",
    "\n",
    "\n",
    "\n",
    "\n",
    "# ===============================\n",
    "# ✋ Automated Test (don't change any code below this line!)\n",
    "# ===============================\n",
    "\n",
    "print(\"\\n---\\n⚙️ Automated Test Results: \\n---\")\n",
    "\n",
    "print(\"❌ Test 1 failed. Did you assign the variable library_books to be a dictionary?\" if not isinstance(library_books, dict) else \"☑️ Test 1 passed.\")\n",
    "print(\"❌ Test 2 failed. The dictionary should have at least 3 key-value paris.\" if len(library_books) < 3 else \"☑️ Test 2 passed.\")"
   ]
  },
  {
   "cell_type": "markdown",
   "metadata": {},
   "source": [
    "## 👈 Selecting Dictionary Items\n",
    "([Back to top](#Table-of-Contents))\n",
    "\n",
    "If you think of how you use a physical dictionary, you usually know a word that you want to look up the definition for. So you know the **key** and want to find out its **value**. \n",
    "\n",
    "To find a value of its corresponding key in a Python dictionary you can do that very similarly to how you find items in an array: "
   ]
  },
  {
   "cell_type": "code",
   "execution_count": null,
   "metadata": {},
   "outputs": [],
   "source": [
    "contacts = {\n",
    "  \"Samantha\": \"123-456-7890\",\n",
    "  \"Sammy\": \"980-765-4321\",\n",
    "  \"Sam\": \"321-654-0987\"\n",
    "}\n",
    "\n",
    "sams_phone_number = contacts[\"Sam\"]\n",
    "\n",
    "print(sams_phone_number)"
   ]
  },
  {
   "cell_type": "markdown",
   "metadata": {},
   "source": [
    "You write the name of the variable representing a dictionary followed by square brackets. Inside those square brackets, you write the **key** name. \n",
    "\n",
    "Try it out. Assign a new variable in the code cell above and get a different phone number. \n",
    "\n",
    "### Aside: Loops & Dictionaries\n",
    "\n",
    "Remember, how you can use a `for`-loop to loop through items in a list? You can actually use a `for`-loop on a dictionary, too. In that case, the loop will iterate over the **keys** of the dictionary. On each iteration, the local variable will represent the current key-value pair's **key**.\n",
    "\n",
    "Run the code below first to see what happens. Then change it so that each iteration displays both the ingredient **and** how much of it to use."
   ]
  },
  {
   "cell_type": "code",
   "execution_count": null,
   "metadata": {},
   "outputs": [],
   "source": [
    "recipe = {\n",
    "    \"salted butter softened\": \"227g\",\n",
    "    \"granulated sugar\": \"232g\",\n",
    "    \"light brown sugar packed\": \"213g\",\n",
    "    \"pure vanilla extract\": \"2 tsp\",\n",
    "    \"large eggs\": \"2\",\n",
    "    \"all-purpose flour\": \"427g\",\n",
    "    \"baking soda\": \"1 tsp\",\n",
    "    \"baking powder\": \"½ tsp\",\n",
    "    \"sea salt\": \"1 tsp\",\n",
    "    \"chocolate chips\": \"396g\"\n",
    "}\n",
    "\n",
    "for ingredient in recipe:\n",
    "  print(ingredient)\n",
    "  # 👇 Add your code here:\n",
    "\n",
    "  \n"
   ]
  },
  {
   "cell_type": "markdown",
   "metadata": {},
   "source": [
    "<details>\n",
    "<summary style=\"border: 1px solid; border-radius: 3px; padding: 5px; display: inline-block; cursor: pointer;\">\n",
    "💡 Hint\n",
    "</summary>\n",
    "<p>\n",
    "\n",
    "The `for`-loop iterates over each of the **keys** in the `recipe` dictionary. That means the code inside the loop will run as many times as there are key-value pairs in the dictionary. \n",
    "\n",
    "On each iteration, the local variable defined in the loop (`for ingredient ...`) represents a different **key** of the dictionary. You can see that by running the code above. The `print()` will run as many times as there are keys-value pairs in `recipe` and every time it prints a different key.\n",
    "\n",
    "To display the **value** of a key-value pair, you call it with the key name like this: `recipe[\"chocolate chips\"]`. (Pay close attention to using quotes since the key is a string!)\n",
    "\n",
    "Now, if `ingredient` represents the current key string and you know how to get the value, can you put those two things together to display the values in each iteration, too?\n",
    "\n",
    "</p>\n",
    "</details>\n"
   ]
  },
  {
   "cell_type": "markdown",
   "metadata": {},
   "source": [
    "Combining lists and loops or dictionaries and loops is extremely common and an important skill to practice. It's normal if it takes a while to wrap your head around this concept. Practice will help you get better!\n",
    "\n",
    ">💡 An alternative way to iterate over dictionaries is using the `.items()` method on the dictionary which gives you access to both the key and the value as a tuple in each iteration (similar to how `enumerate()` gives you access to the index and the item of a list). It would go beyond this tutorial to go in depth on that topic. But if you're interested, take a look at [the official documentation (link)](https://docs.python.org/3/tutorial/datastructures.html#looping-techniques) to find out more.\n",
    "\n",
    "## ✍️ Editing Dictionaries\n",
    "([Back to top](#Table-of-Contents))\n",
    "\n",
    "Many of the same built-in functions that work on lists also work on dictionaries. However, most interactions with dictionaries are even a bit simpler than with lists.\n",
    "\n",
    "### Changing Dictionary Items\n",
    "\n",
    "Much like in lists, you can change individual list items by calling them (as you have learned before) and assigning them to something else using the equal sign (`=`)."
   ]
  },
  {
   "cell_type": "code",
   "execution_count": null,
   "metadata": {},
   "outputs": [],
   "source": [
    "contacts = {\n",
    "  \"Samantha\": \"123-456-7890\",\n",
    "  \"Sammy\": \"980-765-4321\",\n",
    "  \"Sam\": \"321-654-0987\"\n",
    "}\n",
    "\n",
    "print(\"Before:\", contacts)\n",
    "\n",
    "contacts[\"Sam\"] = \"777-324-1234\"\n",
    "\n",
    "print(\"After:\", contacts)"
   ]
  },
  {
   "cell_type": "markdown",
   "metadata": {},
   "source": [
    "### Adding Dictionary Items\n",
    "\n",
    "Using that same method, you can also add new key-value pairs to an object. So, as opposed to lists, you **can** declare a **key** that does not yet exist in the dictionary by just assigning it as if you'd change an item value.\n",
    "\n",
    "Try it out!\n",
    "\n",
    "In the example below, add a new name and corresponding phone number: "
   ]
  },
  {
   "cell_type": "code",
   "execution_count": null,
   "metadata": {},
   "outputs": [],
   "source": [
    "contacts = {\n",
    "  \"Samantha\": \"123-456-7890\",\n",
    "  \"Sammy\": \"980-765-4321\",\n",
    "  \"Sam\": \"321-654-0987\"\n",
    "}\n",
    "\n",
    "print(\"Before:\", contacts)\n",
    "\n",
    "# 👇 Add your code below\n",
    "\n",
    "\n",
    "\n",
    "\n",
    "\n",
    "# 👆 Add your code above\n",
    "\n",
    "print(\"After:\", contacts)\n",
    "\n",
    "\n",
    "# ===============================\n",
    "# ✋ Automated Test (don't change any code below this line!)\n",
    "# ===============================\n",
    "\n",
    "print(\"\\n---\\n⚙️ Automated Test Results: \\n---\")\n",
    "\n",
    "print(\"❌ Test 1 failed. Don't just change an existing value. Add a new key that does not yet exist.\" if len(contacts) < 4 else \"☑️ Test 1 passed.\")"
   ]
  },
  {
   "cell_type": "markdown",
   "metadata": {},
   "source": [
    "### Removing Dictionary Items\n",
    "\n",
    "As mentioned above, some of the same methods that work on lists also work on dictionaries. For example, that's also true for `.pop()`. However, the more common way to remove items from a dictionary is using the `del` keyword.\n",
    "\n",
    ">💡 Python has been around for a long time (since 1991). Many programming languages that have been around for a while evolve a lot over time. Right now, we are on Python version 3. People want to improve the language, make it more intuitive, more easy, or add new features to it. But how do you change a programming language without causing all existing software written in that programming language to break? You add to it without removing the old parts. \n",
    ">\n",
    ">This is why many older programming langauges often have multiple different ways to do the same thing. So don't be surprised if you find different code examples writing Python code slightly differently from what you have learned so far. Like with `del` and `pop()` it's very likely that there are simply various alternatives to doing a similar (but maybe slightly different) thing."
   ]
  },
  {
   "cell_type": "code",
   "execution_count": null,
   "metadata": {},
   "outputs": [],
   "source": [
    "contacts = {\n",
    "  \"Samantha\": \"123-456-7890\",\n",
    "  \"Sammy\": \"980-765-4321\",\n",
    "  \"Sam\": \"321-654-0987\"\n",
    "}\n",
    "\n",
    "print(\"Contacts before deletion:\", contacts)\n",
    "\n",
    "del contacts[\"Sam\"]\n",
    "\n",
    "\n",
    "\n",
    "print(\"Contacts after deletion\", contacts)"
   ]
  },
  {
   "cell_type": "markdown",
   "metadata": {},
   "source": [
    "Run the code above. Then try adding a new key and deleting yet another one. Play around with the code for a little bit before you proceed.\n",
    "\n",
    "Now, you know all the important aspects of creating and editing dictionaries. Let's practice this with a practical example. We'll build upon the interactive shopping list by allowing users to add not only the name of the items but also the amount. \n",
    "\n",
    "- In the code cell below, create an empty dictionary called `shopping_list` and assign it to an empty dictionary.\n",
    "- Then create a loop. In it, ask the user to input the name of an item they would like to add. Assign the response to a variable. \n",
    "- Still, in the loop, ask the user to input the amount for the entered item.\n",
    "- Bonus: For an extra challenge add a validation feature here to make sure the user enters a valid number as amount. \n",
    "- Then, add a new item to the `shopping_list` dictionary where the key is the name of the item and the value is the amount. \n",
    "- As the final step in the loop ask the user if they want to add another item. If they do, go through the previous steps again. If they don't, print the entire dictionary one last time. Then, end the program."
   ]
  },
  {
   "cell_type": "code",
   "execution_count": null,
   "metadata": {},
   "outputs": [],
   "source": [
    "\n",
    "\n",
    "\n",
    "\n",
    "\n",
    "\n",
    "\n",
    "\n",
    "# ===============================\n",
    "# ✋ Automated Test (don't change any code below this line!)\n",
    "# ===============================\n",
    "\n",
    "print(\"\\n---\\n⚙️ Automated Test Results: \\n---\")\n",
    "\n",
    "print(\"❌ Test 1 failed. Make sure to assign the variable shopping_list to a dictionary\" if not isinstance(shopping_list, dict) else \"☑️ Test 1 passed.\")"
   ]
  },
  {
   "cell_type": "markdown",
   "metadata": {},
   "source": [
    "<details>\n",
    "<summary style=\"border: 1px solid; border-radius: 3px; padding: 5px; display: inline-block; cursor: pointer;\">\n",
    "💡 Hint\n",
    "</summary>\n",
    "<p>\n",
    "\n",
    "- You can assign an empty dictionary like this: `some_dictionary = {}`\n",
    "- The loop could be an infinite loop. And you could use `break` or `continue` to determine if it keeps running. \n",
    "- Don't forget to pay attention to the indentations. \n",
    "\n",
    "</p>\n",
    "</details>"
   ]
  },
  {
   "cell_type": "markdown",
   "metadata": {},
   "source": [
    "## 🌳 Data Structures\n",
    "([Back to top](#Table-of-Contents))\n",
    "\n",
    "Implementing a shopping list like you did above is fine for very small data sets. But what if you need more than two data points for each shopping list item? What if you want to store in the dictionary whether or not you have already bought the item? Or what if you want to add a category label, a date of purchase, or a picture of the item? \n",
    "\n",
    "By asking yourself how to represent all those data points in code you are thinking about so-called **data structures**. In programming, you often handle different kinds of data in various degrees. And often storing this data in simple data types as variables does not suffice. Even a simple list or dictionary can often not handle the amount of data we need throughout our application. \n",
    "\n",
    "That's why programmers spend extra time coming up with complex **data structures**. Those are usually **combinations of lists and dictionaries** and that's where programming becomes really powerful. \n",
    "\n",
    "Here is an example what a shopping list with all those data points mentioned above could look like in a slightly more complex data structure: "
   ]
  },
  {
   "cell_type": "code",
   "execution_count": null,
   "metadata": {},
   "outputs": [],
   "source": [
    "shopping_list = [\n",
    "  { \n",
    "    \"name\": \"Apple\", \n",
    "    \"amount\": 6,\n",
    "    \"purchased_already\": False,\n",
    "    \"category\": \"Fruit\", \n",
    "    \"purchase_date\": None, \n",
    "    \"picture\": \"https://commons.wikimedia.org/wiki/File:A_Gala_Apple.jpg\" \n",
    "  },\n",
    "  { \n",
    "    \"name\": \"Banana\", \n",
    "    \"amount\": 3,\n",
    "    \"purchased_already\": True,\n",
    "    \"category\": \"Fruit\", \n",
    "    \"purchase_date\": \"Dec 20th, 2023\", \n",
    "    \"picture\": \"https://commons.wikimedia.org/wiki/File:Banana_8.jpg\" \n",
    "  },\n",
    "  { \n",
    "    \"name\": \"Broccoli\", \n",
    "    \"amount\": 1,\n",
    "    \"purchased_already\": False,\n",
    "    \"category\": \"Vegetable\", \n",
    "    \"purchase_date\": None, \n",
    "    \"picture\": \"https://commons.wikimedia.org/wiki/File:Broccoli_bunches.jpg\" \n",
    "  }\n",
    "]\n",
    "\n",
    "print(shopping_list)\n",
    "\n",
    "\n",
    "# ===============================\n",
    "# ✋ Automated Test (don't change any code below this line!)\n",
    "# ===============================\n",
    "\n",
    "print(\"\\n---\\n⚙️ Automated Test Results: \\n---\")\n",
    "\n",
    "print(\"❌ Test 1 failed. The list should have exactly 4 items.\" if len(shopping_list) != 4 else \"☑️ Test 1 passed.\")\n",
    "print(\"❌ Test 2 failed. The fourth item should be a dictionary.\" if not isinstance(shopping_list[3], dict) else \"☑️ Test 2 passed.\")"
   ]
  },
  {
   "cell_type": "markdown",
   "metadata": {},
   "source": [
    "In the code above, you see a list of dictionaries. Each list item is its own dictionary. Each dictionary represents one shopping list item and each item has the same six keys. Spend some time looking at the code. Try adding a fourth shopping list item with all the same keys but different values. Then run the code again and make sure all tests are passing. _(As usual, pay close attention to the use of special characters. It's easy to make mistakes like missing quotes or commas.)_\n",
    "\n",
    "To read and use value from nested complex data types, you can chain multiple square brackets. like this:"
   ]
  },
  {
   "cell_type": "code",
   "execution_count": null,
   "metadata": {},
   "outputs": [],
   "source": [
    "shopping_list = [\n",
    "  { \n",
    "    \"name\": \"Apple\", \n",
    "    \"amount\": 6,\n",
    "    \"purchased_already\": False,\n",
    "    \"category\": \"Fruit\", \n",
    "    \"purchase_date\": None, \n",
    "    \"picture\": \"https://commons.wikimedia.org/wiki/File:A_Gala_Apple.jpg\" \n",
    "  },\n",
    "  { \n",
    "    \"name\": \"Banana\", \n",
    "    \"amount\": 3,\n",
    "    \"purchased_already\": True,\n",
    "    \"category\": \"Fruit\", \n",
    "    \"purchase_date\": \"Dec 20th, 2023\", \n",
    "    \"picture\": \"https://commons.wikimedia.org/wiki/File:Banana_8.jpg\" \n",
    "  },\n",
    "  { \n",
    "    \"name\": \"Broccoli\", \n",
    "    \"amount\": 1,\n",
    "    \"purchased_already\": False,\n",
    "    \"category\": \"Vegetable\", \n",
    "    \"purchase_date\": None, \n",
    "    \"picture\": \"https://commons.wikimedia.org/wiki/File:Broccoli_bunches.jpg\" \n",
    "  }\n",
    "]\n",
    "\n",
    "print(\"How many apples should we purchase?\")\n",
    "print(shopping_list[0][\"amount\"])\n",
    "\n",
    "print(\"When were the bananas purchased?\")\n",
    "# TODO: Insert code here:\n",
    "\n",
    "\n",
    "print(\"An image of broccoli:\")\n",
    "# TODO: Insert code here:\n",
    "\n"
   ]
  },
  {
   "cell_type": "markdown",
   "metadata": {},
   "source": [
    "Run the code above. Then complete the two comments by getting the relevant information from the data structure. _(Write each line by hand as that's a helpful tool for memorizing syntax!)_\n",
    "\n",
    "Lists of dictionaries are common but not the only possible data structure. In fact, you can mix and match all sorts of data types. You can have lists of tuples, lists of lists, and dictionaries with many different dictionaries nested inside of them.\n",
    "\n",
    "Just to give you a few examples: \n",
    "\n",
    "Lists of lists are commonly used to represent two-dimensional game data. For example, if you build a chess game you'll need to represent the board as a data structure. A common way to do that is to have one large list representing all the rows and each row is its own list where each item corresponds to an item per column: "
   ]
  },
  {
   "cell_type": "code",
   "execution_count": null,
   "metadata": {},
   "outputs": [],
   "source": [
    "chess_board = [\n",
    "    ['R', 'N', 'B', 'Q', 'K', 'B', 'N', 'R'],\n",
    "    ['P', 'P', 'P', 'P', 'P', 'P', 'P', 'P'],\n",
    "    [' ', ' ', ' ', ' ', ' ', ' ', ' ', ' '],\n",
    "    [' ', ' ', ' ', ' ', ' ', ' ', ' ', ' '],\n",
    "    [' ', ' ', ' ', ' ', ' ', ' ', ' ', ' '],\n",
    "    [' ', ' ', ' ', ' ', ' ', ' ', ' ', ' '],\n",
    "    ['p', 'p', 'p', 'p', 'p', 'p', 'p', 'p'],\n",
    "    ['r', 'n', 'b', 'q', 'k', 'b', 'n', 'r']\n",
    "]"
   ]
  },
  {
   "cell_type": "markdown",
   "metadata": {},
   "source": [
    "You can also mix and match lists and dictionaries to create complex structures for our shopping list: "
   ]
  },
  {
   "cell_type": "code",
   "execution_count": null,
   "metadata": {},
   "outputs": [],
   "source": [
    "shopping_list_by_category = {\n",
    "  \"fruit\": [\n",
    "    { \n",
    "      \"name\": \"Apple\", \n",
    "      \"amount\": 6,\n",
    "      \"purchased_already\": False,\n",
    "      \"purchase_date\": None, \n",
    "      \"picture\": {\n",
    "        \"url\": \"https://commons.wikimedia.org/wiki/File:A_Gala_Apple.jpg\",\n",
    "        \"icon\": \"🍎\"\n",
    "      }\n",
    "    },\n",
    "    { \n",
    "      \"name\": \"Banana\", \n",
    "      \"amount\": 3,\n",
    "      \"purchased_already\": True,\n",
    "      \"purchase_date\": \"Dec 20th, 2023\", \n",
    "      \"picture\": {\n",
    "        \"url\": \"https://commons.wikimedia.org/wiki/File:Banana_8.jpg\",\n",
    "        \"icon\": \"🍌\"\n",
    "      }\n",
    "    }\n",
    "  ],\n",
    "  \"vegetables\": [\n",
    "    { \n",
    "      \"name\": \"Broccoli\", \n",
    "      \"amount\": 1,\n",
    "      \"purchased_already\": False,\n",
    "      \"category\": \"Vegetable\", \n",
    "      \"purchase_date\": None, \n",
    "      \"picture\": {\n",
    "        \"url\":  \"https://commons.wikimedia.org/wiki/File:Broccoli_bunches.jpg\",\n",
    "        \"icon\": \"🥦\"\n",
    "      }\n",
    "    }\n",
    "  ]\n",
    "}\n",
    "\n",
    "\n",
    "broccoli_icon = \"TODO: Replace me!\"\n",
    "\n",
    "print(broccoli_icon)\n",
    "\n",
    "\n",
    "# ===============================\n",
    "# ✋ Automated Test (don't change any code below this line!)\n",
    "# ===============================\n",
    "\n",
    "print(\"\\n---\\n⚙️ Automated Test Results: \\n---\")\n",
    "\n",
    "print(\"❌ Test 1 failed. Did you select the right item?\" if broccoli_icon != \"🥦\" else \"☑️ Test 1 passed.\")\n",
    "\n"
   ]
  },
  {
   "cell_type": "markdown",
   "metadata": {},
   "source": [
    "In the example above you see a complex combination of lists and dictionaries. It's not uncommon to do things like this. But don't worry if this seems a bit intimidating for now. With practice, you'll eventually be able to come up with structures like this, too. \n",
    "\n",
    "For now, try to get the test to pass by replacing the value of `broccoli_icon` with the actual icon 🥦. You will have to chain multiple square brackets to each other. Feel free to run the code multiple times and inspect what `print()` returns to get closer to the right result. "
   ]
  },
  {
   "cell_type": "markdown",
   "metadata": {},
   "source": [
    "## 🏡 How to try this at home\n",
    "([Back to top](#Table-of-Contents))\n",
    "\n",
    "Complex data structures can be overwhelming at first. It can be particularly difficult to wrap your head around multiple nested dictionaries and lists and combine them with loops. \n",
    "\n",
    "So we're going to practice exactly that now.\n",
    "\n",
    "Your task is to create a small phonebook application. The user can add multiple contacts to their phonebook. For each contact, they can add a name, phone number, and email address. Feel free to expand on that idea and add extra fields if you want. \n",
    "\n",
    "1. Create a new Python file. \n",
    "2. Your application should have a basic program loop. Start by asking the user to enter the name of a new contact. \n",
    "3. Follow the question by asking for additional fields such as phone number and email address. \n",
    "4. Add a dictionary per contact to a list. Then, ask the user if they'd like to add a new contact and allow them to do so if they answer \"yes.\"\n",
    "5. Once the user is done adding contacts, print the entire list of contacts in a visually appealing way (using a for-loop). Add icons such as 📞 or 📧 to display the contact details per line. _(You may have to think hard about how to get the individual data points during each iteration of the for-loop. Work with print statements to try getting close to the solution if you get stuck!)_\n",
    "6. Finally, use another loop to ask the user if they want to delete any of the contacts. Allow them to delete items by naming the position (index) of the contact.\n",
    "\n",
    "This task might take you a bit longer as it combines all aspects of what you have learned so far. But make sure to take the time and complete it. Only through practice, you'll learn. \n",
    "\n",
    "Finally, if you want an extra challenge, try expanding on the functionality by saving the contact list to a file. This isn't something you have learned yet. But Python has a lot of powerful features that go way beyond the scope of any tutorial. So it's not a bad idea to get familiar with Python's own tutorials and documentation. Only once you have completed the task above and if you are looking for a more advanced task look at this official tutorial and try to apply what you have learned there to store the contact list as a simple .txt text file: https://docs.python.org/3/tutorial/inputoutput.html#"
   ]
  },
  {
   "cell_type": "markdown",
   "metadata": {},
   "source": [
    "--- \n",
    "\n",
    "_Author: Samuel Boguslawski - Current Version: Feb 12, 2024 - © 2024 Licensed under [CC BY-NC 4.0](https://creativecommons.org/licenses/by-nc/4.0/?ref=chooser-v1)_"
   ]
  }
 ],
 "metadata": {
  "kernelspec": {
   "display_name": "venv",
   "language": "python",
   "name": "python3"
  },
  "language_info": {
   "codemirror_mode": {
    "name": "ipython",
    "version": 3
   },
   "file_extension": ".py",
   "mimetype": "text/x-python",
   "name": "python",
   "nbconvert_exporter": "python",
   "pygments_lexer": "ipython3",
   "version": "3.10.10"
  }
 },
 "nbformat": 4,
 "nbformat_minor": 2
}
