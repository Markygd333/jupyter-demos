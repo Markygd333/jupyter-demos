{
 "cells": [
  {
   "attachments": {},
   "cell_type": "markdown",
   "id": "cb272d86-2785-46d2-b84b-4fcc0d1d8252",
   "metadata": {
    "editable": false,
    "slideshow": {
     "slide_type": ""
    },
    "tags": []
   },
   "source": [
    "# Python Basics 3: Booleans & Conditions\n",
    "_Author: Samuel Boguslawski - Latest update: October 19th, 2023_\n",
    "\n",
    "This exercise is part of a series. Each exercise assumes the reader has completed and understood the learning outcomes of the previous exercises.\n",
    "\n",
    "## Table of Contents\n",
    "\n",
    "- [🎯 Outcome](#🎯-Outcome)\n",
    "- [🚦 Control Flow](#🚦-Control-Flow)\n",
    "- [✔️ Boolean Data Type](#✔️-Boolean-Data-Type)\n",
    "- [🤝 Comparing Data](#🤝-Comparing-Data)\n",
    "- [🔀 Conditions](#🔀-Conditions)\n",
    "- [🏡 How to try this at home](#🏡-How-to-try-this-at-home)\n",
    "\n",
    "## 🎯 Outcome\n",
    "([Back to top](#Table-of-Contents))\n",
    "\n",
    "In this exercise, you'll learn an essential **control flow** concept of computer programs: **conditions**. You can write programs that only perform a particular task if a condition is met. This allows you to start writing more complex programming logic. \n",
    "\n",
    "## 🚦 Control Flow\n",
    "([Back to top](#Table-of-Contents))\n",
    "\n",
    "The term **control flow** describes in which order code is executed. Generally, code is executed line by line, top to bottom. Check out the example below. Before executing the code, try to guess the output of each of the `print()` statements."
   ]
  },
  {
   "cell_type": "code",
   "execution_count": null,
   "id": "4c7ef22c-4be9-4b59-a4f3-ce59b8f3400b",
   "metadata": {
    "editable": true,
    "slideshow": {
     "slide_type": ""
    },
    "tags": []
   },
   "outputs": [],
   "source": [
    "favorite_food = \"pizza\"\n",
    "\n",
    "print(\"My favorite food is \" + favorite_food)\n",
    "\n",
    "favorite_food = \"watermelon\"\n",
    "\n",
    "print(\"Actually, nevermind. It really is \" + favorite_food)"
   ]
  },
  {
   "cell_type": "markdown",
   "id": "efdc5885-5cc4-4db9-ab36-7fb9d3d7b32e",
   "metadata": {
    "editable": false,
    "slideshow": {
     "slide_type": ""
    },
    "tags": []
   },
   "source": [
    "You can see that both `print()` functions return the `favorite_food` variable. But each time, the same variable represents a different value. That's because we change the value of the variable in between. The code gets executed line by line. \n",
    "\n",
    "This becomes even more obvious when using the `input()` function you learned about before:"
   ]
  },
  {
   "cell_type": "code",
   "execution_count": null,
   "id": "f1162828-a164-41e8-a855-5ce0d31d8aaa",
   "metadata": {
    "editable": true,
    "slideshow": {
     "slide_type": ""
    },
    "tags": []
   },
   "outputs": [],
   "source": [
    "favorite_food = \"pizza\"\n",
    "\n",
    "print(\"My favorite food is \" + favorite_food)\n",
    "\n",
    "favorite_food = input()\n",
    "\n",
    "print(\"Actually, nevermind. It really is \" + favorite_food)"
   ]
  },
  {
   "cell_type": "markdown",
   "id": "421f688c-79a6-44df-9dea-b5ce17e05e12",
   "metadata": {
    "editable": false,
    "slideshow": {
     "slide_type": ""
    },
    "tags": []
   },
   "source": [
    "Running the code above, you'll notice that the second `print()` function is not executed until the user has hit <kbd>Enter</kbd> after inserting something into the input field. The entire execution of the code pauses until the `input()` function is completed. Only then will the rest of the code below that line continue running. \n",
    "\n",
    "Sometimes, this kind of behavior of top-to-bottom execution is not what we want as programmers. Sometimes, we want to repeat a line of code repeatedly (for example, imagine a digital clock. It should update the time displayed on the screen every second). Sometimes, we want to execute some code only if a particular condition is met (for example, only if it's storming outside, a weather app would send a warning notification to the user).\n",
    "\n",
    "Those are just some examples of how we might want to alter our code's **control flow**. Keep that in mind, as we will return to that later in this exercise. \n",
    "\n",
    "## ✔️ Boolean Data Type\n",
    "([Back to top](#Table-of-Contents))\n",
    "\n",
    "Before learning about conditional control flow, we need to cover one more data type we haven't addressed yet. But don't worry; this one is even simpler than the ones you learned about so far. It's the **boolean**. \n",
    "\n",
    "A boolean is a very simple data type with only two possible values: `True` or `False` - which can also be understood as `0` and `1` or `on` and `off`. It's the most fundamental data type and essential for programming hardware. But also important when working with higher-level languages like Python. \n",
    "\n",
    "In Python, Booleans **have to start with a capital letter**. That's different in other programming languages. That's why it's important to note here. \n",
    "\n",
    "❌ This is wrong:"
   ]
  },
  {
   "cell_type": "code",
   "execution_count": 1,
   "id": "f3f27bd1-4dcd-4292-85c8-d2b63e7fa8bb",
   "metadata": {
    "editable": true,
    "slideshow": {
     "slide_type": ""
    },
    "tags": []
   },
   "outputs": [
    {
     "ename": "NameError",
     "evalue": "name 'true' is not defined",
     "output_type": "error",
     "traceback": [
      "\u001b[0;31m---------------------------------------------------------------------------\u001b[0m",
      "\u001b[0;31mNameError\u001b[0m                                 Traceback (most recent call last)",
      "Cell \u001b[0;32mIn[1], line 1\u001b[0m\n\u001b[0;32m----> 1\u001b[0m wrong_variable1 \u001b[38;5;241m=\u001b[39m \u001b[43mtrue\u001b[49m\n\u001b[1;32m      2\u001b[0m wrong_variable2 \u001b[38;5;241m=\u001b[39m false\n",
      "\u001b[0;31mNameError\u001b[0m: name 'true' is not defined"
     ]
    }
   ],
   "source": [
    "wrong_variable1 = true\n",
    "wrong_variable2 = false"
   ]
  },
  {
   "cell_type": "markdown",
   "id": "d131e077-e861-47e4-b129-e762af405d03",
   "metadata": {
    "editable": false,
    "slideshow": {
     "slide_type": ""
    },
    "tags": []
   },
   "source": [
    "✅ This is right:"
   ]
  },
  {
   "cell_type": "code",
   "execution_count": null,
   "id": "9c9d43c6-fd70-48d4-b9df-89afd40dcf33",
   "metadata": {
    "editable": true,
    "slideshow": {
     "slide_type": ""
    },
    "tags": []
   },
   "outputs": [],
   "source": [
    "right_variable1 = True\n",
    "right_variable2 = False"
   ]
  },
  {
   "cell_type": "markdown",
   "id": "15fc8341-e8c0-4fe4-9cfc-b27e86be8c92",
   "metadata": {
    "editable": false,
    "slideshow": {
     "slide_type": ""
    },
    "tags": []
   },
   "source": [
    "By themselves, booleans aren't too helpful. But they become very relevant with other features we will discuss below.\n",
    "\n",
    "## 🤝 Comparing Data\n",
    "([Back to top](#Table-of-Contents))\n",
    "\n",
    "One major use case of booleans is comparisons. You can compare two constants or variables in programming languages, like in math. Check out the examples below and then run the cell to see what the `print()` functions return."
   ]
  },
  {
   "cell_type": "code",
   "execution_count": null,
   "id": "0dc2122e-9feb-48a1-97d4-e009c514c5c2",
   "metadata": {
    "editable": true,
    "slideshow": {
     "slide_type": ""
    },
    "tags": []
   },
   "outputs": [],
   "source": [
    "print(1 < 2)\n",
    "\n",
    "print(1 > 2)"
   ]
  },
  {
   "cell_type": "markdown",
   "id": "3f267798-4107-4485-9d96-96bb59c288ec",
   "metadata": {
    "editable": false,
    "slideshow": {
     "slide_type": ""
    },
    "tags": []
   },
   "source": [
    "The first line prints `True` because `1` is smaller than `2`. The second line prints `False` because `1` is **not** greater than `2`. \n",
    "\n",
    "What about testing if two values are equal? Try running the code below."
   ]
  },
  {
   "cell_type": "code",
   "execution_count": null,
   "id": "53fe37c2-028d-41aa-ab89-f8215b5ab578",
   "metadata": {
    "editable": true,
    "slideshow": {
     "slide_type": ""
    },
    "tags": []
   },
   "outputs": [],
   "source": [
    "print(1 = 2)"
   ]
  },
  {
   "cell_type": "markdown",
   "id": "b9540bd7-36f2-4c3a-9dea-cf2eabd2c190",
   "metadata": {
    "editable": false,
    "slideshow": {
     "slide_type": ""
    },
    "tags": []
   },
   "source": [
    "Running the code will produce an error. Read it and try to fix the code using the suggestion from the error message. \n",
    "\n",
    "Because `=` is used to assign variables in Python, we can't use it for comparisons. So instead, you'd use two equal signs `==`.\n",
    "\n",
    "You can even use the two equal signs to compare if two strings are identical. They don't have to be numbers:"
   ]
  },
  {
   "cell_type": "code",
   "execution_count": null,
   "id": "27c8b859-6199-42e2-a5ce-cae45f7fe2bb",
   "metadata": {
    "editable": true,
    "slideshow": {
     "slide_type": ""
    },
    "tags": []
   },
   "outputs": [],
   "source": [
    "print(\"Apple\" == \"Banana\")"
   ]
  },
  {
   "cell_type": "markdown",
   "id": "1224f84f-8f3e-4281-abd0-2c3bf4e84e3b",
   "metadata": {
    "editable": false,
    "slideshow": {
     "slide_type": ""
    },
    "tags": []
   },
   "source": [
    "Run the code above. Then change it to `print` `True`.\n",
    "\n",
    "To compare if two values are greater/smaller **or** equal, you can combine the signs like this: "
   ]
  },
  {
   "cell_type": "code",
   "execution_count": null,
   "id": "bb00381c-d3b9-41ae-aba7-9fdf8df6618a",
   "metadata": {
    "editable": true,
    "slideshow": {
     "slide_type": ""
    },
    "tags": []
   },
   "outputs": [],
   "source": [
    "print(2 <= 2)\n",
    "\n",
    "print(3 >= 11)\n",
    "\n",
    "print(4 <= 1)\n",
    "\n",
    "print(9 >= 99)"
   ]
  },
  {
   "cell_type": "markdown",
   "id": "1dfaea6e-5187-4526-967d-8a7b39b7c88b",
   "metadata": {
    "editable": false,
    "slideshow": {
     "slide_type": ""
    },
    "tags": []
   },
   "source": [
    "Play around with the above code so that all four `print()` functions return `True`.\n",
    "\n",
    "Alright. Now, we know how to use comparisons to return boolean values. But what would we use that for in code? For that, we'll look at the final piece of this exercise: conditions.\n",
    "\n",
    "## 🔀 Conditions\n",
    "([Back to top](#Table-of-Contents))\n",
    "\n",
    "The most common scenario when you'd need comparisons and booleans is when writing **conditions**. A condition, in code, lets you write some code that is only executed **if** some condition is met. For example, only if the user's age is greater than 14 they will be allowed to purchase a product from your e-commerce website. \n",
    "\n",
    "Let's demonstrate what this looks like with a simple chatbot program:"
   ]
  },
  {
   "cell_type": "code",
   "execution_count": null,
   "id": "82eabb8a-9b48-4fea-99c1-4d42ca8235d4",
   "metadata": {
    "editable": true,
    "slideshow": {
     "slide_type": ""
    },
    "tags": []
   },
   "outputs": [],
   "source": [
    "print(\"Hi 👋! I'm Iris, your friendly chat bot!\")\n",
    "user_name = input(\"What is your name?\")\n",
    "print(\"Nice to meet you, \" + user_name + \"!\")\n",
    "\n",
    "user_age = input(\"And may I ask how old you are?\")\n",
    "\n",
    "if int(user_age) > 14:\n",
    "    print(\"Oh what a great age!\")\n",
    "else:\n",
    "    print(\"Nice! And you're already learning to program? That's crazy!\")"
   ]
  },
  {
   "cell_type": "markdown",
   "id": "8b069b19-a76a-4b96-bb7d-0138a45b53d7",
   "metadata": {
    "editable": false,
    "slideshow": {
     "slide_type": ""
    },
    "tags": []
   },
   "source": [
    "Run the code above. Make sure you answer the second question with a **number**. Otherwise, the code would break (as described in the previous exercise). Try to run it a few times and try to enter an age below 14 and one above 14. You will see that a different message is `print`ed out in either situation. \n",
    "\n",
    "If you look at the code, you'll probably already notice which part of the code is responsible for the different output. It's the so-called `if-else` statement. The code could be simplified like this: "
   ]
  },
  {
   "cell_type": "code",
   "execution_count": null,
   "id": "f510a3e5-1620-4c87-9432-5335d4e76484",
   "metadata": {
    "editable": true,
    "slideshow": {
     "slide_type": ""
    },
    "tags": []
   },
   "outputs": [],
   "source": [
    "user_age = 42\n",
    "\n",
    "if user_age > 14:\n",
    "    print(\"Oh what a great age!\")\n",
    "else:\n",
    "    print(\"Nice! And you're already learning to program? That's crazy!\")"
   ]
  },
  {
   "cell_type": "markdown",
   "id": "c4828df1-8875-4654-ae81-079be7c76f4c",
   "metadata": {
    "editable": false,
    "slideshow": {
     "slide_type": ""
    },
    "tags": []
   },
   "source": [
    "If the value of the `user_age` variable (`42`) is greater than `14`, print out the first message. Otherwise (`else`), return the second message. \n",
    "\n",
    "You can even write a condition without the `else` part. Check out this example: "
   ]
  },
  {
   "cell_type": "code",
   "execution_count": null,
   "id": "2f8ae193-fab8-44a8-9c0d-abdbf2d66a51",
   "metadata": {
    "editable": true,
    "slideshow": {
     "slide_type": ""
    },
    "tags": []
   },
   "outputs": [],
   "source": [
    "print(\"Hi 👋! I'm Iris, your friendly chat bot!\")\n",
    "user_name = input(\"What is your name?\")\n",
    "\n",
    "if user_name:\n",
    "    print(\"Nice to meet you, \" + user_name)\n",
    "\n",
    "print(\"Anyway. See you next time!\")"
   ]
  },
  {
   "cell_type": "markdown",
   "id": "cca9b3db-992e-4f61-b704-4a8680d88a4c",
   "metadata": {
    "editable": false,
    "slideshow": {
     "slide_type": ""
    },
    "tags": []
   },
   "source": [
    "Run this code a couple of times. Try entering a name and then rerun it, and don't enter anything at all, but only hit the <kbd>Enter</kbd> key on the keyboard. Pay close attention to what's printed out in either situation.\n",
    "\n",
    "If you don't enter any text, you'll notice that the `user_name` variable stays empty, and the line \"Nice to meet you [...]\" is not printed out.\n",
    "\n",
    "When Python detects an `if` statement in the code, it will look at the code that follows the `if` and see it evaluates to `True`. As you have learned above, comparisons like `user_age > 14` evaluate to `True`. But what about `user_name` from the example above? Well, that may sound a bit silly. But in Python, there are also \"truthy\" and \"falsy\" values. In other words, Python considers constants as either `True`-like or `False`-like. An empty string is considered \"falsy,\" while a string with at least one character is considered \"truthy.\" A `0` is considered \"falsy\" while a `1` or larger is considered truthy. That's why `if user_name` will be truthy or `True`-like if the user enters at least a single character for the name. It will be \"falsy\" if the user leaves the input field empty. \n",
    "\n",
    "Give it another try! There are three variables in the code below. Edit the values of each of the three variables so that all three `print()` statements are displayed. \n",
    "\n",
    "_(Side note: The word `pass` is another reserved word in Python that means precisely what the word would mean in a game, for example. It means to continue without doing anything.)_"
   ]
  },
  {
   "cell_type": "code",
   "execution_count": null,
   "id": "d791d754-8a3f-46cc-bba9-eb4c2cf3a826",
   "metadata": {
    "editable": true,
    "slideshow": {
     "slide_type": ""
    },
    "tags": []
   },
   "outputs": [],
   "source": [
    "# Edit these variable values: \n",
    "\n",
    "favorite_fruit = \"Banana\"\n",
    "favorite_number = 42\n",
    "favorite_food = \"pizza\"\n",
    "\n",
    "# Don't make any changes below this line:\n",
    "\n",
    "if favorite_fruit == \"Apple\":\n",
    "    print(\"That's my favorite fruit, too!\")\n",
    "\n",
    "if favorite_number > 42:\n",
    "    print(\"What a great number!\")\n",
    "\n",
    "if favorite_food == \"pizza\":\n",
    "    pass\n",
    "else:\n",
    "    print(\"Finally, somebody liking something other than pizza!\")"
   ]
  },
  {
   "cell_type": "markdown",
   "id": "ba0e8a18-05c3-4139-b4ba-c6be66a037b2",
   "metadata": {
    "editable": false,
    "slideshow": {
     "slide_type": ""
    },
    "tags": []
   },
   "source": [
    "### Code blocks\n",
    "\n",
    "When working with conditions, Python has to know somehow which code is part of the condition and which one isn't. Look at this code from before: "
   ]
  },
  {
   "cell_type": "code",
   "execution_count": null,
   "id": "5d11b12b-8c1b-43e0-bb5b-b91a7ead12ae",
   "metadata": {
    "editable": true,
    "slideshow": {
     "slide_type": ""
    },
    "tags": []
   },
   "outputs": [],
   "source": [
    "print(\"Hi 👋! I'm Iris, your friendly chat bot!\")\n",
    "user_name = input(\"What is your name?\")\n",
    "\n",
    "if user_name:\n",
    "    print(\"Nice to meet you, \" + user_name)\n",
    "\n",
    "print(\"Anyway. See you next time!\")"
   ]
  },
  {
   "cell_type": "markdown",
   "id": "228fe144-5078-4cfe-8c21-186e62cc7e1e",
   "metadata": {
    "editable": false,
    "slideshow": {
     "slide_type": ""
    },
    "tags": []
   },
   "source": [
    "How does Python know that the last `print()` statement is no longer part of the condition and should be printed out anyway?\n",
    "\n",
    "Maybe you have already guessed the answer based on what the code looks like visually. Programming languages have different methods of **grouping code** into so-called **blocks**. A code block is a group of one or more lines of code that all belong together. In if-statements, a code block defines which code should only be executed if a particular condition is met. Otherwise, the code block will be ignored.\n",
    "\n",
    "In Python, code blocks are defined using **indentation**. Other programming languages use parenthesis or specific special characters. \n",
    "\n",
    ">💡 **It's crucial to remember**: In Python, it has a functional impact whether or not code is indented!\n",
    ">\n",
    ">Most commonly, indentations are done with the <kbd>Tab</kbd>, but they can also be two spaces or four spaces deep. However, one space is not enough.\n",
    "\n",
    "Indentation alone is not enough, though. You can also see a `colon` at the end of the `if`- and `else` statements. Those colons are essential as they tell Python, \"Now follows a code block.\" Python will consider all the indented lines below, belonging to the code block, starting with the colon `:`. As soon as a line is un-indented again, Python considers the block to have ended.\n",
    "\n",
    "You can even create **nested blocks** - which means you can write a block inside a block inside a block inside a block ..."
   ]
  },
  {
   "cell_type": "code",
   "execution_count": null,
   "id": "12000ce6-81b6-4985-b4a8-7e8f8f29e36b",
   "metadata": {
    "editable": true,
    "slideshow": {
     "slide_type": ""
    },
    "tags": []
   },
   "outputs": [],
   "source": [
    "print(\"Hi 👋! I'm Iris, your friendly chat bot!\")\n",
    "user_name = input(\"What is your name?\")\n",
    "\n",
    "if user_name:\n",
    "    if user_name == \"Iris\":\n",
    "        print(\"How funny! That's my name, too!\")\n",
    "    else:\n",
    "        print(\"What a beautiful name!\")\n",
    "else:\n",
    "    print(\"Fine. Don't tell me your name.\")"
   ]
  },
  {
   "cell_type": "markdown",
   "id": "11db11e0-bc6a-49aa-bb8f-c179d84761e6",
   "metadata": {
    "editable": false,
    "slideshow": {
     "slide_type": ""
    },
    "tags": []
   },
   "source": [
    "Try running the code above a few times to get to every possible `print()` output. And as usual, feel free to edit and break things to see how they work. \n",
    "\n",
    "### Practice\n",
    "\n",
    "Alright. Enough explanations. It's time for you to write a few conditions from scratch. \n",
    "\n",
    "Complete the code below with the following features: \n",
    "\n",
    "1. Check if the user has entered any order. If the user hasn't entered an order, return an error message telling the user that they have to enter an order. If the user has made an order, `print()` a message repeating the order they made.\n",
    "2. **Only if** an order is made, create a new variable called `amount` and assign it to an `input()` function. Ask the user how many meals they want and store the result in the `amount` variable.\n",
    "3. If the `amount` is \"truthy,\" print the message telling the user which meal they have ordered and how many times. Otherwise, return the message \"Oh, I will cancel the order then.\" "
   ]
  },
  {
   "cell_type": "code",
   "execution_count": null,
   "id": "7367eb0f-a98b-4e6a-9514-7249d23c353a",
   "metadata": {
    "editable": true,
    "slideshow": {
     "slide_type": ""
    },
    "tags": []
   },
   "outputs": [],
   "source": [
    "print(\"Hi 👋! I'm Iris, the food order chat bot of your favorite restaurant!\")\n",
    "food_order = input(\"What is the name of the meal you'd like to order?\")\n",
    "\n",
    "# Write your code below:\n",
    "\n",
    "\n"
   ]
  },
  {
   "attachments": {},
   "cell_type": "markdown",
   "id": "8d3e9c0a-1f9f-42c9-834d-1caa94e42594",
   "metadata": {
    "editable": false,
    "slideshow": {
     "slide_type": ""
    },
    "tags": []
   },
   "source": [
    "<details>\n",
    "<summary style=\"border: 1px solid; border-radius: 3px; padding: 5px; display: inline-block; cursor: pointer;\">\n",
    "💡 Hint\n",
    "</summary>\n",
    "<p>\n",
    "\n",
    "1. To check if a variable exists, you must see if it's \"truthy.\" All you need to do for that is to write `if variable_name:` and replace `variable_name` with the name of the variable you'd like to check. Don't forget that you need the colon `:` at the end of the `if` statement. And pay close attention to the indentation.\n",
    "2. You can assign variables and add many lines of code within a single code block. So, to create a new variable `amount` inside the condition, ensure it's indented right below the `if` statement. Here is an example:\n",
    "\n",
    "```python\n",
    "if user_name:\n",
    "    user_age = input(\"How old are you?\")\n",
    "    print(user_age)\n",
    "```\n",
    "\n",
    "3. You can write conditions inside conditions. Make sure that the code block of the second condition is indented **twice** like the last line in the example below:\n",
    "\n",
    "```python\n",
    "if user_name: \n",
    "    user_age = input(\"How old are you?\")\n",
    "    if user_age: \n",
    "        print(user_age)\n",
    "```\n",
    "    \n",
    "</p>\n",
    "</details>"
   ]
  },
  {
   "cell_type": "markdown",
   "id": "2a47e305-fd93-4325-bdb9-1d6ca04293c6",
   "metadata": {
    "editable": false,
    "slideshow": {
     "slide_type": ""
    },
    "tags": []
   },
   "source": [
    "If you run into any issues, first try to understand the error message. Also, compare your results with the code from the examples above. And finally, you can use search engines or generative AI to help you identify where you may have made a mistake. \n",
    "\n",
    "We'll return to the temperature measurement converter for the final exercise. The code so far looks something like this:"
   ]
  },
  {
   "cell_type": "code",
   "execution_count": null,
   "id": "f42e5845-ff35-4812-816e-d3a4a9ad30f1",
   "metadata": {
    "editable": true,
    "slideshow": {
     "slide_type": ""
    },
    "tags": []
   },
   "outputs": [],
   "source": [
    "fahrenheit = input(\"Fahrenheit:\")\n",
    "\n",
    "celsius = (int(fahrenheit) - 32) * 5/9\n",
    "\n",
    "print(celsius)"
   ]
  },
  {
   "cell_type": "markdown",
   "id": "72c8186d-afa1-4efe-9927-7c668978c155",
   "metadata": {
    "editable": false,
    "slideshow": {
     "slide_type": ""
    },
    "tags": []
   },
   "source": [
    "The code works if you enter a number. But it'll break if you enter any other characters. That's because `float()` can only convert strings to numbers if the string only contains numbers. \n",
    "\n",
    "We can address that issue by combining what you learned above with another built-in function of Python. `.isnumeric()` is a function you can _attach_ to a string or a variable representing a string, and it'll return either `True` or `False` depending on whether the contents of the string are a **positive integer**. That's still not the perfect solution, as there may be situations when you want to check for negative values. But it'll suffice for now, and other solutions are a bit more complex and have to be covered later.\n",
    "\n",
    "You can use `.isnumeric()` by appending it to any string or variable. There must be **no space before or after the dot**."
   ]
  },
  {
   "cell_type": "code",
   "execution_count": null,
   "id": "122275e4-342e-4a5b-bafa-a8c3f61a9405",
   "metadata": {
    "editable": true,
    "slideshow": {
     "slide_type": ""
    },
    "tags": []
   },
   "outputs": [],
   "source": [
    "\"this is not a number\".isnumeric()"
   ]
  },
  {
   "cell_type": "code",
   "execution_count": null,
   "id": "dfcb7ddb-fe9a-4670-b288-f14f988aa228",
   "metadata": {
    "editable": true,
    "slideshow": {
     "slide_type": ""
    },
    "tags": []
   },
   "outputs": [],
   "source": [
    "\"42\".isnumeric()"
   ]
  },
  {
   "cell_type": "code",
   "execution_count": null,
   "id": "7002acd1-7b65-41a2-9d44-85e3b7d4e2de",
   "metadata": {
    "editable": true,
    "slideshow": {
     "slide_type": ""
    },
    "tags": []
   },
   "outputs": [],
   "source": [
    "number = \"1\"\n",
    "\n",
    "number.isnumeric()"
   ]
  },
  {
   "cell_type": "markdown",
   "id": "fcdd65e3-da6f-469d-8952-9d3462bf6c55",
   "metadata": {
    "editable": false,
    "slideshow": {
     "slide_type": ""
    },
    "tags": []
   },
   "source": [
    "Try running the code cells above. \n",
    "\n",
    "Now, with that newly gained knowledge, re-write the temperature measurement converter. It should only calculate and `print` the Celsius value if the `fahrenheit` variable is a **positive integer**. If it isn't, it should return to the user to please enter a positive, whole number."
   ]
  },
  {
   "cell_type": "code",
   "execution_count": null,
   "id": "b62622ec-3ed0-4585-a04f-ca3f917b7989",
   "metadata": {
    "editable": true,
    "slideshow": {
     "slide_type": ""
    },
    "tags": []
   },
   "outputs": [],
   "source": [
    "fahrenheit = input(\"Fahrenheit:\")\n",
    "\n",
    "# Insert your code below\n",
    "\n",
    "\n",
    "\n",
    "\n"
   ]
  },
  {
   "attachments": {},
   "cell_type": "markdown",
   "id": "3f50b9bd-f66b-4994-9aeb-7ca00d4c3ec7",
   "metadata": {
    "editable": false,
    "slideshow": {
     "slide_type": ""
    },
    "tags": []
   },
   "source": [
    "<details>\n",
    "<summary style=\"border: 1px solid; border-radius: 3px; padding: 5px; display: inline-block; cursor: pointer;\">\n",
    "💡 Hint\n",
    "</summary>\n",
    "<p>\n",
    "\n",
    "Don't forget the colon `:` after `if`- and `else` statements. Also, don't forget to indent the correct lines. The assignment of the `celsius` variable should only happen inside the `if` code block. The `if` statement should check if `fahrenheit` is a number with the `.isnumeric()` function.\n",
    "    \n",
    "</p>\n",
    "</details>"
   ]
  },
  {
   "attachments": {},
   "cell_type": "markdown",
   "id": "6da82543-a11e-402b-a002-581197242e29",
   "metadata": {
    "editable": false,
    "slideshow": {
     "slide_type": ""
    },
    "tags": []
   },
   "source": [
    "## 🏡 How to try this at home\n",
    "([Back to top](#Table-of-Contents))\n",
    "\n",
    "You now have learned some of the most essential features of every programming language. Conditions, booleans, and comparisons are the building blocks of most programming logic. They allow you to build powerful software and react to user input differently.\n",
    "\n",
    "To practice this further, create a new Python file on your computer. You can expand on the chatbot idea and build more complex conversations. Come up with different responses and reactions based on the user's input. \n",
    "\n",
    "Alternatively, you could try and come up with a very simple version of a text-adventure like the classic [Zork](https://en.wikipedia.org/wiki/Zork) or interactive stories. \n",
    "\n",
    "Make sure to spend some time with this to get used to writing longer and more complex bits of code."
   ]
  }
 ],
 "metadata": {
  "kernelspec": {
   "display_name": "Python 3 (ipykernel)",
   "language": "python",
   "name": "python3"
  },
  "language_info": {
   "codemirror_mode": {
    "name": "ipython",
    "version": 3
   },
   "file_extension": ".py",
   "mimetype": "text/x-python",
   "name": "python",
   "nbconvert_exporter": "python",
   "pygments_lexer": "ipython3",
   "version": "3.11.3"
  }
 },
 "nbformat": 4,
 "nbformat_minor": 5
}
