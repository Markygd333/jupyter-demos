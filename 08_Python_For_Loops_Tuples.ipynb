{
 "cells": [
  {
   "cell_type": "markdown",
   "metadata": {},
   "source": [
    "# Python Basics 8: For Loops & Tuples\n",
    "\n",
    "This exercise is part of a series. Each exercise assumes the reader has completed and understood the learning outcomes of the previous exercises.\n",
    "\n",
    "## Table of Contents\n",
    "\n",
    "- [🎯 Lesson outcome](#🎯-Lesson-outcome)\n",
    "- [🔂 For-Loops](#🔂-for-loops)\n",
    "- [⛓️ Tuples](#⛓️-tuples)\n",
    "- [📦 Unpacking](#📦-unpacking)\n",
    "- [🔢 For Loops with Index](#🔢-for-loops-with-index)\n",
    "- [🏡 How to try this at home](#🏡-How-to-try-this-at-home)\n",
    "\n",
    "## 🎯 Lesson outcome\n",
    "([Back to top](#Table-of-Contents))\n",
    "\n",
    "In this lesson, you will work with another type of loop that works particularly well with lists to perform operations on the various list items. You'll also learn to use yet another complex data type (the tuple) to simplify working with loops and lists.\n"
   ]
  },
  {
   "cell_type": "markdown",
   "metadata": {},
   "source": [
    "## 🔂 For-Loops\n",
    "([Back to top](#Table-of-Contents))\n",
    "\n",
    "For the final part of this lesson, you're going to learn about another type of loop. You already learned about the `while` loop. The `for` loop is another way to repeat code multiple times. But instead of looping code based on a condition it repeats code based on items in a sequence (such as items in a list, or characters in a string).\n",
    "\n",
    "A for loop allows you to iterate over all the items in a list and execute code for each member of the list. This is used in a large number of applications. In web applications or mobile apps `for`-loops are used all the time to make lists more visually appealing and add visual elements such as bullet points, line breaks, or checkboxes to each of the list items. Run the code below to see an example:"
   ]
  },
  {
   "cell_type": "code",
   "execution_count": null,
   "metadata": {},
   "outputs": [],
   "source": [
    "shopping_list = [\"cookies\", \"chocolate\", \"potatoes\", \"bananas\", \"flowers\", \"beans\"]\n",
    "\n",
    "# Display list without for-loop: \n",
    "print(shopping_list)\n",
    "\n",
    "# Make the list more visually appealing using a for-loop:\n",
    "for shopping_item in shopping_list:\n",
    "  print(\"----------\")\n",
    "  print(\"✅ \" + shopping_item)"
   ]
  },
  {
   "cell_type": "markdown",
   "metadata": {},
   "source": [
    "You can see that if you print the list as is it'll look basically like a Python list with square brackets and isn't particularly visually appealing. \n",
    "\n",
    "The `for`-loop, however, lets you run multiple lines of code for each item in the list. \n",
    "\n",
    "The syntax of a `for`-loop is always: \n",
    "\n",
    "```python\n",
    "for item_variable in list_variable:\n",
    "```\n",
    "\n",
    "After the `for` keyword you define a new variable name that's only available inside each loop iteration. You can replace `item_variable` with any name you like. During each iteration, this variable is going to represent the currently selected item. Run the code above again to see what that means in action. Change the `print()` statements around and play with the code to help you understand how it works. It's not an easy concept if you hear about it for the first time!\n",
    "\n",
    "After the variable name of the iterating item follows the keyword `in` followed by the elements that are iterated upon. In this case, we're iterating on a list. That list is stored in a variable. You could also iterate on a list like this: \n",
    "\n",
    "```python\n",
    "for item in [\"list item 1\", \"list item 2\", \"list item 3\"]:\n",
    "```\n",
    "\n",
    "And just like with other code blocks don't forget the colon (`:`) at the end of the line.\n",
    "\n",
    "Now, it's your turn to try it out in an example. We're going to create a little game simulation. In the game, there will be three players. Each will roll a six-sided die. The player with the highest number wins. \n",
    "\n",
    "In the code cell below is already a bit of code to get you started. Don't worry if you don't understand some of it. We'll talk about it next. For now, make sure you write your code in between the two comments.\n",
    "\n",
    "- Declare a new variable called `players` and assign it to a list. The list should contain at least three names as strings.\n",
    "- Declare a second variable called `dice_rolls` and make that an empty list.\n",
    "- Then, create a `for`-loop and iterate over the list of players. \n",
    "- Inside that loop, for each player generate a random number between `1` and `6` (as a reminder: You can use `random.randint(start_number, end_number)`).\n",
    "- Append the random number to the `dice_rolls` list in the for loop. \n",
    "\n",
    "_(Tipp: While writing the code it can be helpful to use `print()` statements throughout to see on the screen what happens. This can be a useful tool to look inside loops and see what happens on each iteration.)_\n",
    "\n",
    "If everything went correctly, running the code should display for each of the players one of the randomly generated numbers. "
   ]
  },
  {
   "cell_type": "code",
   "execution_count": null,
   "metadata": {},
   "outputs": [],
   "source": [
    "import random\n",
    "\n",
    "# 👇 Add your code below\n",
    "\n",
    "\n",
    "\n",
    "\n",
    "\n",
    "\n",
    "# 👆 Add your code above (✋ Don't change any of the code below!)\n",
    "\n",
    "for index, player in enumerate(players):\n",
    "  print(player + \" rolled a \" + str(dice_rolls[index]))"
   ]
  },
  {
   "cell_type": "markdown",
   "metadata": {},
   "source": [
    "<details>\n",
    "<summary style=\"border: 1px solid; border-radius: 3px; padding: 5px; display: inline-block; cursor: pointer;\">\n",
    "💡 Hint\n",
    "</summary>\n",
    "<p>\n",
    "\n",
    "When creating a `for`-loop remember that you need to assign a variable to represent the iterated item. For example: \n",
    "\n",
    "```python\n",
    "game = [\"chess\", \"checkers\", \"poker\"]\n",
    "\n",
    "for game in games:\n",
    "  print(game)\n",
    "```\n",
    "\n",
    "To append an item to a list you can use the `.append()` method. For example:\n",
    "\n",
    "```python\n",
    "numbers = []\n",
    "\n",
    "random_number = random.randint(1,100)\n",
    "\n",
    "game.append(random_number)\n",
    "```\n",
    "\n",
    "You can combine those two ideas to solve the task.\n",
    "\n",
    "</p>\n",
    "</details>"
   ]
  },
  {
   "cell_type": "markdown",
   "metadata": {},
   "source": [
    "If you look at the code that was already previously written in the code cell above you can see a `for`-loop but it looks slightly different from what you learned before. Specifically, it has two comma-separated variables defined for each iteration: `index` and `player` and makes use of a function called `enumerate()`. \n",
    "\n",
    "To understand how this code works you need to learn about two additional concepts: **tuples** and **unpacking**.\n",
    "\n",
    "## ⛓️ Tuples\n",
    "([Back to top](#Table-of-Contents))\n",
    "\n",
    "A **tuple** is a **complex data type** much like a **list** in Python with a single key difference: A list is **mutable** while a tuple is **immutable**. Those are programming terms that mean that items in lists can change, be added or be removed throughout the code. Items in **tuples** cannot be changed.\n",
    "\n",
    "Instead of square brackets, a tuple is written with regular parentheses."
   ]
  },
  {
   "cell_type": "code",
   "execution_count": null,
   "metadata": {},
   "outputs": [],
   "source": [
    "room_dimensions = (10, 20, 3)\n",
    "\n",
    "# room_dimensions[0] = 15\n",
    "# room_dimensions.append(3)\n",
    "\n",
    "print(room_dimensions)"
   ]
  },
  {
   "cell_type": "markdown",
   "metadata": {},
   "source": [
    "Run the code above. Then try uncommenting the two commented-out lines of code one by one and run the code each time again.\n",
    "\n",
    "As you can see, tuples cannot be changed. That can be useful when dealing with data you rely on staying the same throughout the application runtime and there is no way it could ever accidentally be changed. One such situation you already saw in the game simulation above and we're going to look at it again below.\n",
    "\n",
    "## 📦 Unpacking\n",
    "([Back to top](#Table-of-Contents))\n",
    "\n",
    "**Unpacking** is also known as **destructuring** in other programming languages. It's a feature of some programming languages that lets you assign multiple variables all at once. \n",
    "\n",
    "Let's say you want to assign different items from a list or a tuple all to its own variable. You can do that by writing the different variable names you want to assign and separating them by commas.\n",
    "\n",
    "Run the code below and try to understand the error message before carrying on."
   ]
  },
  {
   "cell_type": "code",
   "execution_count": null,
   "metadata": {},
   "outputs": [],
   "source": [
    "room_width, room_length = (10, 20, 3)\n",
    "\n",
    "print(room_width)\n",
    "print(room_length)\n",
    "\n"
   ]
  },
  {
   "cell_type": "markdown",
   "metadata": {},
   "source": [
    "The error tells you that there are more items in the tuple than the variables assigned. Fix the code by unpacking a third variable: `room_height`. Print that variable as well.\n",
    "\n",
    "**Unpacking** also works with lists. In the code cell below, you see already a print statement with four variables in it. Declare those four variables using **unpacking** on a list. "
   ]
  },
  {
   "cell_type": "code",
   "execution_count": null,
   "metadata": {},
   "outputs": [],
   "source": [
    "# 👇 Add your code below\n",
    "\n",
    "\n",
    "\n",
    "\n",
    "\n",
    "\n",
    "# 👆 Add your code above\n",
    "\n",
    "print(\n",
    "  favorite_fruit,\n",
    "  favorite_vegetable,\n",
    "  favorite_color,\n",
    "  favorite_animal\n",
    ")"
   ]
  },
  {
   "cell_type": "markdown",
   "metadata": {},
   "source": [
    "<details>\n",
    "<summary style=\"border: 1px solid; border-radius: 3px; padding: 5px; display: inline-block; cursor: pointer;\">\n",
    "💡 Hint\n",
    "</summary>\n",
    "<p>\n",
    "\n",
    "You can use unpacking on an array like this: \n",
    "\n",
    "```python\n",
    "first_item, second_item = [42, 24]\n",
    "```\n",
    "\n",
    "- Make sure to use commas when assigning the variables.\n",
    "- Make sure you have an equal number of items in the list as variables assigned. \n",
    "\n",
    "</p>\n",
    "</details>"
   ]
  },
  {
   "cell_type": "markdown",
   "metadata": {},
   "source": [
    "## 🔢 For Loops with Index\n",
    "([Back to top](#Table-of-Contents))\n",
    "\n",
    "In the game simulation above we made use of the built-in function `enumerate()`. We did that with one specific purpose. During each iteration, we needed the **index** of the current item so that we could find the dice roll with the same index as the name of the player.\n",
    "\n",
    "Here is a complete example for you to try out:"
   ]
  },
  {
   "cell_type": "code",
   "execution_count": null,
   "metadata": {},
   "outputs": [],
   "source": [
    "players = [\"Samantha\", \"Sam\", \"Sammy\"]\n",
    "dice_rolls = [2, 4, 1]\n",
    "\n",
    "for index, player in enumerate(players):\n",
    "  cureent_players_dice_roll = dice_rolls[index]\n",
    "  print(player + \" rolled a \" + str(cureent_players_dice_roll))"
   ]
  },
  {
   "cell_type": "markdown",
   "metadata": {},
   "source": [
    "Can you spot the **unpacking**?\n",
    "\n",
    "Remember, in a for-loop, you define a variable for each iteration that represents one item from the list you're iterating on. And because you're essentially declaring a variable, you can use **unpacking** in that step. That allows us to write `for index, player` here. \n",
    "\n",
    "With that knowledge, you might already guess what `enumerate()` does. `enumerate()` returns an iterable sequence where each item in the sequence is a **tuple** with the first item being the item index and the second one the item's value. The exact object type `enumerate()` returns is not quite simple and beyond the scope of this tutorial. For now, all you need to know is that it returns something that is **like** a list but not exactly a list type. However, you can use the `list()` function to convert it to a regular **list of tuples**.\n",
    "\n",
    "Run the code below and play around with it a bit to help you try and understand how it works:"
   ]
  },
  {
   "cell_type": "code",
   "execution_count": null,
   "metadata": {},
   "outputs": [],
   "source": [
    "my_list = [\"apple\", \"banana\", \"mango\"]\n",
    "\n",
    "print(\"List:\", my_list)\n",
    "\n",
    "my_enumerated_list = enumerate(my_list)\n",
    "\n",
    "print(\"Enumerate object (🥸 acts like a list but is not a list):\", my_enumerated_list)\n",
    "\n",
    "my_enumerated_list_converted_back_to_a_list = list(my_enumerated_list)\n",
    "\n",
    "print(\"List of tuples:\", my_enumerated_list_converted_back_to_a_list)"
   ]
  },
  {
   "cell_type": "markdown",
   "metadata": {},
   "source": [
    "Don't worry about how `enumerate()` works exactly. At this point, it's just important to see that it returns a sequence where it tells you the index for each item in a list. This is useful when using `for`-loops because it gives you access to an item's index during each iteration. Since it's a pair of two elements (the index and the actual item value) you then need to define two variables in the `for`-loop. Again, you can name those two variables whatever you want. But to keep the code understandable it makes sense to just call the first one `index` (or `i` for short) and the second one a meaningful name of the individual list item.\n",
    "\n",
    "We'll practice using `enumerate()` again in the final exercise of this lesson."
   ]
  },
  {
   "cell_type": "markdown",
   "metadata": {},
   "source": [
    "## 🏡 How to try this at home\n",
    "([Back to top](#Table-of-Contents))\n",
    "\n",
    "In this exercise, you may reuse what you worked on in the previous lesson when building a **to-do list application**. If you haven't done that task yet, now is a good time to catch up.\n",
    "\n",
    "1. First, create a simple to-do list application (in its own Python file) with the following main features:\n",
    "  - The user can choose whether to add an item, remove an item (by its index), or exit the application.\n",
    "  - The user may perform any of the first two actions multiple times without exiting the program. \n",
    "  - Errors are handled gracefully so that the application doesn't crash if the user, e.g., enters an index that's not in the list.\n",
    "2. New: Add a third option to the application. Let the user also choose to \"show\" the current list of tasks. \n",
    "3. When the user chooses to \"show\" the list, print each individual list item on its own line on the screen. At the start of each line write the **index** followed by a dot before displaying the actual task. It should end up looking like a numbered list (like this one you're reading right now).\n",
    "4. While computers start counting at 0, humans don't tend to do that. Add `1` to each of the displayed indexes in the loop. And when the user enters a number to delete let them enter the displayed number and **not** the index. You'll need to do some simple math operations in a couple of places to achieve this. "
   ]
  },
  {
   "cell_type": "markdown",
   "metadata": {},
   "source": [
    "--- \n",
    "\n",
    "_Author: Samuel Boguslawski - Current Version: Feb 2, 2024 - © 2024 Licensed under [CC BY-NC 4.0](https://creativecommons.org/licenses/by-nc/4.0/?ref=chooser-v1)_"
   ]
  }
 ],
 "metadata": {
  "kernelspec": {
   "display_name": "Python 3 (ipykernel)",
   "language": "python",
   "name": "python3"
  },
  "language_info": {
   "codemirror_mode": {
    "name": "ipython",
    "version": 3
   },
   "file_extension": ".py",
   "mimetype": "text/x-python",
   "name": "python",
   "nbconvert_exporter": "python",
   "pygments_lexer": "ipython3",
   "version": "3.10.10"
  }
 },
 "nbformat": 4,
 "nbformat_minor": 4
}
