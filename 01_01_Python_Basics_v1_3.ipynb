{
 "cells": [
  {
   "cell_type": "markdown",
   "id": "29b9c1d3",
   "metadata": {},
   "source": [
    "# Python for beginners\n",
    "\n",
    "## 👋 Welcome! \n",
    "\n",
    "This is a short introduction to Python.\n",
    "\n",
    "### Prerequisites\n",
    "\n",
    "There are no prerequisites for this course. You only need a general interest and excitement to learn programming.\n",
    "\n",
    "### Table of Contents\n",
    "\n",
    "- [🤔 How this course works](#🤔-How-this-course-works)\n",
    "- [🐍 This is Python](#🐍-This-is-Python)\n",
    "- [🐣 Hello World](#🐣-Hello-World)\n",
    "- [🅰️ Simple data types and strings](#🅰%EF%B8%8F-Simple-data-types-and-strings)\n",
    "- [1️⃣ Numbers and basic math](#1%EF%B8%8F⃣-Numbers-and-basic-math)\n",
    "- [📂 Variables](#📂-Variables)\n",
    "- [🏡 How to try this at home](#🏡-How-to-try-this-at-home)\n"
   ]
  },
  {
   "cell_type": "markdown",
   "id": "21f48558",
   "metadata": {},
   "source": [
    "> 🌚 This course is using a **Jupyter Notebook** to make the content interactive. If you haven't used Jupyter Notebooks before or want to understand why/how we're using it for this course, click on the button below.\n",
    "\n",
    "<details>\n",
    "<summary style=\"border: 1px solid; border-radius: 3px; padding: 5px; display: inline-block; cursor: pointer; margin-top: 10px;\">\n",
    "💡 <b>Jupyter what?</b>\n",
    "</summary>\n",
    "<p>\n",
    "\n",
    "<img src=\"https://images.pexels.com/photos/12498752/pexels-photo-12498752.jpeg?auto=compress&cs=tinysrgb&w=1260&h=750&dpr=1\" alt=\"jupiter planet\" style=\"max-width: 200px;\"/>\n",
    "\n",
    "You're currently looking at so-called a **Jupyter Notebook**. A Jupyter Notebook is a simple **file** that can be opened with particular piece of software either in the web browser or an application on your computer (just like Word or Powerpoint files). \n",
    "Jupyter Notebooks let you write longer pieces of text (like the one you're reading) and mix in some executable code (like the one below). You can make changes to the code and execute it right in this file inline. \n",
    "    \n",
    "Throughout this course, you'll often encounter these code snippets. You will be asked to make changes to the code and then execute it. That's because practice and writing code by hand is the best and most effective way to learn programming!\n",
    "\n",
    "Jupyter Notebooks consist of many different **cells**. Those are either Markdown-formatted text (like this one) or code (like the one below). If you ever see the raw Markdown and wonder how you get the nice formatting back, you just hit the \"Run\" button or `Ctrl` + `Enter` to \"execute\" the Markdown code and format it into something nice and pretty.\n",
    "    \n",
    "If you want to edit a cell (e.g., to change the code) you can click on it and then hit the `Enter` key on your keyboard. To stop editing a cell, hit the `Escape` key on your keyboard.\n",
    "\n",
    ">**🛠 Try it out now!**\n",
    ">\n",
    ">Click on the code snippet below. Then click on the button at the top of the screen that says \"Run\". Alternatively, while you have the code snippet selected, you can also hit the `Ctrl` + `Enter` keys on your keyboard.\n",
    "\n",
    "</p>\n",
    "</details>"
   ]
  },
  {
   "cell_type": "code",
   "execution_count": null,
   "id": "48c9d9de",
   "metadata": {},
   "outputs": [],
   "source": [
    "x = 1\n",
    "y = 2\n",
    "z = x + y\n",
    "\n",
    "print(f'Adding the number {x} and {y} results in {z}')"
   ]
  },
  {
   "cell_type": "markdown",
   "id": "b0504493",
   "metadata": {},
   "source": [
    "## 🤔 How this course works\n",
    "([Back to top](#👋-Welcome!))\n",
    "\n",
    "This course is highly interactive. The entire point of using Jupyter Notesbooks is so that you get to try out what you have learned immediately right here in the context of the code.\n",
    "\n",
    ">**💡 Only by writing code by hand you'll actually learn!**\n",
    "\n",
    "_But what if I get errors?_ **🚀 Don't Panic!**\n",
    "\n",
    "Make sure to do the exercises and **don't be afraid to break things**. The whole point is for you to try things out and getting errors is a good thing! Programmers deal with errors the majority of the day. The point of an error is to help you understand how to fix your code. So make sure to actually read it and try to understand what it tries to tell you. \n",
    "\n",
    "If you can't figure out what the error tells you, you can also try to copy parts of it and paste it into **Google** to see if someone has had the same issue before. (Yes, that's exactly how most senior programmers also do it!)\n",
    "\n",
    "## 🐍 This is Python\n",
    "([Back to top](#👋-Welcome!))\n",
    "\n",
    "This course is about learning the **programming language Python**. So at this point, you've probably already made a conscious decision to learn Python and not another programming language. \n",
    "\n",
    "But just in case the decision wasn't particularly conscious or voluntarily let's quickly understand why one might want to learn Python in the first place. \n",
    "\n",
    "Python is a so-called **interpreted programming language**. That means, you need a piece of software (called \"Python\") installed on your computer in order to execute Python code. This piece of software is called an **interpreter** and it converts the Python code on the fly into something that is understandable by the machine and ultimately the hardware of your computer. It would be quite tedious to write code in a way that the processor of your computer could understand it directly. That's why we have **interpreters** that allow us to write code that is more easily understandable by humans and that converts that for us to the more complex code that's understandable by your computer. \n",
    "\n",
    "There are other programming languages (like C++ or Rust) that don't use **interpreters** but **compilers**. The compiler will do this \"translation to machine code\" once during the development process and the user only ends up with a simple file, e.g. an `.exe` file. This file can be executed from users without having to have an interpreter installed. That's why a lot of larger software (like the web browser you're using right now) is written that way. You don't need any additional software installed in order to open the web browser. If the web browser was written in Python, you'd have to have Python installed in order to start up the web browser. \n",
    "\n",
    "The nice thing about interpreted languages is that you can very easily work directly with the code, make changes quickly, etc. That's why Python is super popular with data scientists and researchers who want to quickly do some calculations, see results, and make adjustments.\n",
    "\n",
    "Python is also popular for other reasons with researchers. But that's one of them. Due to it's growing popularity with data science in the recent years, Python has seen a bit of a revival and has also grown in popularity in other areas again like web development."
   ]
  },
  {
   "cell_type": "markdown",
   "id": "89e37a19",
   "metadata": {},
   "source": [
    "## 🐣 Hello World\n",
    "([Back to top](#👋-Welcome!))\n",
    "\n",
    "The first program everyone learning a programming language writes is the so-called [\"Hello World\"](https://en.wikipedia.org/wiki/%22Hello,_World!%22_program). All the program does is that it returns the text `\"Hello World\"` and outputs that on the screen of the user. \n",
    "\n",
    "In Python, you write a single line of code to output the text \"Hello World\" on the screen: \n",
    "\n",
    "```python\n",
    "print(\"Hello World\")\n",
    "```\n",
    "\n",
    ">**🛠 Try it!**\n",
    ">\n",
    ">Click on the code cell below and write exactly the Python code in there to display \"Hello World\". \n",
    ">\n",
    ">To try out and execute the code, click on the line and hit the \"Run\" button at the top. Or after having clicked on the line of code hit `Ctrl` + `Enter` on your keyboard. "
   ]
  },
  {
   "cell_type": "code",
   "execution_count": null,
   "id": "835e6d0e",
   "metadata": {},
   "outputs": [],
   "source": []
  },
  {
   "cell_type": "markdown",
   "id": "a10b53d7",
   "metadata": {},
   "source": [
    "<details>\n",
    "<summary style=\"border: 1px solid; border-radius: 3px; padding: 5px; display: inline-block; cursor: pointer;\">\n",
    "🎯 Reveal Solution\n",
    "</summary>\n",
    "<p>\n",
    "\n",
    "```python\n",
    "print(\"Hello World\")\n",
    "```\n",
    "    \n",
    "</p>\n",
    "</details>"
   ]
  },
  {
   "cell_type": "markdown",
   "id": "a3ea4286",
   "metadata": {},
   "source": [
    "Sooner or later you will notice this. But in programming, every character (and in Python even spaces and tabs) counts! You can break entire programs by forgetting one character or space. So it's very important to work very accurately.\n",
    "\n",
    "But for now 🎉 **congrats!** You have written your first Python program!\n",
    "\n",
    "`print()` is a **function**. You'll learn about functions later. They are predefined pieces of code that do some thing automatically for you. You can write your own functions. But Python also comes with a lot of them predesigned for you. You can use them to automatically generate random numbers or do other fun things. The `print()` function will output whatever is written between the parentheses `()` on the screen. This can really be anything."
   ]
  },
  {
   "cell_type": "code",
   "execution_count": 30,
   "id": "40d3561a",
   "metadata": {},
   "outputs": [
    {
     "name": "stdout",
     "output_type": "stream",
     "text": [
      "42\n"
     ]
    }
   ],
   "source": [
    "print(42)"
   ]
  },
  {
   "cell_type": "code",
   "execution_count": 32,
   "id": "5ed7e192",
   "metadata": {},
   "outputs": [
    {
     "name": "stdout",
     "output_type": "stream",
     "text": [
      "This is some random text\n"
     ]
    }
   ],
   "source": [
    "print(\"This is some random text\")"
   ]
  },
  {
   "cell_type": "markdown",
   "id": "b6bcc49d",
   "metadata": {},
   "source": [
    "## 🅰️ Simple data types and strings\n",
    "([Back to top](#👋-Welcome!))\n",
    "\n",
    "And with this you have also already encountered another important concept: **data types**. There are many different data types. But two very important ones are **numbers** and **strings**. \n",
    "\n",
    "Numbers are mostly self-explanatory and we'll talk about them in a second.\n",
    "\n",
    "Strings are pieces of text (that may also include numbers). Strings always start and end with either double quotes `\"` or single quotes `'`. It's extremely important that these quotes come in pairs! With the first quotes `\"` you tell Python \"Here comes a string!\". And Python will assume everything that follows is part of the string until you write another set of quotes `\"`. \n",
    "\n",
    "Check out this code, for example. Try to execute it and then inspect the error: \n",
    "\n",
    ">🛠 Can you fix the code below?"
   ]
  },
  {
   "cell_type": "code",
   "execution_count": 34,
   "id": "63ddc23b",
   "metadata": {},
   "outputs": [
    {
     "ename": "SyntaxError",
     "evalue": "unterminated string literal (detected at line 1) (3123124620.py, line 1)",
     "output_type": "error",
     "traceback": [
      "\u001b[0;36m  Cell \u001b[0;32mIn[34], line 1\u001b[0;36m\u001b[0m\n\u001b[0;31m    print(\"I'm a broken string.)\u001b[0m\n\u001b[0m          ^\u001b[0m\n\u001b[0;31mSyntaxError\u001b[0m\u001b[0;31m:\u001b[0m unterminated string literal (detected at line 1)\n"
     ]
    }
   ],
   "source": [
    "print(\"I'm a broken string.)"
   ]
  },
  {
   "cell_type": "markdown",
   "id": "49f098b5",
   "metadata": {},
   "source": [
    "<details>\n",
    "<summary style=\"border: 1px solid; border-radius: 3px; padding: 5px; display: inline-block; cursor: pointer;\">\n",
    "🎯 Reveal Solution\n",
    "</summary>\n",
    "<p>\n",
    "\n",
    "```python\n",
    "print(\"I'm a broken string.\")\n",
    "```\n",
    "    \n",
    "</p>\n",
    "</details>"
   ]
  },
  {
   "cell_type": "markdown",
   "id": "b77bf2b7",
   "metadata": {},
   "source": [
    "What you may have noticed in the example above: The string actually is wrapped inside double-quotes `\"` but contains a single set of single quotes `'`. In Python you can actually use either of those to mark the beginning and end of a string. But it's very important that you use the same one both for the beginning and the end. \n",
    "\n",
    "If you want to use either of those as part of the string text you can use the other to mark the beginning and end of the string. \n",
    "\n",
    "Alternatively, you can also use a backslash `\\` like this: "
   ]
  },
  {
   "cell_type": "code",
   "execution_count": 35,
   "id": "1be7590b",
   "metadata": {},
   "outputs": [
    {
     "name": "stdout",
     "output_type": "stream",
     "text": [
      "I'm a working string\n"
     ]
    }
   ],
   "source": [
    "print('I\\'m a working string')"
   ]
  },
  {
   "cell_type": "markdown",
   "id": "4e24370a",
   "metadata": {},
   "source": [
    "In the example above, try to play around with the different types of quotes and `\\` backslash. Try to get a feel for what happens when you move things around. \n",
    "\n",
    ">🛠 Then, try to solve the broken pieces of code below:"
   ]
  },
  {
   "cell_type": "code",
   "execution_count": 36,
   "id": "79fff07f",
   "metadata": {},
   "outputs": [
    {
     "ename": "SyntaxError",
     "evalue": "invalid syntax. Perhaps you forgot a comma? (3190892973.py, line 1)",
     "output_type": "error",
     "traceback": [
      "\u001b[0;36m  Cell \u001b[0;32mIn[36], line 1\u001b[0;36m\u001b[0m\n\u001b[0;31m    print(\"This string is supposed to say \"Hello World\"!\")\u001b[0m\n\u001b[0m          ^\u001b[0m\n\u001b[0;31mSyntaxError\u001b[0m\u001b[0;31m:\u001b[0m invalid syntax. Perhaps you forgot a comma?\n"
     ]
    }
   ],
   "source": [
    "print(\"This string is supposed to say \"Hello World\"!\")"
   ]
  },
  {
   "cell_type": "code",
   "execution_count": 37,
   "id": "4ffc3c45",
   "metadata": {},
   "outputs": [
    {
     "ename": "SyntaxError",
     "evalue": "unterminated string literal (detected at line 1) (600168220.py, line 1)",
     "output_type": "error",
     "traceback": [
      "\u001b[0;36m  Cell \u001b[0;32mIn[37], line 1\u001b[0;36m\u001b[0m\n\u001b[0;31m    print('This is not quite right\")\u001b[0m\n\u001b[0m          ^\u001b[0m\n\u001b[0;31mSyntaxError\u001b[0m\u001b[0;31m:\u001b[0m unterminated string literal (detected at line 1)\n"
     ]
    }
   ],
   "source": [
    "print('This is not quite right\")"
   ]
  },
  {
   "cell_type": "code",
   "execution_count": 39,
   "id": "0bc14a53",
   "metadata": {},
   "outputs": [
    {
     "ename": "SyntaxError",
     "evalue": "unterminated string literal (detected at line 1) (2346512044.py, line 1)",
     "output_type": "error",
     "traceback": [
      "\u001b[0;36m  Cell \u001b[0;32mIn[39], line 1\u001b[0;36m\u001b[0m\n\u001b[0;31m    print('I'm very happy to have written my first \"Hello World\" program!')\u001b[0m\n\u001b[0m                                                                         ^\u001b[0m\n\u001b[0;31mSyntaxError\u001b[0m\u001b[0;31m:\u001b[0m unterminated string literal (detected at line 1)\n"
     ]
    }
   ],
   "source": [
    "print('I'm very happy to have written my first \"Hello World\" program!')"
   ]
  },
  {
   "cell_type": "markdown",
   "id": "52a596d2",
   "metadata": {},
   "source": [
    "<details>\n",
    "<summary style=\"border: 1px solid; border-radius: 3px; padding: 5px; display: inline-block; cursor: pointer;\">\n",
    "🎯 Reveal Solution\n",
    "</summary>\n",
    "<p>\n",
    "    \n",
    "There are multiple ways in which you could have solved these. But here are some possible solutions:\n",
    "\n",
    "```python\n",
    "print(\"This string is supposed to say 'Hello World'!\")\n",
    "print('This is not quite right')\n",
    "print('I\\'m very happy to have written my first \"Hello World\" program!')\n",
    "```\n",
    "    \n",
    "</p>\n",
    "</details>"
   ]
  },
  {
   "cell_type": "markdown",
   "id": "56d49956",
   "metadata": {},
   "source": [
    "## 1️⃣ Numbers and basic math\n",
    "([Back to top](#👋-Welcome!))\n",
    "\n",
    "One of the core functionalities of any programming language is to work with data and run (mathematical) operations on it. So it makes sense to also learn those things first. \n",
    "\n",
    "In Python code, you can write statements like mathematical operations and see their evaluated results. Look at some of the examples below. (Remember, you can adjust and execute each line by clicking on it and hitting the \"Run\" button)"
   ]
  },
  {
   "cell_type": "code",
   "execution_count": 1,
   "id": "b1889662",
   "metadata": {},
   "outputs": [
    {
     "data": {
      "text/plain": [
       "42"
      ]
     },
     "execution_count": 1,
     "metadata": {},
     "output_type": "execute_result"
    }
   ],
   "source": [
    "40 + 2"
   ]
  },
  {
   "cell_type": "code",
   "execution_count": 2,
   "id": "10388eee",
   "metadata": {},
   "outputs": [
    {
     "data": {
      "text/plain": [
       "42"
      ]
     },
     "execution_count": 2,
     "metadata": {},
     "output_type": "execute_result"
    }
   ],
   "source": [
    "54 - 12"
   ]
  },
  {
   "cell_type": "code",
   "execution_count": 7,
   "id": "8a68e176",
   "metadata": {},
   "outputs": [
    {
     "data": {
      "text/plain": [
       "42"
      ]
     },
     "execution_count": 7,
     "metadata": {},
     "output_type": "execute_result"
    }
   ],
   "source": [
    "6 * 7"
   ]
  },
  {
   "cell_type": "code",
   "execution_count": 18,
   "id": "2f7b58fe",
   "metadata": {},
   "outputs": [
    {
     "data": {
      "text/plain": [
       "42.0"
      ]
     },
     "execution_count": 18,
     "metadata": {},
     "output_type": "execute_result"
    }
   ],
   "source": [
    "80 / 4 * (2 + 3) - 58"
   ]
  },
  {
   "cell_type": "markdown",
   "id": "10333729",
   "metadata": {},
   "source": [
    "You see, you can write all sorts of math operations including elements like parentheses. \n",
    "\n",
    ">**🛠 Try it out now!**\n",
    ">\n",
    ">Let's say we want to calculate the average of 24, 95, and 7. We get the average of three numbers by adding them all together and dividing the result by 3. \n",
    ">\n",
    ">In the empty code area below, use Python code to calculate the average of `24`, `95`, and `7`.\n",
    ">\n",
    ">_Remember: You can use parentheses!_"
   ]
  },
  {
   "cell_type": "code",
   "execution_count": null,
   "id": "263b1af0",
   "metadata": {},
   "outputs": [],
   "source": []
  },
  {
   "cell_type": "markdown",
   "id": "2f6a9966",
   "metadata": {},
   "source": [
    "<details>\n",
    "<summary style=\"border: 1px solid; border-radius: 3px; padding: 5px; display: inline-block; cursor: pointer;\">\n",
    "🎯 Reveal Solution\n",
    "</summary>\n",
    "<p>\n",
    "\n",
    "```python\n",
    "(24 + 95 + 7) / 3\n",
    "```\n",
    "    \n",
    "</p>\n",
    "</details>"
   ]
  },
  {
   "cell_type": "markdown",
   "id": "c7d2a590",
   "metadata": {},
   "source": [
    "The Jupyter Notebook will always automatically output on the screen the result of the last line of your code. This means, you won't see the results of multiple lines of calculations:"
   ]
  },
  {
   "cell_type": "code",
   "execution_count": 1,
   "id": "cd97af25",
   "metadata": {},
   "outputs": [
    {
     "data": {
      "text/plain": [
       "42"
      ]
     },
     "execution_count": 1,
     "metadata": {},
     "output_type": "execute_result"
    }
   ],
   "source": [
    "4 * 8\n",
    "(77 + 12384) * 6\n",
    "21 + 21"
   ]
  },
  {
   "cell_type": "markdown",
   "id": "5abb82ef",
   "metadata": {},
   "source": [
    "Outside of Jupyter Notebooks, if you want to display multiple lines of code on the screen, you should use the `print()` function that you have learned about before. You can just add any kind of math operations inside the parentheses of the `print()` function to see the result on the screen. \n",
    "\n",
    ">🛠 You can't see the result of one of the lines, below. Update the code to make sure to see the result for each line.\n",
    ">\n",
    ">_(Don't forget, you can click on the code, change it around, and execute it with the \"Run\" button at the top or by hitting `Ctrl` + `Enter` on your keyboard.)_"
   ]
  },
  {
   "cell_type": "code",
   "execution_count": 3,
   "id": "a450464c",
   "metadata": {},
   "outputs": [
    {
     "name": "stdout",
     "output_type": "stream",
     "text": [
      "32\n",
      "42\n"
     ]
    }
   ],
   "source": [
    "print(4 * 8)\n",
    "(77 + 12384) * 6\n",
    "print(21 + 21)"
   ]
  },
  {
   "cell_type": "markdown",
   "id": "5310ce82",
   "metadata": {},
   "source": [
    "<details>\n",
    "<summary style=\"border: 1px solid; border-radius: 3px; padding: 5px; display: inline-block; cursor: pointer;\">\n",
    "🎯 Reveal Solution\n",
    "</summary>\n",
    "<p>\n",
    "\n",
    "```python\n",
    "print(4 * 8)\n",
    "print((77 + 12384) * 6)\n",
    "print(21 + 21)\n",
    "```\n",
    "    \n",
    "</p>\n",
    "</details>"
   ]
  },
  {
   "cell_type": "markdown",
   "id": "b28c873c",
   "metadata": {},
   "source": [
    "## 📂 Variables\n",
    "([Back to top](#👋-Welcome!))\n",
    "\n",
    "Now basic calculations aren't too impressive. But things get more interesting if you **store data** or remember it for later. \n",
    "\n",
    "Programming languages usually all have a concept called **variables**. Variable are a way for you to temporarily store data for later usage. This is very useful if you have the same thing that you want to interact with over and over again. \n",
    "\n",
    "Let's say you want to do multiple things with the same set of numbers. First you want to calculate the average and then you want to get the cross total (for whatever reason). \n",
    "\n",
    "The naive solution would be this:"
   ]
  },
  {
   "cell_type": "code",
   "execution_count": 46,
   "id": "332e54bc",
   "metadata": {},
   "outputs": [
    {
     "name": "stdout",
     "output_type": "stream",
     "text": [
      "42.0\n",
      "126\n"
     ]
    }
   ],
   "source": [
    "print((24 + 95 + 7) / 3)\n",
    "\n",
    "print((24 + 95 + 7))"
   ]
  },
  {
   "cell_type": "markdown",
   "id": "5d76528b",
   "metadata": {},
   "source": [
    "This is not super elegant but it works. But what if we now want to take the average and do other things with it?\n",
    "\n",
    "What if we want to take the cross total and the average and want to get the average of those (for whatever reason)? "
   ]
  },
  {
   "cell_type": "code",
   "execution_count": 58,
   "id": "5fd646d6",
   "metadata": {},
   "outputs": [
    {
     "name": "stdout",
     "output_type": "stream",
     "text": [
      "42.0\n",
      "126\n",
      "84.0\n"
     ]
    }
   ],
   "source": [
    "print((24 + 95 + 7) / 3)\n",
    "\n",
    "print((24 + 95 + 7))\n",
    "\n",
    "print((((24 + 95 + 7) / 3) + (24 + 95 + 7)) / 2)"
   ]
  },
  {
   "cell_type": "markdown",
   "id": "64a5da57",
   "metadata": {},
   "source": [
    "It starts getting quite messy and repetitive. This is obviously a somewhat silly example. But it's actually quite common in programming to do have things like this where you want to remember a value for later and do multiple things with it. \n",
    "\n",
    "To \"remember\" a value for later we can assign the value to a **variable**. In Python you do that by simply making up a variable name (this can be anything you make up) followed by an equal sign `=` and what you want to assign it to: "
   ]
  },
  {
   "cell_type": "code",
   "execution_count": 51,
   "id": "345836a7",
   "metadata": {},
   "outputs": [],
   "source": [
    "the_answer_to_everything = 42"
   ]
  },
  {
   "cell_type": "markdown",
   "id": "2e779ca8",
   "metadata": {},
   "source": [
    "Variables can be reused and represent whatever they're assigned to:"
   ]
  },
  {
   "cell_type": "code",
   "execution_count": 53,
   "id": "b9deacd4",
   "metadata": {},
   "outputs": [
    {
     "name": "stdout",
     "output_type": "stream",
     "text": [
      "The answer to everything is:\n",
      "42\n",
      "No, seriously! It really is:\n",
      "42\n"
     ]
    }
   ],
   "source": [
    "the_answer_to_everything = 42\n",
    "\n",
    "print(\"The answer to everything is:\")\n",
    "print(the_answer_to_everything)\n",
    "print(\"No, seriously! It really is:\")\n",
    "print(the_answer_to_everything)"
   ]
  },
  {
   "cell_type": "markdown",
   "id": "2f061c18",
   "metadata": {},
   "source": [
    "Given that new knowledge let's go back to our original silly math experiment. Can you improve it using variables? \n",
    "\n",
    ">🛠 Try it out below!\n",
    ">\n",
    ">Get the code below to work without changing the existing parts.\n",
    ">\n",
    ">The output should reveal first the average of 24, 95, and 7.\n",
    ">\n",
    ">Then, it should show the cross total of those three numbers.\n",
    ">\n",
    ">Finally, it should show the average of the average and cross total combined."
   ]
  },
  {
   "cell_type": "code",
   "execution_count": null,
   "id": "56b2882e",
   "metadata": {},
   "outputs": [],
   "source": [
    "a = 24\n",
    "\n",
    "\n",
    "\n",
    "\n",
    "\n",
    "print(\"The average result below should be 42 and is\")\n",
    "print(average)\n",
    "\n",
    "print(\"The cross total below should be 126 and is\")\n",
    "print(cross_total)\n",
    "\n",
    "print(\"And the average of both should be 84 and is\")\n",
    "print(both)"
   ]
  },
  {
   "cell_type": "markdown",
   "id": "b7f0fbfe",
   "metadata": {},
   "source": [
    "<details>\n",
    "<summary style=\"border: 1px solid; border-radius: 3px; padding: 5px; display: inline-block; cursor: pointer;\">\n",
    "🎯 Reveal Solution\n",
    "</summary>\n",
    "<p>\n",
    "\n",
    "```python\n",
    "a = 24\n",
    "b = 95\n",
    "c = 7\n",
    "\n",
    "cross_total = a + b + c\n",
    "average = cross_total / 3\n",
    "both = (average + cross_total) / 2\n",
    "\n",
    "\n",
    "print(\"The average result below should be 42 and is\")\n",
    "print(average)\n",
    "\n",
    "print(\"The cross total below should be 126 and is\")\n",
    "print(cross_total)\n",
    "\n",
    "print(\"And the average of both should be 84 and is\")\n",
    "print(both)\n",
    "```\n",
    "    \n",
    "</p>\n",
    "</details>"
   ]
  },
  {
   "cell_type": "markdown",
   "id": "7f65352e",
   "metadata": {},
   "source": [
    "Nice! 🎉\n",
    "\n",
    "You've actually learned the most important core concepts of programming now. You know about simple data types like strings and numbers. You know how to do basic math. And you know how to temporarily store values using variables. "
   ]
  },
  {
   "cell_type": "markdown",
   "id": "8a3f4cc6",
   "metadata": {},
   "source": [
    "## 🏡 How to try this at home\n",
    "([Back to top](#👋-Welcome!))\n",
    "\n",
    "You've now just worked within the web browser and within a Jupyter Notebook. But in reality, many people work with Python in **Python files**. \n",
    "\n",
    "To try all this out on your personal computer you need a few things. \n",
    "\n",
    "1. You should already be familiar with [how to use the command line or Terminal](https://developer.mozilla.org/en-US/docs/Learn/Tools_and_testing/Understanding_client-side_tools/Command_line) of your computer. So make sure to know just the complete basics of how to execute files and navigate folders. \n",
    "2. Make sure Python version 3 is installed on your computer. On Windows, you can install Python through the Windows Store. On macOS, you can just download and install Python [from the official python.org website](https://www.python.org/downloads/). On Linux, you can usually install it through a package installer. Common commands to do that are `sudo apt-get update` and `sudo apt-get install python3`. \n",
    "3. Next, you need a code editor. You can use any text editor that let's you open and edit files in their raw format (without adding visual styles - like in Word). A popular free tool these days is [Visual Studio Code](https://code.visualstudio.com/). But there are plenty free alternatives. \n",
    "\n",
    "Once you've gone through all these steps, you can use the code editor to create an entirely blank new file on your computer. (Make sure you remember which folder on your computer you create the file in!)\n",
    "\n",
    "You can fill that file with Python code. For example: \n",
    "\n",
    "```python\n",
    "print('Hello World')\n",
    "```\n",
    "\n",
    "Then save that file and make sure it ends on `.py` (for \"Python\"). For example: `test.py`. \n",
    "\n",
    "To execute that Python code file navigate to the folder the file is in through the command line. And then simply type in `python3 test.py` to execute the file. That's it. "
   ]
  }
 ],
 "metadata": {
  "kernelspec": {
   "display_name": "Python 3 (ipykernel)",
   "language": "python",
   "name": "python3"
  },
  "language_info": {
   "codemirror_mode": {
    "name": "ipython",
    "version": 3
   },
   "file_extension": ".py",
   "mimetype": "text/x-python",
   "name": "python",
   "nbconvert_exporter": "python",
   "pygments_lexer": "ipython3",
   "version": "3.10.6"
  },
  "vscode": {
   "interpreter": {
    "hash": "58243efc57a824e48bd8accfc07ecdf19a1d136d4cb030c6b2d8e282c2acc61d"
   }
  }
 },
 "nbformat": 4,
 "nbformat_minor": 5
}
