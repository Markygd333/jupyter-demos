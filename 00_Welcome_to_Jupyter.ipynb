{
 "cells": [
  {
   "attachments": {},
   "cell_type": "markdown",
   "metadata": {},
   "source": [
    "## 👋 Welcome To Jupyter!\n",
    "\n",
    "Welcome to this quick introduction to Jupyter Notebooks. Keep on reading if you want to find out **how to navigate and work with Jupyter Notebooks**.\n",
    "\n",
    "## 🤨 What is this? \n",
    "\n",
    "Essentially, a Jupyter Notebook is **just a file** - like a Word document or a PDF. It's a combination of [Markdown](https://www.markdownguide.org/) text and **interactive code** (mostly Python, but also other code works.)\n",
    "\n",
    "Just like you need the program Microsoft Word to open a Word file, or a PDF reader to open a PDF file, you need a special program to open Jupyter Notebook files. The fact that you're reading this means that you already have a program like that open - usually it runs within the web browser. If you want to find out more you can check the [official website](https://jupyter.org/try).\n",
    "\n",
    "## 📺 What is this interface?\n",
    "\n",
    "At first glance, the interface can be a bit overwhelming. There are a lot of buttons and places to click. **Most can be ignored** for now as you really only need them once you start creating your own Jupyter Notebook files and working with multiple files at the same time.\n",
    "\n",
    "If the program you're using to view the notebook uses **JupyterLab**, you'll see on the left a list of files. That's where you can open, create, delete, and move around files like Jupyter Notebooks (but also other files.) At the top you have the  usual navigations for saving, downloading, editing files and more. The most space of the screen is taken up by the actual Notebook file. Most likely you only have to worry about that space for now and can ignore the rest. \n",
    "\n",
    "## 📝 How to work with Jupyter Notebooks?\n",
    "\n",
    "### Cells\n",
    "\n",
    "A Jupyter Notebook is split into multiple **cells**. A cell is usually either a bit of **Markdown text** (like what you're reading right now) or a piece of **code**. You can **select cells** by clicking on them or using the arrow keys on your keyboard."
   ]
  },
  {
   "attachments": {},
   "cell_type": "markdown",
   "metadata": {},
   "source": [
    "_(This is a separate cell from the one above - but also just Markdown text.)_"
   ]
  },
  {
   "cell_type": "code",
   "execution_count": null,
   "metadata": {},
   "outputs": [],
   "source": [
    "# And this is a cell of Python code"
   ]
  },
  {
   "cell_type": "code",
   "execution_count": null,
   "metadata": {},
   "outputs": [],
   "source": []
  },
  {
   "attachments": {},
   "cell_type": "markdown",
   "metadata": {},
   "source": [
    "Cells can be moved around or new cells can be created between existing cells. \n",
    "\n",
    "### Modes\n",
    "\n",
    "When you open a notebook, you're just **viewing** the file. You can **edit** individual cells by entering **Edit Mode**. You do that by selecting a cell and then hitting the <kbd>Enter</kbd> key on your keyboard. To exit the **Edit Mode** you can press the <kbd>Esc</kbd> key.\n",
    "\n",
    ">🛠 **Try it now!** Don't worry about breaking anything. Your changes are only done on your personal computer. Unless you are viewing this Jupyter Notebook specifically in a shared collaboration environment, nobody else can see what you changed here. \n",
    "\n",
    "Keep in mind that you open or close **Edit Mode** on a **cell-by-cell** basis. That means, you can enter **Edit Mode**, then click on a different cell and enter **Edit Mode** for that cell without having stopped editing the previous cell.\n",
    "\n",
    "### Working with interactive code\n",
    "\n",
    "The core feature of Jupyter Notebooks is the fact that you can **execute code inline** and see the results immediately below. Most commonly, Jupyter Notebooks use Python code. \n",
    "\n",
    "Check the example below. Click on the cell that says `4 + 3`. Then click on the \"Play\" (aka \"Run\") button `▶` at the top to execute the code in that cell. Alternatively you can select the code cell and then use the **keyboard shortcut** <kbd>Ctrl</kbd> + <kbd>Enter</kbd>"
   ]
  },
  {
   "cell_type": "code",
   "execution_count": null,
   "metadata": {},
   "outputs": [],
   "source": [
    "4 + 3"
   ]
  },
  {
   "attachments": {},
   "cell_type": "markdown",
   "metadata": {},
   "source": [
    "You should see the result `7` show up right underneath the code cell block after running it. \n",
    "\n",
    "Try combining what you've learned before. Select the cell below, enter **Edit Mode** with <kbd>Enter</kbd>, change some of the code (for example change the text `replace_me_with_your_name`), and then execute the code by running the cell with <kbd>Ctrl</kbd> + <kbd>Enter</kbd>."
   ]
  },
  {
   "cell_type": "code",
   "execution_count": null,
   "metadata": {},
   "outputs": [],
   "source": [
    "your_name = 'replace_me_with_your_name'\n",
    "\n",
    "print(f'Hello there, {your_name}!')"
   ]
  },
  {
   "attachments": {},
   "cell_type": "markdown",
   "metadata": {},
   "source": [
    "### Magic\n",
    "\n",
    "There are some special commands that can be added to **code cells** in Jupyter called [magic commands](https://ipython.readthedocs.io/en/stable/interactive/magics.html) - yup, that's their actual name. \n",
    "\n",
    "They usually add some automatic functionality in the background for you. For the most part, you don't need to worry abou them. But since you may encounter them you should at least know what they are. \n",
    "\n",
    "**Magic commands** always start with one or two `%` percentage signs. An example is would be the `%html` command that displays HTML code right in the Jupyter Notebook when executed. "
   ]
  },
  {
   "cell_type": "code",
   "execution_count": null,
   "metadata": {},
   "outputs": [],
   "source": [
    "%%html\n",
    "\n",
    "<p>Hello I am some <strong style=\"color:red;\">HTML</strong>!</p>\n",
    "\n",
    "<details>\n",
    "  <summary style=\"border: 1px solid; border-radius: 3px; padding: 5px; display: inline-block; cursor: pointer; margin-top: 10px;\">\n",
    "    <b>Click to see a picture of Jupyter.</b>\n",
    "  </summary>\n",
    "  <p>\n",
    "    <img src=\"https://images.pexels.com/photos/12498752/pexels-photo-12498752.jpeg?auto=compress&cs=tinysrgb&w=1260&h=750&dpr=1\" alt=\"jupiter planet\" style=\"max-width: 200px;\"/>\n",
    "  <p>\n",
    "</details>"
   ]
  },
  {
   "attachments": {},
   "cell_type": "markdown",
   "metadata": {},
   "source": [
    "If you run the cell above, you'll see the output is the **interpreted HTML**. "
   ]
  },
  {
   "attachments": {},
   "cell_type": "markdown",
   "metadata": {},
   "source": [
    "## 🚀 What next?\n",
    "\n",
    "Now you already know the most important ways to work with Jupyter Notebooks. There is a lot more you can do and once you start creating your own notebooks there is a lot more to learn. But in most situations, when working with other notebooks, you'll most likely only need to know how to **edit and execute code cells**.\n",
    "\n",
    "Most importantly: **Don't shy away from breaking anything!** Just try things out. \n",
    "\n",
    "## 🎹 Shortcut Cheat Sheet\n",
    "\n",
    "- <kbd>↑</kbd> <kbd>↓</kbd> : Select cells\n",
    "- <kbd>Enter</kbd> : Edit Mode\n",
    "- <kbd>Esc</kbd> : Exit Edit Mode\n",
    "- <kbd>Ctrl</kbd> + <kbd>Enter</kbd> : Execute code in selected cell\n",
    "\n",
    "**Advanced:**\n",
    "- <kbd>Shift</kbd> + <kbd>Enter</kbd> : Execute cell and select the one below\n",
    "- <kbd>b</kbd> (outside of Edit Mode) : Create a new cell below selected cell\n",
    "- <kbd>a</kbd> (outside of Edit Mode) : Create a new cell above selected cell\n",
    "- <kbd>m</kbd> (outside of Edit Mode) : Turn cell into Markdown\n",
    "- <kbd>y</kbd> (outside of Edit Mode) : Turn cell into code"
   ]
  }
 ],
 "metadata": {
  "kernelspec": {
   "display_name": "venv",
   "language": "python",
   "name": "python3"
  },
  "language_info": {
   "codemirror_mode": {
    "name": "ipython",
    "version": 3
   },
   "file_extension": ".py",
   "mimetype": "text/x-python",
   "name": "python",
   "nbconvert_exporter": "python",
   "pygments_lexer": "ipython3",
   "version": "3.10.10"
  },
  "orig_nbformat": 4
 },
 "nbformat": 4,
 "nbformat_minor": 2
}
