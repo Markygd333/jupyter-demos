{
 "cells": [
  {
   "attachments": {},
   "cell_type": "markdown",
   "id": "29b9c1d3",
   "metadata": {
    "editable": false,
    "slideshow": {
     "slide_type": ""
    },
    "tags": []
   },
   "source": [
    "# Python Basics 1: Programming Basics & Strings\n",
    "\n",
    "## Table of Contents\n",
    "\n",
    "- [👋 Welcome!](#👋-Welcome!)\n",
    "- [🎯 Lesson outcome](#🎯-Lesson-outcome)\n",
    "- [🤖 How this course works](#🤖-How-this-course-works)\n",
    "- [👩‍💻 This is programming](#👩‍💻-This-is-programming)\n",
    "- [🐍 This is Python](#🐍-This-is-Python)\n",
    "- [🐣 Hello World](#🐣-Hello-World)\n",
    "- [💭 Comments](#💭-Comments)\n",
    "- [🅰️ Simple data types and strings](#🅰%EF%B8%8F-Simple-data-types-and-strings)\n",
    "- [🏡 How to try this at home](#🏡-How-to-try-this-at-home)\n",
    "\n",
    "\n",
    "## 👋 Welcome!\n",
    "\n",
    "Welcome to this **practical introduction to programming**. This course is aimed at complete beginners. It's filled with practical examples so that you can learn by coding, with extra context provided for things that beginners often struggle with.\n",
    "\n",
    ">_Disclaimer: This course was designed for testing purposes. It's still a work in progress and will likely be changed significantly in the future. For questions or suggestions, reach out to samuel.boguslawski@code.berlin_\n",
    "\n",
    "## 🎯 Lesson outcome\n",
    "([Back to top](#Table-of-Contents))\n",
    "\n",
    "In this first exercise, you will be introduced to how this course works and get an elementary introduction to programming in general. \n",
    "\n",
    "At the end of this exercise, you will be able to **write a simple Python program** to **display different lines of text** on computer screens. You will be able to identify and **resolve bugs** and use **comments** to describe your code. \n",
    "\n",
    "\n",
    "## 🤖 How this course works\n",
    "([Back to top](#Table-of-Contents))\n",
    "\n",
    "Below 👇, you see a block of code. Click anywhere on the code below. Then, at the top of the interface, you can find an icon to **Run** the code. It should look like a \"Play\" button <kbd>▶</kbd>. Click it. Then, read what appears right below the block of code and follow the instructions. "
   ]
  },
  {
   "cell_type": "code",
   "execution_count": null,
   "id": "47706d4a-20e6-4b90-b056-f00073d80104",
   "metadata": {
    "editable": false,
    "slideshow": {
     "slide_type": ""
    },
    "tags": []
   },
   "outputs": [],
   "source": [
    "# This is the piece of code. CLICK HERE and then on the ▶ \"Run\" button at the top. \n",
    "\n",
    "def fahrenheit_to_celsius(fahrenheit):\n",
    "    return (fahrenheit - 32) * 5/9\n",
    "\n",
    "print('\\n\\n\\033[92mTo convert a Fahrenheit value to Celsius, enter a number\\nand hit the \"Enter\" key on your keyboard.\\033[0m\\n')\n",
    "user_input = input('Fahrenheit:')\n",
    "\n",
    "if user_input.replace(\".\", \"\", 1).isdigit():\n",
    "    fahrenheit_value = float(user_input)\n",
    "    celsius = fahrenheit_to_celsius(fahrenheit_value)\n",
    "    print('\\n\\033[91mConverts to: ' + str(celsius) + ' °C\\033[0m\\n')\n",
    "else:\n",
    "    print(\"You did not enter a whole number. Rerun the code block and try entering a number.\")"
   ]
  },
  {
   "cell_type": "markdown",
   "id": "0d371db3-e67a-418d-942b-ff96927109bf",
   "metadata": {
    "editable": false,
    "slideshow": {
     "slide_type": ""
    },
    "tags": []
   },
   "source": [
    "You just ran a **Python program** to convert one type of measurement to another. This could, for example, be useful when traveling between different countries that use different temperature measurements. And it's just one of many useful things you can do with a programming language like Python. \n",
    "\n",
    "You are able to run the code right here in the middle of the text because this course is written as a **Jupyter Notebook**. If you aren't familiar with Jupyter Notebooks or need a reminder, click the button below. \n",
    "\n",
    "<details>\n",
    "<summary style=\"border: 1px solid; border-radius: 3px; padding: 5px; display: inline-block; cursor: pointer; margin-top: 10px;\">\n",
    "🌚 <b>Jupyter what?</b>\n",
    "</summary>\n",
    "<p>\n",
    "\n",
    ">You are currently looking at a **Jupyter Notebook**. That's a type of file (like a Word or PDF file) that is viewed in a program like **JupyterLab**, which usually runs in the web browser. The interface can be a bit overwhelming. But, luckily, you can ignore most of it unless you start creating your own notebooks. \n",
    ">\n",
    ">The purpose of a Jupyter file is to combine ([Markdown](https://www.markdownguide.org/)) text and interactive code snippets within the same screen.\n",
    ">\n",
    ">**Jupyter Notebooks are separated into cells**. A **cell** is either **interactive code** or ([Markdown](https://www.markdownguide.org/) formatted) **text**. You can select cells by clicking on them or using the <kbd>↑</kbd> <kbd>↓</kbd> arrow keys on the keyboard. The currently selected cell is highlighted on the left side. \n",
    ">\n",
    ">To edit a cell, you first select it and then hit the <kbd>Enter</kbd> key to start **Edit Mode**. You can start to edit multiple cells at once. To **exit Edit Mode**, use the <kbd>Esc</kbd> key on the keyboard. \n",
    ">\n",
    ">Cells can be either text or code. If you have selected a **code cell**, you can hit the keyboard shortcut <kbd>Ctrl</kbd> + <kbd>Enter</kbd> to execute the code right there and **see the output right below the code cell**. Alternatively, click the \"Run\" `▶` button.\n",
    ">\n",
    ">There is a lot more you can do with Jupyter. But for now, this is all you need to know to work with this file. **Don't worry about breaking anything**. It's just a file running on your computer. You can always close it without saving it, open it again, and reaccess the file's original state.\n",
    ">\n",
    ">You will also notice that many of the cells aren't editable. That's on purpose. The Notebook is set up to allow you to edit only the cells relevant to the exercises.\n",
    "\n",
    "</p>\n",
    "</details>\n",
    "<br />\n",
    "\n",
    "We will start with a very short (promise!) bit of background information that hopefully helps you understand the fundamentals of programming and how Python fits into all of this.\n",
    "\n",
    "After that, the majority of the course will be practical examples and exercises. Always try things out yourself and practice what you have seen. \n",
    "\n",
    "**💡 Don't be afraid to break anything. It's only by writing code yourself that you will you actually learn!**\n",
    "\n",
    "## 👩‍💻 This is programming\n",
    "([Back to top](#Table-of-Contents))\n",
    "\n",
    "All computer software and everything you're looking at on the screen now had to be **programmed** at some point. You're using a **program** to view this course (probably a web browser like Firefox or Chrome). This program runs on an **operating system** (like Windows, macOS, iOS, Android, or Linux). The operating system (or \"OS\") is yet another program.\n",
    "\n",
    "All computers (including phones and similar devices) have a piece of hardware called a **\"processor\"**. This is the heart of every computer as it runs the software. There are, of course, a lot more parts than that. But you need to understand that programming is basically writing instructions to be executed by the physical computer processor and all its connected parts. \n",
    "\n",
    "Writing instructions that are understandable to the processor is hard, and these instructions tend not to be very readable by humans. Look at this example of Assembly code to display the message \"Hello World!\" on a computer screen:\n",
    "\n",
    "```asm\n",
    "org  0x100\n",
    "\n",
    "mov  dx, msg\n",
    "mov  ah, 9\n",
    "\n",
    "int  0x21\n",
    "mov  dl, 0x0d\n",
    "mov  ah, 2\n",
    "\n",
    "int  0x21\n",
    "mov  dl, 0x0a\n",
    "mov  ah, 2\n",
    "\n",
    "int  0x21\n",
    "mov  ah, 0x4c\n",
    "int  0x21\n",
    "\n",
    "msg  db 'Hello, World!$'\n",
    "```\n",
    "\n",
    "That's how developers used to program (and sometimes still do). It's very hard to read. That's why, over time, many new programming languages were developed. These newer programming languages are meant to be understandable to humans. However, to make those programming languages understandable by the processor, they have to be converted back into something closer to the code above. That step is called **\"compiling\"**. \n",
    "\n",
    "Very broadly speaking, there are two ways to **compile** code. Either it is compiled directly on the computer of the developer or every user who wants to execute the code installs a program on their own computer that compiles the code \"on the fly,\" which is programmer speak for \"as it runs.\" \n",
    "\n",
    "Programming languages like **C**, **C++**, or **Rust** are compiled by the developer. The code gets _compiled_ into an **executable** file. That means all the user has to do is open the program file and it will run on their computer. They don't need anything else. This is true for most desktop applications, games, or phone apps. You download them, click on them, and they \"just work\" (usually).\n",
    "\n",
    "Programming languages like **Python** or **JavaScript**, on the other hand, are usually compiled on the fly. That means when I write a Python program and give it to you, I give you a code file ending with **.py**. If you want to run that file on your computer, you have to have **Python** installed. That's the compiler that, on the fly, turns the Python code into something understandable by the computer. \n",
    "\n",
    "The benefit of the first category of programming languages is that you can give people an executable file (like a .exe file on Windows), and they don't have to worry about installing any additional software to run it. However, they won't be able to read or alter the code.\n",
    "\n",
    "The benefit of the second group of languages is that it's easier to work together with other developers and - if you need to - make changes to the code quickly, since you can share the raw code with the person executing it.\n",
    "\n",
    "There are more differences. But this is enough to know for now to understand how Python works and why you need to have an extra program called \"Python\" installed on your computer to run a Python code file. You can of course also practice with and run Python code in a Jupyter Notebook like this one.\n",
    "\n",
    "## 🐍 This is Python\n",
    "([Back to top](#Table-of-Contents))\n",
    "\n",
    "In this course, you'll learn **Python**. Python is very popular these days because it's very versatile. It's used extensively in data science, web development, and other domains. Compared to other programming languages, Python is also relatively easy to read and write because a lot of it looks like regular English. \n",
    "\n",
    "Under the hood, Python is compiled into something the processor can understand (see the graphic below). That's done by the software **Python** that must be installed on your computer to run Python. \n",
    "\n",
    "The Python interpreter (that compiles the code on the fly) is also integrated into **Jupyter Notebooks**. That's why you can execute Python code from within this page."
   ]
  },
  {
   "cell_type": "markdown",
   "id": "80c6cf7d-5463-4d4d-ba6b-5ca4f45c35bf",
   "metadata": {
    "editable": false,
    "slideshow": {
     "slide_type": ""
    },
    "tags": []
   },
   "source": [
    "<img src=\"data:image/svg+xml;base64,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\"/>"
   ]
  },
  {
   "attachments": {},
   "cell_type": "markdown",
   "id": "89e37a19",
   "metadata": {
    "editable": false,
    "slideshow": {
     "slide_type": ""
    },
    "tags": []
   },
   "source": [
    "## 🐣 Hello World\n",
    "([Back to top](#Table-of-Contents))\n",
    "\n",
    "Many applications need to display text. To choose a basic example, think of screens on buses or trains that display the next stop. They run some software to display the name of the next stop. They don't need to allow the user to interact with the text in any way. They only need to display the text. \n",
    "\n",
    "The first program that most people learning a programming language write is the [\"Hello World\"](https://en.wikipedia.org/wiki/%22Hello,_World!%22_program). All the program does is output the text `\"Hello World\"` on the user's screen. \n",
    "\n",
    ">💡 **Side Note:** When you start programming, you usually start by writing only text-based programs. Programs like the one you're using right now or web apps have **graphical user interfaces (GUI)**. When learning a programming language from scratch, it's common to start with text-based applications only. The first computers didn't have GUIs. And still, nowadays, it's very common to interact with many computers (e.g., web servers) through text-only interfaces. Those interfaces are also called **Terminal** or **Command Line**. Every computer has such an interface. You can find it by searching for the \"Terminal\" application on macOS and Linux. On Windows 10 and up, you can look for the \"Powershell.\"\n",
    ">Developers regularly interact with their computers through the Terminal. It's very useful for executing text-based programs. \n",
    "\n",
    "In Python, you write a single line of code to output the text \"Hello World\" on the screen: \n",
    "\n",
    "```python\n",
    "print(\"Hello World\")\n",
    "```\n",
    "\n",
    "Try it! Click on the code cell below 👇 and write the Python code to display \"Hello World\". \n",
    "\n",
    "To try out and execute the code, click on the line and hit the \"Run\" button at the top. Or hit <kbd>Ctrl</kbd> + <kbd>Enter</kbd> on your keyboard. "
   ]
  },
  {
   "cell_type": "code",
   "execution_count": null,
   "id": "835e6d0e",
   "metadata": {
    "editable": true,
    "slideshow": {
     "slide_type": ""
    },
    "tags": []
   },
   "outputs": [],
   "source": []
  },
  {
   "attachments": {},
   "cell_type": "markdown",
   "id": "a10b53d7",
   "metadata": {
    "editable": false,
    "slideshow": {
     "slide_type": ""
    },
    "tags": []
   },
   "source": [
    "<details>\n",
    "<summary style=\"border: 1px solid; border-radius: 3px; padding: 5px; display: inline-block; cursor: pointer;\">\n",
    "💡 Hint (click to view)\n",
    "</summary>\n",
    "<p>\n",
    "If you get an error message, try to understand what it says. Usually, it contains some plain English text to help you understand what went wrong. \n",
    "\n",
    "In programming, every character counts (and, in Python, even spaces and tabs)! You can break entire programs by forgetting one character or space. So it's essential to work accurately. Double-check that all characters and spaces are correct.\n",
    "</p>\n",
    "</details>"
   ]
  },
  {
   "attachments": {},
   "cell_type": "markdown",
   "id": "a3ea4286",
   "metadata": {
    "editable": false,
    "slideshow": {
     "slide_type": ""
    },
    "tags": []
   },
   "source": [
    "You should see the result \"Hello World\" right below the cell. If not, try changing the text and rerunning the code.\n",
    "\n",
    "🎉 Congrats! You have written your first Python program!\n",
    "\n",
    "`print()` is a **function**. You'll learn more about functions later, but for now just think of it as a pre-defined block of code that performs a specific task. In the Python language, you can define your own functions or use pre-defined ones (like `print()`). There are a lot of pre-defined functions that let you do useful things like generating random numbers, for example. \n",
    "\n",
    "“Hello world” (or any set of characters that appear between quotation marks) is a **string**, which you’ll learn about in the next section. The `print()` function outputs or displays any value **inside the parentheses** `()` on the screen. \n",
    "\n",
    "Run the code in the cells below or change it to see what happens. You may try putting multiple `print()` functions inside the same cell. Just make sure to put each `print()` function on a new line. "
   ]
  },
  {
   "cell_type": "code",
   "execution_count": null,
   "id": "40d3561a",
   "metadata": {
    "editable": true,
    "slideshow": {
     "slide_type": ""
    },
    "tags": []
   },
   "outputs": [],
   "source": [
    "print(42)"
   ]
  },
  {
   "cell_type": "code",
   "execution_count": null,
   "id": "5ed7e192",
   "metadata": {
    "editable": true,
    "slideshow": {
     "slide_type": ""
    },
    "tags": []
   },
   "outputs": [],
   "source": [
    "print(\"This is some random text\")"
   ]
  },
  {
   "cell_type": "code",
   "execution_count": null,
   "id": "fedef981-a5ad-4136-ac0c-74166a66f4e8",
   "metadata": {
    "editable": true,
    "slideshow": {
     "slide_type": ""
    },
    "tags": []
   },
   "outputs": [],
   "source": [
    "print(\"Hello again\""
   ]
  },
  {
   "cell_type": "markdown",
   "id": "8b63c1ae-9fab-4a51-9278-337c27e0e7a2",
   "metadata": {
    "editable": false,
    "slideshow": {
     "slide_type": ""
    },
    "tags": []
   },
   "source": [
    "### 😱 Help! I got an error!\n",
    "\n",
    "**🚀 Don't Panic!**\n",
    "\n",
    "Despite looking red, dangerous, and sometimes quite confusing, **error messages are actually a good thing**. They are there to tell you not only _that_ something went wrong but also _how_ to identify what went wrong. \n",
    "\n",
    "Errors happen all the time, and you will definitely encounter them. So, the first thing you should know now: **Don't be afraid to break things!** You're learning. This is the best time to encounter issues because they will help you learn. \n",
    "\n",
    "Your first step is always to read the error message and try to understand what it's trying to tell you. **Usually, an error message contains the most crucial information at the beginning or end.** But you may also have to search a bit.\n",
    "\n",
    "For example, the last code block above should throw an error that says `SyntaxError: incomplete input`. It also comes with a visualization of where the error occurred: \n",
    "\n",
    "```python\n",
    "print(\"Hello again\"\n",
    "                   ^\n",
    "```\n",
    "\n",
    "Can you tell what the error is trying to tell you? Try to fix it and rerun the code afterward. \n",
    "\n",
    "The term \"syntax\" refers to the way the language is written, including the characters (letters or digits), punctuation, and spaces used to write code instructions - more on that below. The fact that this is a \"SyntaxErorr\" gives you the first clue about what might have gone wrong, while \"incomplete input\" tells you that a piece of code you wrote seems \"incomplete.\" Lastly, errors always tell you where in the code it occurred. In this case, the error message said `line 1` and even gave you a visual representation of where precisely in the line the error occurred. You don't always get errors as easy to work out as this one. But you should always try to use those clues to understand the error message. \n",
    "\n",
    "If you can't figure out what the error is saying, you can copy and paste parts of it into a search engine to see whether someone has had the same issue before. (That's also precisely how most professional programmers do it!)\n",
    "\n",
    "You'll likely end up on a website like **StackOverflow** or **GitHub**. On StackOverflow, you may scroll through various answers to find one that fits. You can also search directly for your issue there. GitHub is a platform to host code projects. So, if you find solutions there, they might be bug reports or discussions on a code repository. For a beginner, this might be a bit harder to understand. However, it can be very valuable to read through the discussions of professional programmers to understand how problems are solved in the industry.\n",
    "\n",
    "You can also use a generative AI tool or **LLM (Large Language Model)** to help during your learning process. Popular ones are [OpenAI's ChatGPT](https://chat.openai.com/), [Microsoft's Bing](https://www.bing.com/new), [GitHub's Copilot](https://github.com/features/copilot), [Mozilla's MDN AI Help](https://developer.mozilla.org/en-US/plus/ai-help), and [Google's Bard](https://bard.google.com/). There are also several [free and open-source LLMs](https://chat.lmsys.org/). LLMs are particularly good at some things, but they are not always 100% accurate or reliable. \n",
    "\n",
    "LLMs are particularly good at **explaining concepts in simple terms** (e.g., add \"explain like I'm five ...\" to your prompt). They are also helpful in **explaining code and identifying bugs**. \n",
    "\n",
    "LLMs do work impressively well. However, an LLM is only as good as the data it's been trained with. There is always the chance that the answers it gives are **highly biased** based on the original sample data, are made up, or are simply wrong. Remember that you can never be 100% certain of the integrity or quality of the results. Always verify AI-generated answers with multiple sources. "
   ]
  },
  {
   "attachments": {},
   "cell_type": "markdown",
   "id": "35018b5c",
   "metadata": {
    "editable": false,
    "slideshow": {
     "slide_type": ""
    },
    "tags": []
   },
   "source": [
    "## 💭 Comments\n",
    "([Back to top](#Table-of-Contents))\n",
    "\n",
    "Every programming language has a feature called **comments**. A comment is a way of adding text to your code that isn't executed. \n",
    "\n",
    "Run the code below and look at the output: "
   ]
  },
  {
   "cell_type": "code",
   "execution_count": null,
   "id": "8e3f71c2",
   "metadata": {
    "editable": true,
    "slideshow": {
     "slide_type": ""
    },
    "tags": []
   },
   "outputs": [],
   "source": [
    "print(1)\n",
    "# print(2)\n",
    "print(3)\n",
    "print(4)"
   ]
  },
  {
   "attachments": {},
   "cell_type": "markdown",
   "id": "36149fb3",
   "metadata": {
    "editable": false,
    "slideshow": {
     "slide_type": ""
    },
    "tags": []
   },
   "source": [
    "Did you notice how one of the numbers isn't printed out? \n",
    "\n",
    "That's because, in Python, the hash symbol `#` turns all characters **after the hash** and **within the same line** into a comment. The code compiler ignores comments. It's as if they don't exist. But for you, as the developer, comments can be very handy because they allow you to add text to your code as an explanation. \n",
    "\n",
    "The code below is broken. How can you fix it? "
   ]
  },
  {
   "cell_type": "code",
   "execution_count": 3,
   "id": "47bb4ab2",
   "metadata": {
    "editable": true,
    "slideshow": {
     "slide_type": ""
    },
    "tags": []
   },
   "outputs": [],
   "source": [
    "print(\"How do I get this to work?\") this is a print statement."
   ]
  },
  {
   "attachments": {},
   "cell_type": "markdown",
   "id": "d90ea0ab",
   "metadata": {
    "editable": false,
    "slideshow": {
     "slide_type": ""
    },
    "tags": []
   },
   "source": [
    "Execute the code as it is. You'll see a \"SyntaxError.\" \n",
    "\n",
    "The **syntax** of a programming language refers to rules that govern the use of words, punctuation, and spaces in that language. For example, `print()` is pre-defined as a function within the Python programming language. It constitutes a set of instructions for the computer. \n",
    "\n",
    "If you run the code above as is, Python will think `this is a print statement` is part of the code and not understand what to do with it. It'll break because `this is a print statement` isn't part of the official Python **syntax**.\n",
    "\n",
    "Can you think of a way to fix the broken code using comments? "
   ]
  },
  {
   "attachments": {},
   "cell_type": "markdown",
   "id": "59a1f5ae",
   "metadata": {
    "editable": false,
    "slideshow": {
     "slide_type": ""
    },
    "tags": []
   },
   "source": [
    "<details>\n",
    "<summary style=\"border: 1px solid; border-radius: 3px; padding: 5px; display: inline-block; cursor: pointer;\">\n",
    "💡 Hint\n",
    "</summary>\n",
    "<p>\n",
    "Remember, you can use the `#` symbol in Python to start a comment. \n",
    "\n",
    "A comment doesn't have to start at the beginning of a line. You can fix the code by adding the `#` after the official Python code ends and before the description text `this is a print statement` starts.\n",
    "</p>\n",
    "</details>"
   ]
  },
  {
   "attachments": {},
   "cell_type": "markdown",
   "id": "b6bcc49d",
   "metadata": {
    "slideshow": {
     "slide_type": ""
    },
    "tags": []
   },
   "source": [
    "## 🅰️ Simple data types and strings\n",
    "([Back to top](#Table-of-Contents))\n",
    "\n",
    "Programming languages have different [elements](https://www.freecodecamp.org/learn/scientific-computing-with-python/python-for-everybody/introduction-elements-of-python). You have already gotten to know two of those elements: \n",
    "\n",
    "- reserved words\n",
    "- constants\n",
    "\n",
    "`print()` is a **reserved word**. Python reserves it for some pre-defined functionality. \n",
    "\n",
    "`\"Hello World\"` is a string and is considered a **constant**. It's called a constant because it is a set of **data** that is defined by you as the developer, and it doesn't change unless you, as the developer, change the code again.\n",
    "\n",
    "Data can have varying types, called **data types**. `\"Hello World\"` is a **string**. `42` is a number (the specific type of number is called **integer**). This may seem obvious. But in programming, it's often important to be very explicit about what kind of data we are using. For example, you can do math with numbers but not with text. You sometimes want to search for a specific set of characters (a word) within a text string. However, you rarely need to find specific numbers (like `123`) within a larger number (like `23783012383429`). That is, you will often need to do different things with different **data types**, so it's crucial to be able to differentiate between them. \n",
    "\n",
    "There are more data types (and even for numbers, there are multiple different specific types). If you want, you can look them up in the [official documentation](https://docs.python.org/3/library/stdtypes.html). But you'll also learn more about them later; we'll focus on strings for now.\n",
    "\n",
    "Strings are pieces of text (that may also include numbers). Strings always start and end with double quotes `\"` or single quotes `'`. These quotes must come in pairs! With the first set of quotes `\"` you tell Python *Here comes a string!* And Python will assume everything that follows is part of the string until you add the closing quotation mark: `\"`. \n",
    "\n",
    "Check out this code, for example. Try to execute it and then inspect the error: "
   ]
  },
  {
   "cell_type": "code",
   "execution_count": null,
   "id": "63ddc23b",
   "metadata": {
    "editable": true,
    "slideshow": {
     "slide_type": ""
    },
    "tags": []
   },
   "outputs": [],
   "source": [
    "print(\"I'm a broken string.)"
   ]
  },
  {
   "attachments": {},
   "cell_type": "markdown",
   "id": "49f098b5",
   "metadata": {
    "editable": false,
    "slideshow": {
     "slide_type": ""
    },
    "tags": []
   },
   "source": [
    "<details>\n",
    "<summary style=\"border: 1px solid; border-radius: 3px; padding: 5px; display: inline-block; cursor: pointer;\">\n",
    "💡 Hint\n",
    "</summary>\n",
    "<p>\n",
    "\n",
    "Pay close attention to which type of quotes are used to start the string. You must add the same type of quotes at the end of the string **but before** the closing parentheses. The string must be **inside** the parentheses of the `print()` function.    \n",
    "\n",
    "</p>\n",
    "</details>"
   ]
  },
  {
   "attachments": {},
   "cell_type": "markdown",
   "id": "b77bf2b7",
   "metadata": {
    "editable": false,
    "slideshow": {
     "slide_type": ""
    },
    "tags": []
   },
   "source": [
    "You may have noticed in the example above that the string is wrapped inside double quotes `\"` but also contains one single quote `'` (i.e. used as an apostrophe in this case). In Python, you can use either type to mark a string, but you must use the same one both for the beginning and the end. \n",
    "\n",
    "If you need to use either of those as part of the string text, you can use the other type to mark the beginning and end, as we have done above. \n",
    "\n",
    "Alternatively, you can also use a backslash `\\` to tell Python that the following mark is part of (and not the end of) the string, like this: "
   ]
  },
  {
   "cell_type": "code",
   "execution_count": null,
   "id": "1be7590b",
   "metadata": {
    "editable": true,
    "slideshow": {
     "slide_type": ""
    },
    "tags": []
   },
   "outputs": [],
   "source": [
    "print('I\\'m a working string')"
   ]
  },
  {
   "attachments": {},
   "cell_type": "markdown",
   "id": "4e24370a",
   "metadata": {
    "editable": false,
    "slideshow": {
     "slide_type": ""
    },
    "tags": []
   },
   "source": [
    "In the example above, try to play around with the different types of quotes and `\\` backslash. Try to get a feel for what happens when you move things around. \n",
    "\n",
    "Then, try to solve the broken pieces of code below:"
   ]
  },
  {
   "cell_type": "code",
   "execution_count": null,
   "id": "79fff07f",
   "metadata": {
    "editable": true,
    "slideshow": {
     "slide_type": ""
    },
    "tags": []
   },
   "outputs": [],
   "source": [
    "print(\"This string is supposed to say \"Hello World\"!\")"
   ]
  },
  {
   "cell_type": "code",
   "execution_count": null,
   "id": "4ffc3c45",
   "metadata": {
    "editable": true,
    "slideshow": {
     "slide_type": ""
    },
    "tags": []
   },
   "outputs": [],
   "source": [
    "print('This is not quite right\")"
   ]
  },
  {
   "cell_type": "code",
   "execution_count": null,
   "id": "0bc14a53",
   "metadata": {
    "editable": true,
    "slideshow": {
     "slide_type": ""
    },
    "tags": []
   },
   "outputs": [],
   "source": [
    "print('I'm very happy to have written my first \"Hello World\" program!')"
   ]
  },
  {
   "attachments": {},
   "cell_type": "markdown",
   "id": "52a596d2",
   "metadata": {
    "editable": false,
    "slideshow": {
     "slide_type": ""
    },
    "tags": []
   },
   "source": [
    "<details>\n",
    "<summary style=\"border: 1px solid; border-radius: 3px; padding: 5px; display: inline-block; cursor: pointer;\">\n",
    "💡 Hint\n",
    "</summary>\n",
    "<p>\n",
    "    \n",
    "1. The first statement uses double quotes inside the string. So, to Python, it looks like the string ends after `to say \"`. Then, it doesn't know what to do with `Hello` as that's not a **reserved word**. You can fix this by wrapping the entire string with single quotes or by using `\\` to **escape** the quotes inside the string.\n",
    "2. The quotes at the start and end of the print statement don't match. One of them has to be changed. \n",
    "3. In this example, you'll have to use `\\`, because both types of quotes are used inside the string. \n",
    "    \n",
    "</p>\n",
    "</details>"
   ]
  },
  {
   "attachments": {},
   "cell_type": "markdown",
   "id": "8a3f4cc6",
   "metadata": {
    "editable": false,
    "slideshow": {
     "slide_type": ""
    },
    "tags": []
   },
   "source": [
    "Python has many built-in functions. For example, `print()` is a built-in function to work with strings specifically. There are also ways to count characters, split strings, or add them back together. We will not cover those features here. But I wanted to mention them so you know there will be much more you can do with strings in the future.\n",
    "\n",
    "## 🏡 How to try this at home\n",
    "([Back to top](#Table-of-Contents))\n",
    "\n",
    "You have now learned the basics of programming and how to deal with errors. You also learned the basics of code **syntax** of  and can use code to display text on a computer screen. Finally, you're able to use comments to describe your code. \n",
    "\n",
    "So far, you have only written and executed code within the web browser and the Jupyter Notebook. In reality, however, many people work with Python in **Python files** on their local computer. So, at the end of each section, you'll find some instructions to take what you have learned and practice it more without Jupyter Notebooks.\n",
    "\n",
    "You need a few things to try all this out on your personal computer. \n",
    "\n",
    "1. You need a very, very basic understanding of [how to use the command line or Terminal](https://developer.mozilla.org/en-US/docs/Learn/Tools_and_testing/Understanding_client-side_tools/Command_line) of your computer. It can be a bit intimidating at first. But it won't take too long to familiarize yourself with it.\n",
    "2. Make sure Python version 3 is installed on your computer. On Windows, you can install Python through the Windows Store. On macOS, you can just download and install Python [from the official python.org website](https://www.python.org/downloads/). On Linux, you can usually install it through a package installer. Common commands to do that are `sudo apt-get update` and `sudo apt-get install python3`. \n",
    "3. Next, you need a code editor. You can use any text editor to open and edit files in their raw format (without adding visual styles - like in Word). A popular free tool today is [Visual Studio Code](https://code.visualstudio.com/). But there are plenty of free alternatives. \n",
    "\n",
    "Once you've gone through all these steps, you can use the code editor to create a new blank file on your computer. (Make sure you remember in which folder you created the file on your computer!)\n",
    "\n",
    "You can fill that file with Python code. For example: \n",
    "\n",
    "```python\n",
    "print('Hello World')\n",
    "```\n",
    "\n",
    "Then, save that file and make sure it ends with `.py` (for \"Python\"). For example: `test.py`. \n",
    "\n",
    "To execute that Python code file you need to have a very basic understanding of the command line ([see the link above](https://developer.mozilla.org/en-US/docs/Learn/Tools_and_testing/Understanding_client-side_tools/Command_line)). At the very least you need to know how to navigate your computer and open specific folders in the command line. Navigate to the folder the new Python file is in through the command line. Then, type `python3 test.py` and hit the <kbd>Enter</kbd> key to execute the file. That's it. You just ran a Python program!"
   ]
  },
  {
   "cell_type": "markdown",
   "id": "37c12b4b-7141-4607-9d97-73f22f0fdc9e",
   "metadata": {
    "editable": false,
    "slideshow": {
     "slide_type": ""
    },
    "tags": []
   },
   "source": [
    "--- \n",
    "\n",
    "_Author: Samuel Boguslawski - Current Version: Dec 8, 2023 - © 2023 Licensed under [CC BY-NC 4.0](https://creativecommons.org/licenses/by-nc/4.0/?ref=chooser-v1)_"
   ]
  }
 ],
 "metadata": {
  "kernelspec": {
   "display_name": "Python 3 (ipykernel)",
   "language": "python",
   "name": "python3"
  },
  "language_info": {
   "codemirror_mode": {
    "name": "ipython",
    "version": 3
   },
   "file_extension": ".py",
   "mimetype": "text/x-python",
   "name": "python",
   "nbconvert_exporter": "python",
   "pygments_lexer": "ipython3",
   "version": "3.11.3"
  },
  "vscode": {
   "interpreter": {
    "hash": "58243efc57a824e48bd8accfc07ecdf19a1d136d4cb030c6b2d8e282c2acc61d"
   }
  }
 },
 "nbformat": 4,
 "nbformat_minor": 5
}
