{
 "cells": [
  {
   "attachments": {},
   "cell_type": "markdown",
   "id": "29b9c1d3",
   "metadata": {},
   "source": [
    "# A practical introduction to Programming with Python\n",
    "\n",
    "_version 0.3 (July 4th, 2023)_\n",
    "\n",
    "## Table of Contents\n",
    "\n",
    "- [👋 Welcome!](#👋-Welcome!)\n",
    "- [🤖 How this course works](#🤖-How-this-course-works)\n",
    "- [👩‍💻 This is programming](#👩‍💻-This-is-programming)\n",
    "- [🐍 This is Python](#🐍-This-is-Python)\n",
    "- [🐣 Hello World](#🐣-Hello-World)\n",
    "- [💭 Comments](#💭-Comments)\n",
    "- [🅰️ Simple data types and strings](#🅰%EF%B8%8F-Simple-data-types-and-strings)\n",
    "- [1️⃣ Numbers and basic math](#1%EF%B8%8F⃣-Numbers-and-basic-math)\n",
    "- [📂 Variables](#📂-Variables)\n",
    "- [🏡 How to try this at home](#🏡-How-to-try-this-at-home)\n",
    "\n",
    "## 👋 Welcome!\n",
    "\n",
    "Welcome to this **practical introduction to programming**. This course is aimed at complete beginners. It's filled with practical examples to learn by coding. However, there is a bit of extra context for parts that I've seen most beginners struggle with.\n",
    "\n",
    ">_Disclaimer: This course was designed for testing purposes. It's still work-in-progress and will likely be changed drastically, in the future. For questions or suggestions reach out to: samuel.boguslawski@code.berlin_\n",
    "\n",
    "## 🤖 How this course works\n",
    "([Back to top](#Table-of-Contents))\n",
    "\n",
    "This course is written as a **Jupyter Notebook**. If you aren't familiar with Jupyter Notebooks or don't remember the **important keyboard shortcuts** click the button below. \n",
    "\n",
    "<details>\n",
    "<summary style=\"border: 1px solid; border-radius: 3px; padding: 5px; display: inline-block; cursor: pointer; margin-top: 10px;\">\n",
    "🌚 <b>Jupyter what?</b>\n",
    "</summary>\n",
    "<p>\n",
    "\n",
    ">You are currently looking at a so-called **Jupyter Notebook**. In essence that's just a file (like any other Word or PDF file). Those files are viewed in a program like **JupyterLab**, which usually runs in the web browser. The interface can be a bit overwhelming. But luckily you can ignore most of it unless you start creating many of your own notebooks. \n",
    ">\n",
    ">The purpose of a Jupyter file is to combine ([Markdown](https://www.markdownguide.org/)) text and interactive code snippets within the same screen. As you can see below, there is some text and you can execute code right there. \n",
    ">\n",
    ">**Jupyter Notebooks are separated into cells**. A **cell** is either **interactive code** or ([Markdown](https://www.markdownguide.org/) formatted) **text**. You can select cells by clicking on them or using the <kbd>↑</kbd> <kbd>↓</kbd> arrow keys on the keyboard. The currently selected cell is usually highlighted on the left side. \n",
    ">\n",
    ">To edit a cell, you first select it and then hit the <kbd>Enter</kbd> key to start **Edit Mode**. You can start to edit multiple cells at once. To **exit Edit Mode** use the <kbd>Esc</kbd> key on the keyboard. \n",
    ">\n",
    ">Cells can be either text or code. If you have selected a **code cell** you can hit the keyboard shortcut <kbd>Ctrl</kbd> + <kbd>Enter</kbd> to execute the code right there and **see the output right below the code cell**. Alternatively, you can click on the little \"Run\" or `▶` button.\n",
    ">\n",
    ">There is a lot more you can do with Jupyter. But for now, this is all you need to know to work with this file. **Don't worry abou breaking anything**. It's just a file running on your computer. You can always close it without saving and open it again and you have access to the file's original state again. \n",
    "\n",
    "</p>\n",
    "</details>\n",
    "\n",
    "This course is highly interactive. The point of using a Jupyter Notebook is that you get to try out what you have learned right here.\n",
    "\n",
    ">**💡 Only by writing code yourself will you actually learn!**\n",
    "\n",
    "_But what if I get errors?_ **🚀 Don't Panic!**\n",
    "\n",
    "Make sure to do the exercises and **don't be afraid to break things**. The whole point is for you to try things out and getting errors is a good thing! Programmers deal with errors the majority of the day. The point of an error is to help you understand how to fix your code. So make sure to read the error message and try to understand what it's telling you. \n",
    "\n",
    "**Usually, an error message contains the most crucial information either in the beginning or end.** But you may also have to search a bit. \n",
    "\n",
    "If you can't figure out what the error is saying, try to copy and paste parts of it into your preferred search engine to see if someone has had the same issue before. (That's exactly how most senior programmers also do it!)\n",
    "\n",
    "Most likely, you'll end up on a page like **StackOverflow** or **GitHub**. On StackOverflow, you may scroll through various answers to find one that works best. You can also search directly for your issue there. GitHub is a platform to host code projects. So if you find solutions there, they might likely be bug reports or discussions on a code repository. For a beginner, this might be a bit harder to understand. But it can be very valuable to read through discussions of professional programmers to get an idea of how problems are solved in the industry.\n",
    "\n",
    "You can also use **LLM AI (Large Language Model)** to help during your learning process. Popular ones are [ChatGPT](https://chat.openai.com/), [Bing](https://www.bing.com/new), and [GitHub Copilot](https://github.com/features/copilot). Other interesting choices are [the MDN AI Help](https://developer.mozilla.org/en-US/plus/ai-help) and there are several [free and open-source LLMs](https://chat.lmsys.org/). There are a few things LLMs are particularly good at and a few aspects you have to be very careful of. \n",
    "\n",
    "LLMs are particularly good at **explaining concepts in simple terms** (e.g., just add \"explain like I'm five ...\" to your prompt). They are also helpful in **explaining code and identifying bugs** [1]. \n",
    "\n",
    "You should also be careful with them, though. An LLM is only as good as the data it's been trained with. There is always the chance that the results are **highly biased** based on the original authors of the sample data. They can even be made up or simply wrong. LLMs already work impressively well. Nonetheless, it's their nature that you can never be 100% certain of the integrity or quality of the results. Keep that in mind and always verify the answers with multiple sources. \n",
    "\n",
    "## 👩‍💻 This is programming\n",
    "([Back to top](#Table-of-Contents))\n",
    "\n",
    "All computer software and everything you're looking at on the screen right now had to be **programmed** at some point. You're using a program to view this course. This program runs on an **operating system** (like Windows, macOS, iOS, Android, Linux, or Linux). The operating system (short \"OS\") is also just a program.\n",
    "\n",
    "All computers have a piece of hardware called a **\"processor\"**. This is the heart of every computer as it runs the software. There are of course a lot more parts to that. But you need to understand that programming at the end of the day is writing instructions to be executed by the processor and all its connected parts. \n",
    "\n",
    "Writing instructions that are understandable to the processor is hard and these instructions tend to not be very readable by humans. Look at this example of Assembly code to display the message \"Hello World!\":\n",
    "\n",
    "```asm\n",
    "org  0x100\n",
    "\n",
    "mov  dx, msg\n",
    "mov  ah, 9\n",
    "\n",
    "int  0x21\n",
    "mov  dl, 0x0d\n",
    "mov  ah, 2\n",
    "\n",
    "int  0x21\n",
    "mov  dl, 0x0a\n",
    "mov  ah, 2\n",
    "\n",
    "int  0x21\n",
    "mov  ah, 0x4c\n",
    "int  0x21\n",
    "\n",
    "msg  db 'Hello again, World!$'\n",
    "```\n",
    "\n",
    "That's how developers used to program (and sometimes now still do). That's very hard to read. That's why, over time, a lot of new programming languages were developed. Those newer programming languages are meant to be understandable to humans. However, to make those programming languages understandable by the processor, they have to be converted back into something that looks closer to the code above. That step is called **\"compiling\"**. \n",
    "\n",
    "Very broadly speaking there are two ways to **compile** code. Either you compile it after writing it on the computer of the developer. Or you tell every user who wants to execute the code to install a program on their own computer that then compiles the code on the fly. \n",
    "\n",
    "Programming languages like **C**, **C++**, or **Rust** are compiled by the developer and when a user executes the program they can just run it on their computer. This is the case for most desktop applications, games, or phone apps. \n",
    "\n",
    "Programming languages like **Python** or **JavaScript** are usually compiled on the fly. That means when I write a Python program and give it to you I'm just giving you a code file that ends on **.py**. If you want to run that file on your computer you have to have **Python** installed. That's basically the compiler that turns the Python code into something understandable by the computer on the fly. \n",
    "\n",
    "The benefit of the second category is that you can share the raw code with the person who is executing it. This is particularly useful if it's software that is run by other developers. The benefit of the first category of programming languages is that you can give people an executable file (like a .exe file on Windows) and they don't have to worry about installing any additional software to run it. However, they won't be able to read or alter the code. So this is useful for applications like games that are given to users who don't care about the code. \n",
    "\n",
    "## 🐍 This is Python\n",
    "([Back to top](#Table-of-Contents))\n",
    "\n",
    "In this course, you'll learn **Python**. Python is very popular these days because it's very versatile. It's used a lot in data science but also in web development and other domains. Compared to other programming languages, Python is also quite easy to read and write because a lot of it looks like regular English. \n",
    "\n",
    "Under the hood, Python is compiled into something that the processor can understand (see the graphic below). That's done by the software **Python** that needs to be installed on your computer in order to run Python. \n",
    "\n",
    "Python is also integrated into **Jupyter Notebooks**. That's why you can execute Python code also from within this page."
   ]
  },
  {
   "attachments": {},
   "cell_type": "markdown",
   "id": "a841dacc",
   "metadata": {},
   "source": [
    "<svg style=\"width: auto; height: auto; max-width: 100%;\" version=\"1.1\" xmlns=\"http://www.w3.org/2000/svg\" viewBox=\"0 0 1299.609806687763 233.27695869671282\" width=\"1299.609806687763\" height=\"233.27695869671282\">\n",
    "  <!-- svg-source:excalidraw -->\n",
    "  \n",
    "  <defs>\n",
    "    <style class=\"style-fonts\">\n",
    "      @font-face {\n",
    "        font-family: \"Virgil\";\n",
    "        src: url(\"https://file%2B.vscode-resource.vscode-cdn.net/Users/sam/.vscode/extensions/pomdtr.excalidraw-editor-3.5.1/public//dist/excalidraw-assets/Virgil.woff2\");\n",
    "      }\n",
    "      @font-face {\n",
    "        font-family: \"Cascadia\";\n",
    "        src: url(\"https://file%2B.vscode-resource.vscode-cdn.net/Users/sam/.vscode/extensions/pomdtr.excalidraw-editor-3.5.1/public//dist/excalidraw-assets/Cascadia.woff2\");\n",
    "      }\n",
    "    </style>\n",
    "  </defs>\n",
    "  <rect x=\"0\" y=\"0\" width=\"1299.609806687763\" height=\"233.27695869671282\" fill=\"#ffffff\"></rect><g stroke-linecap=\"round\" transform=\"translate(659.670188082727 43.62242647794034) rotate(0 173 76.5)\"><path d=\"M32 0 M32 0 C143.78 0, 255.57 0, 314 0 M32 0 C123.08 0, 214.16 0, 314 0 M314 0 C335.33 0, 346 10.67, 346 32 M314 0 C335.33 0, 346 10.67, 346 32 M346 32 C346 55.76, 346 79.51, 346 121 M346 32 C346 59.5, 346 87, 346 121 M346 121 C346 142.33, 335.33 153, 314 153 M346 121 C346 142.33, 335.33 153, 314 153 M314 153 C222.09 153, 130.17 153, 32 153 M314 153 C227.72 153, 141.45 153, 32 153 M32 153 C10.67 153, 0 142.33, 0 121 M32 153 C10.67 153, 0 142.33, 0 121 M0 121 C0 101.12, 0 81.25, 0 32 M0 121 C0 95.23, 0 69.46, 0 32 M0 32 C0 10.67, 10.67 0, 32 0 M0 32 C0 10.67, 10.67 0, 32 0\" stroke=\"#000000\" stroke-width=\"1\" fill=\"none\"></path></g><g transform=\"translate(664.670188082727 84.12242647794034) rotate(0 146.484375 36)\"><text x=\"0\" y=\"0\" font-family=\"Cascadia, Segoe UI Emoji\" font-size=\"20px\" fill=\"#000000\" text-anchor=\"start\" style=\"white-space: pre;\" direction=\"ltr\" dominant-baseline=\"text-before-edge\">LOAD_CONST 'Hello World!'</text><text x=\"0\" y=\"24\" font-family=\"Cascadia, Segoe UI Emoji\" font-size=\"20px\" fill=\"#000000\" text-anchor=\"start\" style=\"white-space: pre;\" direction=\"ltr\" dominant-baseline=\"text-before-edge\">CALL_FUNCTION print</text><text x=\"0\" y=\"48\" font-family=\"Cascadia, Segoe UI Emoji\" font-size=\"20px\" fill=\"#000000\" text-anchor=\"start\" style=\"white-space: pre;\" direction=\"ltr\" dominant-baseline=\"text-before-edge\">POP_TOP</text></g><g stroke-linecap=\"round\" transform=\"translate(219.12221618025245 82.63185133025576) rotate(0 172.00000000000003 36.5)\"><path d=\"M18.25 0 M18.25 0 C91.87 0, 165.5 0, 325.75 0 M18.25 0 C114.5 0, 210.75 0, 325.75 0 M325.75 0 C337.92 0, 344 6.08, 344 18.25 M325.75 0 C337.92 0, 344 6.08, 344 18.25 M344 18.25 C344 26.99, 344 35.74, 344 54.75 M344 18.25 C344 27.45, 344 36.64, 344 54.75 M344 54.75 C344 66.92, 337.92 73, 325.75 73 M344 54.75 C344 66.92, 337.92 73, 325.75 73 M325.75 73 C214.42 73, 103.08 73, 18.25 73 M325.75 73 C205.33 73, 84.92 73, 18.25 73 M18.25 73 C6.08 73, 0 66.92, 0 54.75 M18.25 73 C6.08 73, 0 66.92, 0 54.75 M0 54.75 C0 43.05, 0 31.36, 0 18.25 M0 54.75 C0 42.88, 0 31.01, 0 18.25 M0 18.25 C0 6.08, 6.08 0, 18.25 0 M0 18.25 C0 6.08, 6.08 0, 18.25 0\" stroke=\"#000000\" stroke-width=\"1\" fill=\"none\"></path></g><g transform=\"translate(224.12221618025245 107.13185133025576) rotate(0 123.046875 12)\"><text x=\"0\" y=\"0\" font-family=\"Cascadia, Segoe UI Emoji\" font-size=\"20px\" fill=\"#000000\" text-anchor=\"start\" style=\"white-space: pre;\" direction=\"ltr\" dominant-baseline=\"text-before-edge\">print('Hello World!')</text></g><g stroke-linecap=\"round\" transform=\"translate(1170.5014405624433 97.90176797950807) rotate(0 24.293959215082737 22.8478902141849)\"><path d=\"M0 0 C0 0, 0 0, 0 0 M0 0 C0 0, 0 0, 0 0 M0.08 5.99 C1.48 4.55, 1.81 3.82, 4.73 0.4 M0.03 6.46 C1.63 4.27, 2.94 2.68, 5.36 0.21 M0.2 12.26 C2.38 7.44, 7.51 2.48, 9.56 -1.58 M0.73 11.7 C3.8 7.91, 7.68 3.25, 11.42 -0.15 M-0.6 17.9 C4.52 13.23, 6.11 11.92, 16.3 0.31 M-0.41 19.39 C6.33 12.11, 11.1 4.75, 14.86 0.72 M0.46 25.97 C8.36 12.98, 15.37 4.35, 19.39 0.67 M0.45 23.22 C8.84 14.52, 17.18 5.93, 22.1 0.07 M1.63 29.37 C9.6 21.7, 19.27 9.52, 26.2 -1.26 M-0.22 31.36 C6.2 23.5, 14.2 15.49, 25.89 1.02 M-0.14 37.37 C9.39 25.66, 19.35 14.95, 31.43 1.2 M0.31 36.9 C8.53 26.2, 18.61 15.61, 32.52 0.64 M1.01 40.82 C9.52 31.62, 21.29 19.01, 37.74 0.58 M-0.37 42.06 C12.5 27.6, 26.42 12.39, 36.2 0.98 M2.04 44.93 C12.15 34.55, 21.29 23.14, 41.24 0.08 M1.62 47.29 C10.71 37.61, 18.63 26.31, 42.67 -0.83 M8.53 46.55 C18.6 33.38, 30.6 17.38, 48.36 0.41 M6.15 47.89 C17.95 33.53, 28.9 22.51, 47.41 0.54 M10.28 46.58 C23.93 36.63, 32.39 25.42, 51.39 2.82 M11.93 46.61 C26.71 31.52, 40.59 15.85, 51.26 2.94 M18.73 46.18 C24.62 36.28, 34.26 26.82, 51.98 8.92 M18.1 47.19 C26.91 36.66, 36 26.3, 51.29 8.82 M23.16 46.39 C34.68 34.29, 42.35 23.37, 50.57 12.97 M21.71 48.27 C32.06 36.07, 40.9 26.29, 52.29 14.84 M27.55 45.64 C37.72 36.01, 45.42 29.93, 51.4 21.74 M28.77 46.17 C36.51 37.7, 44.7 26.8, 51.15 19.96 M31.49 46.63 C37.09 43.48, 43.08 38.1, 50.63 28.28 M32.36 48.02 C38.08 42.81, 42.05 37.07, 51.08 26.55 M39.56 45.18 C39.94 42.58, 45.53 41.49, 52.43 31.11 M38.34 47.8 C40.4 44.36, 44.18 41.52, 51.07 31.75 M43.04 48.02 C46.38 44.06, 48.1 43.6, 51.28 38.89 M43.52 47.5 C45.97 44.06, 48.16 41.37, 50.58 39.34 M0.02 45.71 C0.02 45.71, 0.02 45.71, 0.02 45.71 M0.02 45.71 C0.02 45.71, 0.02 45.71, 0.02 45.71 M5.92 46.07 C4.1 44.31, 2.28 43.26, 0.82 41.01 M6.5 45.87 C4.44 43.86, 2.15 41.62, 0.56 40.84 M11.57 45.38 C9.52 41.4, 4.81 41.54, 0.9 35.92 M11.31 45.12 C9.31 42.55, 5.78 39.42, -0.32 35.7 M17.43 44.68 C11.4 42.78, 8.11 35.3, -0.33 29.16 M18.66 45.08 C13.05 40.41, 4.75 35.39, 0.01 29.36 M23.38 43.54 C20.53 40.54, 13.09 37.02, 1.75 23.62 M23.46 45.5 C18.03 38.48, 9.94 33.35, -0.96 23.5 M32.3 47.54 C22.31 37.3, 10.79 29.93, -1.52 20.29 M29.77 45.04 C23.17 37.63, 13.34 31.91, 0.33 19.25 M36.86 46.91 C25.61 34.89, 16.11 25.66, -0.45 13.16 M36.9 45.1 C23.91 34, 9.34 22.07, -0.48 14.46 M43.85 47.22 C25.38 33.9, 11.4 18.03, -0.52 9.54 M42.97 44.87 C28.22 33.03, 14.14 20.51, 0.7 9.18 M48.6 46.21 C37.17 34.24, 26.54 24.11, 1.72 1.59 M49.53 45.31 C36.1 33.57, 21.64 22.07, -0.22 3.54 M49.86 40.71 C33.22 27.65, 19.24 11.89, 1.7 -0.94 M47.65 40.45 C33.89 28.54, 20.34 16.48, 1.68 -0.3 M50.17 34.47 C39.23 26.24, 28.13 16.55, 6.7 0.11 M48.5 34.48 C33.27 22.82, 18.31 8.83, 7.49 -1 M49.85 29.99 C37.23 17.16, 23.41 8, 12.73 0.29 M48.6 29.79 C34.27 17.43, 20.55 5.17, 13.52 -1.79 M47.28 25.82 C37.47 13.4, 26.19 4.6, 20.09 0.48 M48.28 23.65 C40.32 17.75, 31.05 9.05, 20.12 -0.26 M47.09 20.11 C43.84 13.46, 38.91 7.27, 26.96 0.46 M49.07 17.98 C43.62 14.92, 37.24 10.22, 25.48 -1.51 M50.3 14.69 C43.57 10.27, 40.23 5.61, 29.68 -3.02 M48.13 14.74 C44.92 11.22, 39.4 6.52, 31.07 -1.76 M47.11 7.12 C45.33 6.92, 44.87 4.58, 37.68 -1.65 M47.88 7.91 C45.04 5.11, 40.28 0.92, 38.51 -0.87 M48.61 3.65 C47.56 1.56, 45 -0.05, 42.82 -1.68 M48.94 3.56 C47.47 1.81, 45.76 0.45, 43.19 -1.27\" stroke=\"#868e96\" stroke-width=\"0.5\" fill=\"none\"></path><path d=\"M-0.91 0.21 C13.78 -0.38, 25.03 -1.1, 47.2 0.61 M-0.09 -0.32 C10.67 0.89, 22.59 0.15, 48.26 -0.12 M49.02 -1.48 C50.06 8.73, 47.57 18.96, 48.86 47.44 M47.68 -0.63 C47.71 14.94, 48.67 30.09, 48.22 45.46 M47.15 45.87 C36.51 44.33, 23.68 46.6, 1.93 44.2 M47.62 45.79 C36.29 45.1, 24.79 46.15, 0.47 46.16 M0.58 44.85 C1.91 33.57, 2.1 22.45, -0.03 1.78 M-0.89 45.95 C-0.83 32.51, -0.63 21.37, 0.87 -0.78\" stroke=\"#000000\" stroke-width=\"1\" fill=\"none\"></path></g><g stroke-linecap=\"round\" transform=\"translate(1180.3347097685478 71.8725259633481) rotate(0 2.313710401436424 13.014621008080013)\"><path d=\"M0 0 C0 0, 0 0, 0 0 M0 0 C0 0, 0 0, 0 0 M0.53 6.28 C0.81 4.29, 2.47 2.2, 4.77 0.86 M-0.12 6.39 C1.14 4.67, 2.43 3.51, 5.37 0.68 M-0.4 12.32 C2.15 9.73, 2.97 8.85, 5.39 6.68 M-0.19 12.17 C1.45 11.13, 2.42 9.92, 4.42 6.92 M0.54 18.55 C1.65 15.72, 2.47 15.3, 4.67 12.73 M-0.14 18.13 C1.45 16.44, 3.01 14.3, 5.47 12.09 M0.01 24.59 C1.94 22.63, 4.33 20.05, 5.03 19.03 M0.19 24.31 C1.54 22.41, 2.81 21.24, 4.87 18.49 M2.29 28.59 C2.92 26.87, 3.7 26.01, 4.83 24.21 M2.08 28.26 C3.19 27.1, 4.24 25.62, 5.14 24.27 M-0.06 25.98 C-0.06 25.98, -0.06 25.98, -0.06 25.98 M-0.06 25.98 C-0.06 25.98, -0.06 25.98, -0.06 25.98 M5.69 25.1 C3.69 23.61, 1.1 22.79, 0.14 20.75 M5.73 25.62 C3.89 24.05, 2.29 22.49, 0.61 21.01 M5.12 20.17 C3.83 18.84, 3.01 17.57, -0.37 15.97 M5.23 20.07 C3.53 18.33, 1.29 16.81, -0.36 15.68 M5.61 15.55 C3.71 13.71, 2.85 12.76, -0.01 9.84 M5.74 15.03 C4 13.9, 2.82 12.65, 0.34 10.61 M5.41 9.55 C3.98 8.07, 1.25 6.67, -0.46 5.24 M5.03 9.11 C3.92 8.03, 2.5 6.68, 0.2 4.72 M6.2 4.82 C4.5 2.73, 2.97 1.69, -0.22 0.2 M5.58 4.54 C4.53 3.33, 3.16 2.54, -0.04 -0.26\" stroke=\"#868e96\" stroke-width=\"0.5\" fill=\"none\"></path><path d=\"M-0.17 -0.11 C1.19 -0.15, 2.84 -0.35, 4.67 0 M0.22 -0.17 C0.96 -0.22, 2.24 -0.25, 4.65 -0.03 M5.56 0.93 C3.45 4.75, 4.56 12.1, 3.78 27.7 M4.61 0.89 C4.64 6.22, 5.1 10.99, 4.89 25.33 M5.03 25.67 C3.36 26.37, 2.04 25.88, 0.29 25.57 M4.63 26.22 C3.28 25.85, 2.21 25.93, -0.05 25.94 M-1.6 27.23 C-0.52 17.15, -0.54 10.52, -1.03 0.8 M-0.32 26.08 C0.33 18.15, 0.71 12.79, 0.16 0.55\" stroke=\"#000000\" stroke-width=\"1\" fill=\"none\"></path></g><g stroke-linecap=\"round\" transform=\"translate(1193.0601169764482 71.58331216316839) rotate(0 2.313710401436424 13.014621008080013)\"><path d=\"M0 0 C0 0, 0 0, 0 0 M0 0 C0 0, 0 0, 0 0 M-0.72 5.65 C1.6 5.42, 3.21 3.71, 5.14 -0.33 M0.13 6.73 C1.6 4.37, 2.97 1.88, 5.31 0.14 M-0.45 12.02 C1.14 9.96, 3.25 7.77, 4.57 7.38 M0.43 11.91 C1.36 10.82, 2.43 9.97, 4.75 6.84 M-0.22 18.25 C2.15 16.36, 3.01 14.23, 5.57 12.42 M0.08 18.69 C1.27 17.09, 1.98 15.6, 5.29 12.06 M0.15 24.38 C1.53 23.15, 2.91 21.74, 4.5 18.47 M0.45 23.84 C1.55 22.7, 2.04 21.3, 4.89 18.5 M1.94 27.89 C2.95 26.75, 3.91 25.99, 5.14 24.76 M1.76 28.25 C2.91 26.93, 4.12 25.39, 5.47 24.38 M-0.06 25.98 C-0.06 25.98, -0.06 25.98, -0.06 25.98 M-0.06 25.98 C-0.06 25.98, -0.06 25.98, -0.06 25.98 M6.11 25.66 C3.76 24.17, 1.37 21.59, 0.38 20.45 M5.65 25.61 C3.8 23.68, 1.46 22.21, 0.52 20.85 M5.21 20.31 C4.17 18.67, 3.25 18.18, 0.35 15.5 M5.23 20.07 C3.34 18.55, 1.36 16.31, 0.03 15.18 M5.81 14.69 C3.19 13.39, 1.4 11.59, -0.25 11.01 M5.85 15.3 C4.22 13.73, 2.19 12.3, 0.17 10.13 M5.79 9.43 C3.67 8.1, 1.3 6.07, 0.35 4.17 M4.86 9.35 C3.34 7.78, 2.14 6.48, -0.4 4.6 M6.04 4.27 C4.51 2.59, 2.45 2.23, -0.27 0.23 M5.23 4.43 C3.3 2.31, 1.28 0.52, 0.39 -0.59\" stroke=\"#868e96\" stroke-width=\"0.5\" fill=\"none\"></path><path d=\"M-0.43 -0.01 C2.19 -0.15, 3.68 0.06, 4.22 0.12 M0.23 0.2 C0.88 -0.04, 2.28 -0.13, 4.53 0.14 M2.92 0.06 C6.19 4.71, 3.36 11.9, 4.1 25.59 M3.66 -0.8 C5.27 6.49, 4.31 13.3, 5.05 25.51 M4.99 25.88 C3.08 26.02, 1.06 26.2, 0.34 26.1 M4.64 26.24 C2.9 26.13, 1.28 26.17, 0.01 26.06 M-1.39 24.7 C-1.87 21.87, 1.3 14.32, 1.5 -0.86 M0.02 27.02 C-0.23 17.71, -0.21 10.14, -0.24 -0.27\" stroke=\"#000000\" stroke-width=\"1\" fill=\"none\"></path></g><g stroke-linecap=\"round\" transform=\"translate(1204.6286689836306 72.16173976352746) rotate(0 2.313710401436424 13.014621008080013)\"><path d=\"M0 0 C0 0, 0 0, 0 0 M0 0 C0 0, 0 0, 0 0 M-0.08 7.08 C1.53 4.59, 3.78 2.36, 5.63 0.41 M0 6.35 C1.33 4.71, 3.11 2.3, 4.91 0.59 M-0.08 12.41 C2.01 10.95, 2.8 8.65, 4.2 7.06 M0.25 11.98 C1.3 10.95, 2.34 9.92, 4.91 6.58 M-0.13 18.86 C0.7 17.46, 2.21 14.6, 4.36 12.48 M-0.46 18.41 C0.75 17.21, 1.77 15.97, 4.99 12.31 M0.14 23.49 C2.02 21.65, 3.6 19.95, 4.21 19.39 M0.1 23.77 C1.71 22.65, 2.72 21.07, 4.77 18.56 M1.98 28.54 C3.19 26.95, 4.31 25.18, 5.24 24.06 M1.98 28.4 C2.82 27.31, 3.78 26.2, 5.1 24.47 M-0.06 25.98 C-0.06 25.98, -0.06 25.98, -0.06 25.98 M-0.06 25.98 C-0.06 25.98, -0.06 25.98, -0.06 25.98 M6.16 25.66 C4.11 24.35, 2.69 22.84, -0.24 21.24 M5.29 25.72 C4.09 24.2, 2.99 23.14, 0.36 20.73 M4.73 20.54 C3.8 18.62, 1.42 15.92, 0.19 15.16 M5.35 20.26 C3.98 19.04, 2.91 17.74, -0.04 15.59 M5.45 14.37 C4.45 13.56, 2.94 13.36, 0.19 9.81 M5.69 15.21 C4.13 14.01, 2.5 12.48, 0.47 10.11 M5.75 8.73 C3.36 7.36, 0.68 5.74, -0.63 5.03 M5.36 9.49 C4.32 8.05, 2.66 7.49, -0.4 4.58 M5.8 4.63 C3.39 1.93, 1.18 0.63, -0.19 -0.69 M5.67 4.57 C3.66 2.56, 1.69 0.97, 0.07 -0.39\" stroke=\"#868e96\" stroke-width=\"0.5\" fill=\"none\"></path><path d=\"M-0.23 -0.45 C0.92 0.27, 2.42 -0.17, 4.47 0.2 M-0.22 0.18 C1.07 0.03, 2.32 -0.19, 4.74 0.17 M4.2 0.15 C6.62 7.5, 5.71 15.9, 5.93 26.11 M4.66 -0.69 C3.73 7.21, 5.06 16.96, 4.26 26.78 M4.59 26.04 C3.9 25.97, 1.86 25.99, -0.44 25.92 M4.56 26.16 C3.44 25.99, 2.22 25.81, 0.17 25.96 M0.15 24.21 C-1.72 16.53, 1.48 3.44, -0.06 0.19 M-0.64 25.45 C-0.91 16.13, 0.95 5.98, 0.96 0.19\" stroke=\"#000000\" stroke-width=\"1\" fill=\"none\"></path></g><g stroke-linecap=\"round\" transform=\"translate(1180.3347097685478 143.30833460769833) rotate(0 2.313710401436424 13.014621008080042)\"><path d=\"M0 0 C0 0, 0 0, 0 0 M0 0 C0 0, 0 0, 0 0 M-0.8 6.97 C1.21 3.5, 2.66 2.21, 4.3 0.17 M-0.52 6.44 C0.84 4.86, 2.49 3.06, 5.24 0.54 M0.24 11.56 C1.83 9.9, 2.83 8.83, 4.56 6.52 M0.28 12.07 C1.46 10.39, 2.88 8.61, 5.03 6.77 M-0.21 18.7 C0.61 16.94, 1.98 15.33, 4.8 13.11 M-0.09 18.58 C1.91 16.24, 3.29 14.23, 4.81 12.78 M0.32 24.67 C1.26 22.62, 3.25 21.47, 4.58 18.27 M0.45 24.16 C1.43 22.84, 2.96 21.4, 4.93 19.05 M2.16 28.38 C3.35 27.16, 3.62 26.01, 5.02 24.81 M1.88 28.07 C2.93 27.14, 3.75 26.05, 5.49 24.44 M-0.06 25.98 C-0.06 25.98, -0.06 25.98, -0.06 25.98 M-0.06 25.98 C-0.06 25.98, -0.06 25.98, -0.06 25.98 M5.65 25.19 C3.52 24.39, 1.89 21.84, 0.07 20.81 M5.56 25.82 C3.33 23.83, 1.8 21.92, 0.55 21.31 M5.39 19.68 C2.92 18.23, 1.21 17.22, -0.73 14.75 M5.42 19.67 C3.58 19, 2.37 17.64, 0.24 15.04 M5.47 14.35 C3.56 13.36, 1.6 11.5, 0.74 10.82 M5.66 14.93 C4.53 14.11, 3.18 12.97, 0.41 10.31 M4.72 9.78 C3.8 8.37, 3.51 7.7, -0.61 4.53 M5.2 9.64 C3.42 7.7, 1.1 5.55, 0.14 4.88 M6.12 4.91 C4.59 3.07, 3.64 1.92, 0.32 -0.55 M5.71 4.45 C4.21 2.9, 2.06 1.64, 0.14 0.03\" stroke=\"#868e96\" stroke-width=\"0.5\" fill=\"none\"></path><path d=\"M0.46 -0.07 C1.14 -0.06, 2.64 -0.11, 4.5 0.29 M0.08 0 C1.16 -0.21, 2.27 -0.09, 4.85 0.19 M3.11 0.79 C6.34 6.12, 4.58 16.43, 6.52 25.8 M3.69 0.37 C5.38 5.93, 5.42 11.08, 3.76 26.49 M5.01 26.09 C3.3 25.61, 1.4 26.45, -0.26 26.22 M4.62 25.85 C2.98 26, 1.29 25.94, 0.2 25.85 M-0.72 27.49 C-0.27 17.8, 1.55 6.25, 0.49 0.66 M-0.23 26.68 C-0.22 18.08, -0.36 11.61, 0.02 -0.88\" stroke=\"#000000\" stroke-width=\"1\" fill=\"none\"></path></g><g stroke-linecap=\"round\" transform=\"translate(1193.0601169764477 143.01912080751873) rotate(0 2.313710401436424 13.014621008080042)\"><path d=\"M0 0 C0 0, 0 0, 0 0 M0 0 C0 0, 0 0, 0 0 M0.32 6.03 C0.53 3.86, 2.93 2.13, 4.8 0.12 M-0.22 6.04 C0.97 4.99, 1.93 4.06, 5.16 0.61 M-0.35 12.05 C1.22 9.89, 3.36 8.89, 4.48 6.8 M0.17 11.93 C1.25 10.6, 2.25 9.67, 4.74 6.42 M0.13 18.11 C1.18 16.6, 2.39 14.48, 5.83 12.79 M0.02 18.65 C1.36 16.37, 3.04 14.48, 5.5 12.35 M0.86 23.8 C2.13 22.39, 4.3 19.65, 4.33 18.62 M0.34 23.97 C1.72 22.78, 2.98 21.26, 5.11 18.85 M2.14 28.59 C3.36 26.37, 4.66 25.08, 5.62 24.24 M1.83 28.29 C2.59 27.46, 3.19 26.83, 5.25 24.37 M-0.06 25.98 C-0.06 25.98, -0.06 25.98, -0.06 25.98 M-0.06 25.98 C-0.06 25.98, -0.06 25.98, -0.06 25.98 M5.19 25.32 C4.54 24.2, 2.06 22.74, 0.12 21.52 M5.82 25.33 C3.68 24.22, 1.7 22.7, 0.62 21.08 M4.93 19.43 C3.02 17.69, 1.48 15.79, -0.69 14.92 M4.92 19.61 C3.4 18.05, 1.23 17, -0.4 15.46 M4.95 14.74 C3.64 12.97, 1.52 12.3, 0.72 9.71 M5.53 15.05 C3.77 13.22, 1.75 11.95, 0.21 10.02 M5.62 9.01 C3.89 8.59, 2.81 6.46, -0.32 5.29 M5.49 9.56 C4.14 8.17, 2.48 7.39, 0.03 4.42 M6.1 4.55 C3.31 3.09, 1.2 1.08, -0.05 -0.23 M5.64 4.63 C3.9 2.82, 2.55 1.66, 0.53 -0.31\" stroke=\"#868e96\" stroke-width=\"0.5\" fill=\"none\"></path><path d=\"M-0.07 -0.39 C1.29 -0.48, 2.59 -0.17, 4.91 -0.34 M0 0.11 C1.07 0.16, 2.46 0.21, 4.81 0.03 M5.42 1.7 C2.39 7.95, 4.58 17.91, 4.4 24.22 M5 0.92 C4.96 7.09, 4.67 11.4, 5.09 26.13 M4.69 26.14 C2.51 25.71, 1.69 25.81, 0.19 26.21 M4.45 25.95 C2.78 25.82, 0.87 26.23, -0.18 26.22 M1.46 25.82 C1.5 19.24, -0.1 9.71, 0.66 -0.24 M0.65 25.98 C-0.43 16.33, 0.6 7.04, -0.88 0.18\" stroke=\"#000000\" stroke-width=\"1\" fill=\"none\"></path></g><g stroke-linecap=\"round\" transform=\"translate(1204.628668983629 143.59754840787792) rotate(0 2.313710401436424 13.014621008080042)\"><path d=\"M0 0 C0 0, 0 0, 0 0 M0 0 C0 0, 0 0, 0 0 M-0.63 5.65 C0.87 4.31, 2.78 1.92, 4.74 -0.3 M-0.62 6.49 C1.19 4.53, 3.11 3.02, 5.24 0.29 M0.15 11.78 C0.47 11.53, 1.94 9.56, 4.77 6.42 M0.03 11.96 C1 10.68, 2.37 9.81, 4.39 6.76 M-0.45 18.21 C1.76 15.61, 3.38 14.73, 5.51 12.41 M0.08 18.39 C1.59 16.2, 3.5 14.27, 5.07 12.77 M-0.01 24.15 C2.11 22.8, 2.92 20.14, 4.68 18.6 M0.15 24.29 C1.79 22.7, 3.09 21.13, 4.91 19.09 M2.35 28.35 C2.59 27.21, 3.76 26.23, 5.05 24.02 M2.05 28.14 C3.14 26.78, 4.43 25.69, 5.18 24.28 M-0.06 25.98 C-0.06 25.98, -0.06 25.98, -0.06 25.98 M-0.06 25.98 C-0.06 25.98, -0.06 25.98, -0.06 25.98 M5.32 26 C4.36 24, 3.06 23.38, 0.83 21.28 M5.33 25.52 C3.81 23.65, 1.88 22.5, 0.39 21.29 M4.67 19.76 C3.53 19.23, 2.25 17.32, -0.52 15.76 M4.86 20.07 C3.03 18.14, 1.77 16.36, 0.02 15.49 M5.34 14.86 C3.32 12.91, 2.4 12.21, -0.38 10.68 M5.64 15.03 C3.42 13.13, 1.78 11.51, -0.07 10.2 M4.85 9.35 C4.56 8.69, 2.51 7.24, 0.44 4.29 M5.41 9.51 C4.03 8.23, 3.28 7.67, -0.43 4.96 M5.75 4.06 C4.37 2.61, 2.52 1.44, 0.27 -0.38 M5.82 4.25 C3.18 2.61, 1.25 1.04, 0.19 0.07\" stroke=\"#868e96\" stroke-width=\"0.5\" fill=\"none\"></path><path d=\"M-0.39 -0.06 C0.96 -0.1, 2.67 0.29, 4.29 -0.13 M0.11 -0.19 C1.82 -0.07, 3.52 0.19, 4.66 0.02 M6.32 -2 C4.37 5.64, 6.32 10.66, 2.81 24.74 M5.54 0.49 C5.34 6.5, 3.52 13.09, 4.73 26.61 M4.73 25.57 C2.43 26.41, 0.69 26.22, 0.18 26.49 M4.55 26.03 C3.42 25.94, 2.82 25.81, 0.19 26.08 M-0.21 27.75 C1.71 16.13, 0.59 6.65, -0.24 1.3 M-0.05 25.57 C-0.13 19.1, 0.08 10.16, 0.18 -0.3\" stroke=\"#000000\" stroke-width=\"1\" fill=\"none\"></path></g><g stroke-linecap=\"round\" transform=\"translate(1156.5846127702484 118.41869884714123) rotate(267.43232329969896 2.313710401436424 13.014621008080013)\"><path d=\"M0 0 C0 0, 0 0, 0 0 M0 0 C0 0, 0 0, 0 0 M-0.64 6.99 C1.19 3.72, 3.53 2.12, 4.52 0.59 M0.11 6.4 C1.03 4.55, 2.9 3.57, 5.27 0.58 M-0.32 12.51 C0.71 11.08, 2.97 9.61, 5.15 7.21 M-0.14 12.05 C1.65 10.38, 2.58 8.89, 4.53 6.63 M-0.4 18.23 C2.37 16.63, 4.25 14.07, 5.66 11.83 M0.16 18.8 C1.41 17.12, 2.45 15.21, 4.97 12.11 M-0.37 23.48 C1.13 23.02, 3.19 21.62, 4.32 18.14 M0.59 23.77 C1.97 22.46, 3.55 20.5, 4.56 18.69 M2.31 28.54 C2.47 27.38, 4.22 26.24, 5.22 24.58 M2.08 28.18 C2.8 26.9, 3.86 25.65, 5.42 24.33 M-0.06 25.98 C-0.06 25.98, -0.06 25.98, -0.06 25.98 M-0.06 25.98 C-0.06 25.98, -0.06 25.98, -0.06 25.98 M5.67 25.3 C4.22 24.23, 3.44 23.53, 0.55 21.6 M5.49 25.89 C4.1 24.65, 2.44 23.19, 0.4 20.87 M5.1 20.19 C3.42 18.51, 3.54 18.32, 0.27 15.22 M4.99 20.27 C3.25 18.43, 1.18 16.29, 0.18 15.28 M5.15 14.3 C3.96 13.16, 0.89 11.23, -0.06 10.75 M5.28 15.27 C4.31 13.56, 3.27 12.7, 0.01 10.04 M4.49 9.9 C2.98 7.26, 1.24 6.36, -0.42 4.64 M5.18 9.6 C3.44 7.97, 2.38 6.55, -0.46 4.81 M6.16 4.97 C3.62 2.78, 2.14 0.43, 0.52 -0.5 M5.28 4.62 C3.37 2.34, 1.96 1.06, 0.16 -0.31\" stroke=\"#868e96\" stroke-width=\"0.5\" fill=\"none\"></path><path d=\"M-0.39 -0.21 C1.39 0.13, 2.45 0.18, 4.7 0.28 M-0.11 -0.16 C1.72 0.02, 3.32 -0.13, 4.79 -0.11 M2.9 -0.47 C3.77 3.71, 4.25 9.44, 4.85 24.23 M5.26 0.44 C5.18 8.23, 3.69 16.96, 3.94 26.05 M4.52 25.87 C3.44 25.85, 1.79 26.27, 0.04 25.89 M4.83 26.04 C3.12 26, 2.21 25.97, 0.07 25.93 M-0.79 27.8 C0.99 19.01, 1.51 12.13, 0.73 1.06 M-0.77 26.97 C0.04 19.48, 0.36 11.16, 0.84 -0.4\" stroke=\"#000000\" stroke-width=\"1\" fill=\"none\"></path></g><g stroke-linecap=\"round\" transform=\"translate(1155.7255985582324 105.71902452798503) rotate(267.43232329969896 2.313710401436424 13.014621008080013)\"><path d=\"M0 0 C0 0, 0 0, 0 0 M0 0 C0 0, 0 0, 0 0 M0.33 6.08 C0.21 5.38, 1.76 3.26, 5.22 0.11 M-0.26 6.28 C1.18 4.78, 3.5 2.81, 5.2 0.13 M0.6 11.52 C2.03 10.9, 3.4 8.89, 5.18 6.75 M0.14 12.19 C1.49 10.12, 3.03 8.55, 4.6 6.97 M-0.34 19.04 C1.76 17.31, 2.89 15.51, 4.55 12.24 M0.24 18.54 C2.13 15.91, 3.78 13.94, 4.83 12.3 M-0.34 23.65 C1.71 23.28, 2.8 21.17, 4.2 19.06 M-0.04 24.19 C1.44 23.03, 2.27 21.41, 4.75 18.75 M2.3 27.75 C3.01 27.63, 3.73 26.35, 5.39 24.54 M1.93 27.97 C2.7 27.02, 3.49 26.46, 5.14 24.45 M-0.06 25.98 C-0.06 25.98, -0.06 25.98, -0.06 25.98 M-0.06 25.98 C-0.06 25.98, -0.06 25.98, -0.06 25.98 M5.3 25.62 C3.6 24.59, 2.21 22.55, 0.91 20.84 M5.89 25.54 C4.68 24.27, 3.27 23.53, 0.18 20.71 M5.44 19.33 C3.2 19.21, 2.42 17.53, -0.22 15.89 M5.52 19.96 C4.36 18.86, 2.82 18.2, -0.16 15.62 M4.9 15.38 C3.6 12.58, 1.44 11.21, 0.65 9.9 M5.87 14.97 C3.3 13.47, 1.62 11.35, -0.05 10.67 M5.74 9.17 C3.56 8.24, 3.08 6.6, -0.21 4.45 M5.44 8.99 C3.44 7.89, 1.59 6.13, -0.03 4.93 M6.16 4.35 C3.78 3.29, 1.33 1.62, 0 0.1 M5.81 4.01 C3.97 3.34, 3.06 2.04, 0.19 -0.02\" stroke=\"#868e96\" stroke-width=\"0.5\" fill=\"none\"></path><path d=\"M-0.21 0.13 C1.19 -0.04, 2.28 0.11, 4.91 0.21 M-0.16 0.12 C1.63 0.14, 3.1 0.19, 4.52 -0.22 M4.16 -0.61 C2.99 5.2, 3.37 10.88, 2.82 26.48 M5.07 0.64 C4.39 6.1, 4.72 13.2, 4.65 25.66 M4.47 26.06 C3.44 25.61, 2.9 26.06, -0.14 25.92 M4.64 25.81 C3.36 26.22, 2.06 26.14, -0.09 25.96 M1.77 27.01 C0.23 19.81, 0.4 11.3, 1.06 -0.26 M0.94 25.91 C0.89 20.01, 0.05 14.45, -0.4 0.1\" stroke=\"#000000\" stroke-width=\"1\" fill=\"none\"></path></g><g stroke-linecap=\"round\" transform=\"translate(1155.7851810714633 94.13617410350554) rotate(267.43232329969896 2.313710401436424 13.014621008080013)\"><path d=\"M0 0 C0 0, 0 0, 0 0 M0 0 C0 0, 0 0, 0 0 M-0.58 5.72 C1.83 4.03, 2.82 2.54, 4.74 0.49 M-0.38 6.14 C1.21 5.42, 2.34 3.88, 4.76 0.52 M-0.39 12.36 C2.05 10.69, 3.1 9.58, 4.72 6.86 M0.28 11.99 C1.57 10.13, 3.35 8.02, 4.94 6.72 M0.48 18.76 C1.65 17.05, 2.75 15.21, 4.96 12.86 M-0.03 18.78 C0.7 17.13, 2.08 15.34, 5.02 12.11 M-0.17 24.5 C2.26 22.76, 2.94 19.82, 5.12 18.24 M0.38 24.22 C1.56 22.71, 2.3 21.27, 4.81 18.59 M1.51 28.44 C3.08 27.45, 3.48 26.52, 5.36 24.21 M1.73 28.1 C2.6 27.06, 3.86 26.11, 5.27 24.61 M-0.06 25.98 C-0.06 25.98, -0.06 25.98, -0.06 25.98 M-0.06 25.98 C-0.06 25.98, -0.06 25.98, -0.06 25.98 M5.63 25.47 C4.97 24.86, 3.31 23.98, 0.15 20.52 M5.54 25.92 C3.67 24.32, 2.31 22.56, 0.02 21 M4.58 19.53 C4.43 19.12, 2.71 17.36, 0.45 14.76 M5.21 20.21 C4.07 18.91, 3.3 18.02, 0.18 15.59 M5.98 14.92 C3.62 13.53, 2.62 13, -0.2 10.78 M5.57 14.62 C4.11 13.41, 1.94 11.74, 0.58 10.22 M5.01 9.06 C3.97 8.77, 2.12 6.85, -0.39 4.79 M4.83 9.2 C3.9 7.95, 2.32 7.27, 0.08 4.83 M5.54 4.38 C3.86 1.94, 1.64 0.55, 0.6 -0.71 M5.2 4 C4.48 3.33, 3.07 2.24, 0.48 -0.42\" stroke=\"#868e96\" stroke-width=\"0.5\" fill=\"none\"></path><path d=\"M0.13 0.15 C1.51 0.22, 3.25 0.3, 4.84 0.24 M0.12 0 C1.27 -0.12, 2.47 -0.07, 4.41 -0.22 M4.02 -1.66 C4.27 6.77, 4.62 14.31, 5.08 25.37 M5.26 -0.18 C3.95 7.38, 4.1 14.48, 4.26 25.1 M4.65 25.81 C2.44 26.21, 1.11 25.87, -0.11 25.91 M4.4 26.03 C3.7 26.01, 2.55 25.94, -0.07 26.02 M0.98 26.06 C1.61 20.42, 0.83 15.47, -0.26 -1.23 M-0.12 26.95 C0.4 18, 1.04 9.41, 0.1 0.55\" stroke=\"#000000\" stroke-width=\"1\" fill=\"none\"></path></g><g stroke-linecap=\"round\" transform=\"translate(1227.616852503643 121.90079615868746) rotate(267.43232329969896 2.313710401436424 13.014621008080013)\"><path d=\"M0 0 C0 0, 0 0, 0 0 M0 0 C0 0, 0 0, 0 0 M-0.92 6.71 C0.64 4.46, 2.58 3.45, 4.26 0.74 M-0.22 6.52 C1.53 4.38, 3.2 3.03, 4.87 0.55 M0.83 12.27 C1.76 9.86, 3.7 8.49, 5.36 6.73 M0.13 12.3 C1.74 10.36, 3.45 8.18, 4.4 6.43 M-0.51 18.7 C0.99 17.48, 2.19 14.9, 4.76 12.35 M-0.18 18.58 C1.97 16.19, 3.81 14.16, 4.77 12.24 M0.66 24.54 C1.53 22.4, 3.68 20.1, 5.52 18.89 M0.27 23.78 C1.1 23.25, 2.48 21.67, 4.96 18.46 M1.97 27.96 C2.88 26.67, 4.62 25.76, 5.66 23.96 M2.22 28.09 C2.84 27.27, 3.68 26.4, 5.04 24.55 M-0.06 25.98 C-0.06 25.98, -0.06 25.98, -0.06 25.98 M-0.06 25.98 C-0.06 25.98, -0.06 25.98, -0.06 25.98 M5.29 25.76 C4.56 24.8, 3.75 23.59, 1 21.08 M5.91 25.7 C4.35 24.75, 3.34 23.18, 0.49 20.7 M5.04 20.54 C3.33 19.57, 3.38 17.34, 0.1 15.94 M5.33 19.74 C3.44 18.46, 1.39 16.56, -0.18 15.24 M5.72 15.23 C3.53 12.6, 0.93 11.17, 0.05 10.7 M5.9 14.69 C4.33 13.78, 2.87 12.63, 0.02 10.49 M5.53 9.98 C4.39 8.25, 2.65 7.88, -0.19 5.16 M5.22 9.12 C3.68 8.65, 2.86 7.52, 0.18 5 M5.36 4.34 C3.92 2.43, 2.2 1.66, 0.81 -0.83 M5.3 4.19 C3.35 2.46, 1.89 1.54, 0.2 -0.25\" stroke=\"#868e96\" stroke-width=\"0.5\" fill=\"none\"></path><path d=\"M0.03 -0.08 C1.53 0.27, 2.37 0.42, 4.53 -0.31 M-0.03 0.22 C1.33 0.07, 3.04 -0.12, 4.44 0 M2.88 -1.17 C6.49 8.18, 5.64 13.69, 6.18 24.35 M4.67 0.78 C4.31 5.01, 5.25 10.58, 5.4 26.72 M4.91 26.01 C3.05 25.83, 2.11 26.24, -0.31 26.31 M4.64 25.81 C3.29 25.99, 1.49 25.86, 0.2 25.93 M-0.41 25.32 C0.71 20.96, -0.58 12.06, -0.76 0.2 M-0.93 25.72 C-0.02 18.96, -0.97 13.98, 0.6 0.32\" stroke=\"#000000\" stroke-width=\"1\" fill=\"none\"></path></g><g stroke-linecap=\"round\" transform=\"translate(1226.7578382916283 109.20112183953125) rotate(267.43232329969896 2.313710401436424 13.014621008080013)\"><path d=\"M0 0 C0 0, 0 0, 0 0 M0 0 C0 0, 0 0, 0 0 M0.05 5.76 C1.43 4.08, 4.04 1.52, 5.36 0.37 M-0.14 6.56 C0.65 5.36, 2.24 3.7, 5.18 0.62 M0.36 12.03 C1.65 10.22, 3.97 8.59, 4.7 7.06 M0.39 12.03 C1.32 10.95, 2.01 9.29, 4.4 6.7 M0.13 18.08 C2.3 15.9, 3.1 14.26, 5.07 12.87 M0.01 18.62 C1.08 17.09, 2.52 15.11, 4.95 12.67 M0.73 23.67 C2.02 22.4, 3.15 21.28, 4.95 18.17 M-0.04 23.96 C2.05 22.65, 3.08 20.74, 4.52 19.02 M1.71 27.92 C2.66 27.47, 3.99 26.63, 4.77 24.24 M1.85 28.2 C2.76 27.29, 3.62 26.26, 5.36 24.61 M-0.06 25.98 C-0.06 25.98, -0.06 25.98, -0.06 25.98 M-0.06 25.98 C-0.06 25.98, -0.06 25.98, -0.06 25.98 M5.77 25.76 C3.9 24.42, 1.78 22.93, 0.39 20.58 M5.7 25.58 C4.7 24.94, 3.14 23.91, 0.01 20.75 M5.79 19.32 C3.93 18.93, 0.86 16.83, 0.5 15.77 M4.99 20.05 C4.22 18.98, 2.9 17.99, -0.2 15.61 M5.83 14.93 C3.16 12.76, 1.66 11.65, 0.6 9.87 M5.29 14.98 C3.38 13.05, 1.29 11.27, 0.4 10.03 M5.82 9.59 C3.94 7.97, 3.38 7.3, 0.31 4.16 M4.97 8.97 C4.15 8.21, 2.74 7.38, 0.15 4.63 M5.53 4.2 C2.94 2.31, 1.59 1.7, -0.33 0.02 M5.38 3.99 C3.22 2.6, 1.92 0.85, 0.25 -0.53\" stroke=\"#868e96\" stroke-width=\"0.5\" fill=\"none\"></path><path d=\"M-0.08 0.43 C1.7 0.16, 3.28 -0.1, 4.32 0.1 M0.22 -0.15 C1.37 0.07, 2.45 -0.18, 4.63 -0.07 M3.45 1.89 C5.87 8.54, 4.36 16.53, 2.95 24.17 M5.41 -0.16 C4.49 7.08, 4.67 13.4, 5.31 25.52 M4.61 25.6 C3.35 25.84, 2.64 25.75, 0.28 26.12 M4.41 26.17 C3.51 25.86, 2.35 26.24, -0.1 25.95 M-0.71 26.49 C1.58 19.87, -0.45 14.61, 0.2 -1.27 M-0.31 26.02 C-1.12 17.11, 0.05 10.69, 0.32 0.9\" stroke=\"#000000\" stroke-width=\"1\" fill=\"none\"></path></g><g stroke-linecap=\"round\" transform=\"translate(1226.8174208048592 97.61827141505188) rotate(267.43232329969896 2.313710401436424 13.014621008080013)\"><path d=\"M0 0 C0 0, 0 0, 0 0 M0 0 C0 0, 0 0, 0 0 M-0.9 6.25 C1 5.33, 2 3.37, 4.99 -0.33 M-0.1 6.24 C1.98 4.4, 3.6 2, 5.25 0.69 M0.12 11.76 C1.4 11.07, 2.87 9.53, 5.03 6.26 M0.13 12.19 C1.82 9.99, 2.94 8.08, 4.67 6.82 M-0.48 19.18 C0.72 16.61, 2.46 15.02, 5.59 11.98 M0.06 18.4 C2.06 16.18, 3.61 13.56, 5.38 12.5 M-0.14 24.33 C1.64 22.4, 3.57 21.07, 4.23 18.98 M0.14 24.32 C1.57 22.73, 2.4 21.44, 5.08 18.67 M1.68 28.04 C3.24 27.35, 4.42 25.39, 5.05 24.08 M1.96 28.24 C2.75 27.4, 3.41 26.4, 5.42 24.5 M-0.06 25.98 C-0.06 25.98, -0.06 25.98, -0.06 25.98 M-0.06 25.98 C-0.06 25.98, -0.06 25.98, -0.06 25.98 M5.76 25.81 C4.51 24.22, 3.06 22.87, -0.11 20.35 M5.58 25.83 C3.87 23.7, 1.86 21.94, 0.06 21.2 M4.57 20.6 C3.99 17.85, 1.66 17.34, 0.33 14.69 M5.3 20.08 C3.28 18.2, 1.38 16.58, 0.16 15.48 M5.52 14.33 C3.45 13.39, 2.46 12.82, -0.22 10.92 M5.58 14.81 C3.49 13.12, 1.66 11.92, -0.06 10.07 M5.43 9.22 C3.43 8.69, 2.42 7.5, -0.68 4.33 M4.82 9.63 C3.2 7.78, 1.54 6.16, -0.22 4.89 M5.39 3.63 C3.01 2.29, 1.89 0.1, 0.53 0.22 M5.19 4.01 C3.76 3.07, 1.91 1.19, -0.03 -0.06\" stroke=\"#868e96\" stroke-width=\"0.5\" fill=\"none\"></path><path d=\"M0.43 0.26 C1.37 0.41, 2.31 -0.3, 4.72 -0.12 M-0.15 0.11 C1.85 -0.13, 3.39 -0.04, 4.56 -0.03 M6.52 1.15 C5.45 8.39, 5.95 15.81, 2.77 24.88 M4.46 -0.38 C5.41 10.04, 5.41 21.17, 4.12 25.45 M4.2 25.87 C3.45 26.28, 2.41 26.31, 0.09 25.68 M4.77 25.95 C2.65 25.78, 1.21 25.89, -0.08 25.81 M0.47 27.83 C-0.78 15.81, -0.7 6.26, -1.27 0.12 M-0.01 25.12 C-0.71 16.34, 0.84 6.44, 0.9 0.92\" stroke=\"#000000\" stroke-width=\"1\" fill=\"none\"></path></g><g stroke-linecap=\"round\"><g transform=\"translate(571.3368600567512 116.72934850240398) rotate(0 36.91771133311886 0)\"><path d=\"M0 0 C12.31 0, 61.53 0, 73.84 0 M0 0 C12.31 0, 61.53 0, 73.84 0\" stroke=\"#000000\" stroke-width=\"1\" fill=\"none\"></path></g><g transform=\"translate(571.3368600567512 116.72934850240398) rotate(0 36.91771133311886 0)\"><path d=\"M45.64 10.26 C53.98 7.23, 62.31 4.19, 73.84 0 M45.64 10.26 C52.52 7.76, 59.39 5.26, 73.84 0\" stroke=\"#000000\" stroke-width=\"1\" fill=\"none\"></path></g><g transform=\"translate(571.3368600567512 116.72934850240398) rotate(0 36.91771133311886 0)\"><path d=\"M45.64 -10.26 C53.98 -7.23, 62.31 -4.19, 73.84 0 M45.64 -10.26 C52.52 -7.76, 59.39 -5.26, 73.84 0\" stroke=\"#000000\" stroke-width=\"1\" fill=\"none\"></path></g></g><mask></mask><g stroke-linecap=\"round\"><g transform=\"translate(1016.1624366819249 118.17452581437652) rotate(0 52.463220918497086 0)\"><path d=\"M0 0 C17.49 0, 87.44 0, 104.93 0 M0 0 C17.49 0, 87.44 0, 104.93 0\" stroke=\"#000000\" stroke-width=\"1\" fill=\"none\"></path></g><g transform=\"translate(1016.1624366819249 118.17452581437652) rotate(0 52.463220918497086 0)\"><path d=\"M76.74 10.26 C87.24 6.44, 97.75 2.61, 104.93 0 M76.74 10.26 C86.89 6.56, 97.05 2.87, 104.93 0\" stroke=\"#000000\" stroke-width=\"1\" fill=\"none\"></path></g><g transform=\"translate(1016.1624366819249 118.17452581437652) rotate(0 52.463220918497086 0)\"><path d=\"M76.74 -10.26 C87.24 -6.44, 97.75 -2.61, 104.93 0 M76.74 -10.26 C86.89 -6.56, 97.05 -2.87, 104.93 0\" stroke=\"#000000\" stroke-width=\"1\" fill=\"none\"></path></g></g><mask></mask><g stroke-linecap=\"round\" transform=\"translate(10 10) rotate(0 639.8049033438815 106.63847934835641)\"><path d=\"M-0.01 -0.33 C439.25 4.83, 879.32 3.62, 1280.15 -0.07 M-0.13 0.07 C427.91 -3, 855.24 -2.93, 1279.76 0.07 M1278.76 0.51 C1278.83 58.05, 1278.91 117.46, 1278.86 213.92 M1279.61 -0.41 C1278.1 64.61, 1277.93 129.49, 1279.46 213.05 M1280.28 213.36 C894.57 215.76, 509.19 216.22, 0.47 213.76 M1280 213.6 C822.42 216.31, 364.34 216.01, 0.39 213.59 M1.13 212.03 C0.25 160.17, -0.93 109.05, 0.89 -0.4 M-0.08 213.18 C1.24 169.06, -0.07 127.12, 0.66 0.27\" stroke=\"#000000\" stroke-width=\"2\" fill=\"none\"></path></g><g stroke-linecap=\"round\" transform=\"translate(55.27318039889974 33.2364081606118) rotate(0 27.81460987140801 25.60069298867583)\"><path d=\"M29.02 0.18 C34.72 0.39, 42.99 4.03, 47.38 7.67 C51.77 11.31, 54.63 16.8, 55.34 22.01 C56.06 27.22, 54.74 34.22, 51.66 38.92 C48.59 43.62, 42.79 48.41, 36.92 50.2 C31.04 51.99, 22.11 51.77, 16.42 49.64 C10.74 47.5, 5.59 42.34, 2.82 37.4 C0.04 32.47, -1.56 25.28, -0.23 20.04 C1.1 14.79, 5.59 9.3, 10.8 5.96 C16.02 2.61, 27.13 0.71, 31.07 -0.01 C35 -0.74, 34.33 1.17, 34.41 1.6 M15.28 0.94 C19.92 -1.66, 27.78 -2.02, 33.87 -0.41 C39.96 1.21, 48.34 5.66, 51.81 10.63 C55.29 15.59, 55.21 23.66, 54.72 29.39 C54.23 35.12, 53.07 41.58, 48.85 45.02 C44.62 48.45, 35.55 49.76, 29.37 49.98 C23.18 50.2, 16.44 49.31, 11.75 46.35 C7.06 43.39, 2.53 37.35, 1.21 32.22 C-0.1 27.08, 1.48 20.61, 3.86 15.53 C6.24 10.45, 13.56 3.71, 15.49 1.73 C17.42 -0.24, 15.02 3.18, 15.44 3.7\" stroke=\"#000000\" stroke-width=\"2\" fill=\"none\"></path></g><g stroke-linecap=\"round\"><g transform=\"translate(79.92302909539899 84.15401738897395) rotate(0 -0.6166512894526406 30.57974926686566)\"><path d=\"M-0.47 0.11 C-0.88 10.35, -1.7 50.68, -2.1 61.04 M1.48 -0.87 C0.94 9.51, -1.85 51.28, -2.71 62.03\" stroke=\"#000000\" stroke-width=\"2\" fill=\"none\"></path></g></g><mask></mask><g stroke-linecap=\"round\"><g transform=\"translate(77.4368694813918 147.81678353009067) rotate(0 12.209672824748417 19.568881885499025)\"><path d=\"M0.11 0.63 C4.1 7, 19.43 31.39, 23.54 37.74 M-1.29 -0.08 C3.09 6.52, 21.48 33.07, 25.71 39.22\" stroke=\"#000000\" stroke-width=\"2\" fill=\"none\"></path></g></g><mask></mask><g stroke-linecap=\"round\"><g transform=\"translate(76.1814586728683 146.52228521031014) rotate(0 -11.877392133323333 17.398634860299467)\"><path d=\"M0.63 -1.03 C-3.19 4.65, -19.54 28.18, -23.38 34.2 M-0.49 1.04 C-4.44 6.93, -20.68 30.45, -24.39 35.83\" stroke=\"#000000\" stroke-width=\"2\" fill=\"none\"></path></g></g><mask></mask><g stroke-linecap=\"round\"><g transform=\"translate(45.988821342782785 119.42652249211488) rotate(0 15.819362677350426 -10.86750212481033)\"><path d=\"M-1.03 -0.11 C4.39 -3.54, 26.91 -16.49, 32.67 -19.95 M0.62 -1.22 C5.9 -5.04, 26.37 -18.56, 31.82 -21.62\" stroke=\"#000000\" stroke-width=\"2\" fill=\"none\"></path></g></g><mask></mask><g stroke-linecap=\"round\"><g transform=\"translate(80.30893414934758 99.22270623695914) rotate(0 9.93076605472097 13.102945573567297)\"><path d=\"M-0.11 0.19 C3.36 4.85, 18.05 22.75, 21.49 26.97 M-1.63 -0.76 C1.71 3.68, 17.43 20.85, 21 25.41\" stroke=\"#000000\" stroke-width=\"2\" fill=\"none\"></path></g></g><mask></mask><g stroke-linecap=\"round\"><g transform=\"translate(120.51351202430862 114.66842071565736) rotate(0 42.913841631595915 -0.4840462561696768)\"><path d=\"M1.48 -1.86 C20.7 -1.03, 44.65 -1.64, 83.42 0.9 M0.33 -0.71 C19.44 0.39, 39.92 0.63, 85.49 0.41\" stroke=\"#000000\" stroke-width=\"2\" fill=\"none\"></path></g><g transform=\"translate(120.51351202430862 114.66842071565736) rotate(0 42.913841631595915 -0.4840462561696768)\"><path d=\"M58.8 8.86 C63.13 6.99, 72.22 3.66, 84.2 1.31 M57.65 10.01 C63.28 8.69, 70.29 6.47, 86.27 0.83\" stroke=\"#000000\" stroke-width=\"2\" fill=\"none\"></path></g><g transform=\"translate(120.51351202430862 114.66842071565736) rotate(0 42.913841631595915 -0.4840462561696768)\"><path d=\"M58.76 -11.66 C63.17 -8.14, 72.27 -6.07, 84.2 1.31 M57.62 -10.51 C63.27 -6.94, 70.28 -4.27, 86.27 0.83\" stroke=\"#000000\" stroke-width=\"2\" fill=\"none\"></path></g></g><mask></mask><g stroke-linecap=\"round\"><g transform=\"translate(624.1662400322855 156.0699760594594) rotate(0 -10.623221385349154 20.83452153078315)\" fill-rule=\"evenodd\"><path d=\"M-27.38 15.95 C-27.38 15.95, -27.38 15.95, -27.38 15.95 M-27.38 15.95 C-27.38 15.95, -27.38 15.95, -27.38 15.95 M-26.84 26.49 C-23.24 23.84, -19.05 19.1, -16.38 13.79 M-26.09 26.47 C-22.06 22.11, -18.54 17.82, -15.4 14.92 M-27.44 40.7 C-26.11 37.24, -22.81 33.99, -18.29 31.17 M-27.17 41.22 C-24.71 37.79, -22.19 34.93, -18.85 30.68 M-18.19 27.69 C-13.58 21.41, -5.77 17.47, 5.17 -1.17 M-16.53 29.64 C-12.55 22.08, -6.54 16.67, 6.35 0.11 M-21.27 43.8 C-17.31 39, -14.2 35.71, -7.94 31.93 M-19.61 44.3 C-16.47 39.64, -12.88 35.67, -9.32 31.51 M-4.03 29.87 C-0.45 24.53, 0.43 16.95, 12.52 5.63 M-5.46 28.45 C-1.14 20.5, 6.28 14.6, 13.15 5.8 M-28.51 40.42 C-28.51 40.42, -28.51 40.42, -28.51 40.42 M-28.51 40.42 C-28.51 40.42, -28.51 40.42, -28.51 40.42 M-19.02 37.93 C-19.91 37.42, -21.98 34.11, -27.38 32.06 M-17.89 38.38 C-20.76 36.67, -23.85 34.14, -27.17 31.09 M-6.35 40.15 C-10.45 37.37, -14.13 30.49, -16.49 29.82 M-5.97 38.77 C-10.33 34.38, -15.89 30.25, -18.69 28.04 M-19.05 27.6 C-22.28 25.48, -24.91 23.42, -30.13 18.49 M-19.57 27.38 C-22.02 25.37, -23.47 23.62, -28.8 19.11 M-7.66 27.71 C-12.76 21.91, -17.34 16.65, -23.54 13.92 M-8.06 25.76 C-13.22 21.74, -17.73 17.08, -24.4 13.14 M4.92 25.89 C-0.76 19.99, -8.4 18.54, -13 10.02 M3.56 25.63 C0.52 23.5, -3.59 20.14, -13.68 12.6 M10.85 20.87 C6.71 18, 4.39 16.44, -2.9 11.37 M10.28 19.97 C4.41 15.9, 0.41 12.78, -2.72 10.76 M11.33 10.98 C9.57 8.98, 5.84 7.27, 3.48 5.11 M11.22 11.91 C8.26 8.6, 5.49 6.26, 2.86 4.46\" stroke=\"#f7c31d\" stroke-width=\"1\" fill=\"none\"></path><path d=\"M0.23 -1.1 C1.05 -1.25, 4.63 -1.13, 5.92 -0.06 C7.21 1, 7.4 3.15, 7.98 5.28 C8.56 7.4, 9.34 10.11, 9.37 12.69 C9.4 15.27, 9.3 18.45, 8.16 20.77 C7.02 23.08, 4.85 25.5, 2.53 26.56 C0.22 27.62, -2.59 26.95, -5.74 27.15 C-8.88 27.36, -14.05 27.83, -16.34 27.81 C-18.63 27.78, -18.96 27.09, -19.48 27.03 C-20.01 26.97, -19.45 26.96, -19.5 27.46 C-19.56 27.95, -20.16 29.64, -19.81 29.98 C-19.46 30.32, -19.93 29.23, -17.43 29.49 C-14.92 29.75, -7 30.71, -4.78 31.53 C-2.57 32.34, -3.88 33.07, -4.16 34.37 C-4.44 35.67, -5.32 38.11, -6.45 39.32 C-7.58 40.53, -8.42 41.1, -10.95 41.6 C-13.47 42.11, -18.65 42.5, -21.59 42.37 C-24.54 42.24, -26.95 42.1, -28.61 40.83 C-30.27 39.55, -31.17 36.7, -31.58 34.73 C-31.98 32.77, -31.17 31.34, -31.03 29.05 C-30.9 26.76, -31.24 23.04, -30.76 20.99 C-30.28 18.95, -30.08 17.77, -28.14 16.78 C-26.21 15.8, -22.01 15.16, -19.16 15.08 C-16.32 15.01, -13.11 16.33, -11.07 16.33 C-9.03 16.33, -8.82 16.37, -6.95 15.08 C-5.07 13.79, -1.01 11, 0.18 8.57 C1.37 6.14, 0.27 2.09, 0.18 0.5 M-1.11 0.93 C-0.55 0.87, 2.96 0.75, 4.86 1.17 C6.76 1.59, 9.57 1.4, 10.28 3.45 C10.99 5.5, 9.17 10.58, 9.13 13.48 C9.09 16.37, 10.92 18.74, 10.04 20.81 C9.15 22.88, 6.28 25.01, 3.81 25.9 C1.34 26.78, -1.81 25.74, -4.8 26.11 C-7.78 26.48, -11.94 28.17, -14.11 28.09 C-16.28 28.01, -17.05 25.83, -17.84 25.65 C-18.62 25.47, -18.51 26.15, -18.83 27.02 C-19.15 27.89, -19.81 30.01, -19.78 30.88 C-19.76 31.74, -21.25 32.21, -18.68 32.24 C-16.1 32.26, -6.59 30.77, -4.32 31.01 C-2.05 31.26, -4.69 32.42, -5.08 33.72 C-5.46 35.02, -5.84 37.39, -6.63 38.81 C-7.41 40.23, -7.07 41.58, -9.79 42.24 C-12.51 42.9, -19.61 42.88, -22.95 42.76 C-26.29 42.64, -28.73 42.91, -29.83 41.51 C-30.92 40.12, -29.46 36.15, -29.51 34.38 C-29.56 32.61, -29.79 33.32, -30.11 30.9 C-30.42 28.47, -31.72 22.35, -31.41 19.85 C-31.1 17.34, -30.35 16.27, -28.27 15.87 C-26.18 15.47, -21.5 17.5, -18.91 17.47 C-16.33 17.43, -14.93 15.95, -12.76 15.65 C-10.6 15.34, -7.74 16.88, -5.92 15.63 C-4.1 14.37, -3.11 10.68, -1.84 8.13 C-0.56 5.58, 1.29 1.58, 1.74 0.33\" stroke=\"#f7c31d\" stroke-width=\"2\" fill=\"none\"></path></g></g><mask></mask><g stroke-linecap=\"round\"><g transform=\"translate(588.5350832784454 184.31004162946402) rotate(0 10.110134726251829 -21.515728284060515)\" fill-rule=\"evenodd\"><path d=\"M3.3 -40.86 C3.3 -40.86, 3.3 -40.86, 3.3 -40.86 M3.3 -40.86 C3.3 -40.86, 3.3 -40.86, 3.3 -40.86 M-11.7 -11.04 C-7.36 -15.86, -4.52 -21.31, -0.1 -24.95 M-10.89 -12.46 C-8.72 -15.17, -5.74 -17.7, -0.95 -23.06 M3.58 -30.69 C6.75 -33.78, 11.06 -36.24, 13.74 -42.26 M5.31 -30.57 C7.66 -33.41, 9.8 -36.16, 13.3 -41.29 M-10.46 -4 C-3.06 -7.26, -1.45 -14.88, 8.01 -22.83 M-9.59 -2.89 C-4.91 -7.1, -1.05 -13.25, 9.71 -23.97 M14.07 -30.47 C17.35 -33.9, 22.97 -37.54, 25.25 -41.94 M14.53 -29.8 C16.62 -32.17, 19.25 -35.12, 24 -40.48 M-2.11 3.52 C-1.73 -0.35, 1.3 -2.63, 3.77 -5.45 M-3.34 2.42 C-0.03 -0.16, 2.41 -3.39, 4.01 -4.26 M11.58 -15.9 C19.07 -20.49, 21.71 -27.28, 33.11 -37.96 M12 -15.29 C17.4 -20.46, 23.77 -28.24, 31.39 -36.2 M23.42 -14.14 C28.22 -21.05, 31.34 -23.33, 34.15 -28.4 M22.81 -14.44 C25.97 -18.61, 29.86 -22.77, 34.37 -27.01 M-6.58 -0.05 C-6.58 -0.05, -6.58 -0.05, -6.58 -0.05 M-6.58 -0.05 C-6.58 -0.05, -6.58 -0.05, -6.58 -0.05 M1.66 -2.36 C-4.03 -6.9, -8.94 -11.66, -12.62 -14.2 M1.97 -2.52 C-1.03 -5.74, -4.74 -8.78, -11.21 -14.77 M3.99 -12.44 C-0.4 -17.26, -4.43 -18.36, -9.43 -23.62 M3.92 -12.34 C-0.24 -16.67, -5.49 -19.49, -9.68 -23.73 M11.58 -18.09 C4.77 -18.95, 2.46 -25.26, -5.26 -29.29 M11.53 -15.93 C5.98 -20.47, 0.1 -24.35, -3.92 -29.69 M22.91 -16.88 C18.94 -19.7, 11.77 -24.4, 10.05 -30.85 M21.77 -17.78 C19.17 -19.68, 15.42 -22.3, 8.15 -29.42 M3.09 -34.04 C3.09 -34.04, 3.09 -34.04, 3.09 -34.04 M3.09 -34.04 C3.09 -34.04, 3.09 -34.04, 3.09 -34.04 M30.33 -20.76 C29.22 -22.73, 26.29 -24.27, 21.03 -28.94 M31.42 -19.88 C27.97 -23.69, 25.14 -25.77, 21.55 -28.3 M16.02 -33.97 C12.66 -35.67, 7.62 -38.98, 6.27 -43.08 M16.37 -32.67 C13.63 -35.25, 10.39 -38.22, 5.66 -43.08 M31.57 -30.95 C27.16 -36.23, 20.37 -40.65, 10.87 -47.28 M30.91 -31.19 C25.29 -37.05, 17.7 -41.25, 11.36 -47.87\" stroke=\"#3276af\" stroke-width=\"1\" fill=\"none\"></path><path d=\"M-0.21 -0.58 C-1.53 -0.24, -5.76 1.68, -7.69 0.95 C-9.62 0.21, -10.89 -2.46, -11.81 -4.98 C-12.73 -7.49, -13.31 -11.42, -13.22 -14.14 C-13.13 -16.85, -12.64 -19.18, -11.26 -21.26 C-9.88 -23.34, -7.45 -25.75, -4.95 -26.62 C-2.46 -27.49, 0.5 -26.37, 3.7 -26.49 C6.89 -26.61, 11.92 -27.2, 14.23 -27.32 C16.53 -27.44, 16.7 -27.14, 17.5 -27.2 C18.31 -27.27, 18.67 -26.92, 19.06 -27.7 C19.45 -28.49, 20.02 -31.33, 19.82 -31.91 C19.62 -32.49, 20.63 -30.98, 17.88 -31.17 C15.14 -31.35, 6.13 -32.37, 3.35 -33.01 C0.57 -33.64, 1.17 -33.48, 1.2 -34.98 C1.23 -36.49, 2.14 -40.4, 3.53 -42.03 C4.93 -43.66, 6.73 -44.47, 9.56 -44.78 C12.39 -45.08, 17.5 -44.17, 20.53 -43.87 C23.56 -43.57, 25.77 -44.06, 27.73 -42.99 C29.68 -41.92, 31.46 -39.62, 32.27 -37.44 C33.07 -35.27, 32.97 -32.71, 32.57 -29.94 C32.17 -27.18, 30.79 -22.99, 29.89 -20.84 C28.99 -18.7, 28.95 -17.91, 27.17 -17.08 C25.39 -16.24, 22.23 -16.04, 19.2 -15.82 C16.18 -15.61, 11.39 -15.99, 9 -15.8 C6.61 -15.61, 6.32 -16.02, 4.87 -14.68 C3.42 -13.35, 1.17 -10.09, 0.3 -7.79 C-0.57 -5.5, -0.32 -2.07, -0.35 -0.93 M-1.78 1.73 C-2.77 1.85, -4.3 0.29, -5.57 -0.66 C-6.84 -1.62, -8.12 -1.86, -9.4 -3.98 C-10.69 -6.1, -13.32 -10.62, -13.28 -13.38 C-13.25 -16.13, -10.27 -18.17, -9.2 -20.5 C-8.14 -22.83, -9.09 -26.24, -6.9 -27.36 C-4.71 -28.47, 0.03 -27.16, 3.93 -27.21 C7.84 -27.26, 13.94 -27.43, 16.52 -27.65 C19.09 -27.88, 18.89 -28.47, 19.4 -28.57 C19.9 -28.67, 19.38 -27.77, 19.54 -28.24 C19.69 -28.72, 20.78 -30.91, 20.3 -31.41 C19.83 -31.92, 19.53 -31.41, 16.7 -31.28 C13.88 -31.15, 5.54 -29.99, 3.37 -30.63 C1.19 -31.27, 3.54 -33.64, 3.65 -35.13 C3.75 -36.61, 2.85 -38.08, 3.99 -39.54 C5.13 -41, 7.93 -43.34, 10.49 -43.89 C13.05 -44.43, 16.11 -42.91, 19.35 -42.8 C22.58 -42.69, 27.9 -44.16, 29.9 -43.23 C31.89 -42.3, 30.72 -39.15, 31.32 -37.22 C31.92 -35.3, 33.37 -34.29, 33.49 -31.68 C33.61 -29.08, 33.01 -24.34, 32.05 -21.59 C31.09 -18.84, 29.82 -16.03, 27.73 -15.18 C25.64 -14.33, 22.47 -16.28, 19.52 -16.49 C16.57 -16.7, 12.71 -16.73, 10.01 -16.43 C7.32 -16.13, 4.76 -16.15, 3.35 -14.69 C1.94 -13.23, 1.96 -10.43, 1.55 -7.68 C1.15 -4.93, 0.92 0.42, 0.93 1.81\" stroke=\"#3276af\" stroke-width=\"2\" fill=\"none\"></path></g></g><mask></mask><g stroke-linecap=\"round\" transform=\"translate(601.4425523931341 143.14192342655787) rotate(0 2.8090042526807792 2.9944916220014477)\"><path d=\"M2.18 0.1 C2.59 -0.25, 3.18 -0.42, 3.73 -0.07 C4.28 0.29, 5.07 1.54, 5.48 2.25 C5.88 2.96, 6.5 3.51, 6.16 4.2 C5.83 4.88, 4.05 6.22, 3.46 6.36 C2.88 6.49, 3.23 5.18, 2.65 5.02 C2.08 4.86, 0.61 5.64, 0.01 5.4 C-0.59 5.17, -0.91 4.3, -0.92 3.6 C-0.93 2.91, -0.61 1.7, -0.07 1.23 C0.48 0.76, 1.72 0.94, 2.33 0.78 C2.94 0.62, 3.54 0.51, 3.59 0.28 M3.47 0.17 C4.29 0.43, 5.13 0.57, 5.48 1.02 C5.82 1.47, 5.46 2.22, 5.54 2.85 C5.62 3.48, 6.36 4.12, 5.98 4.8 C5.59 5.48, 4.08 6.8, 3.22 6.94 C2.36 7.09, 1.39 6.44, 0.84 5.66 C0.29 4.87, 0.08 3.06, -0.06 2.25 C-0.21 1.44, -0.26 0.97, -0.01 0.81 C0.24 0.65, 0.77 1.41, 1.44 1.27 C2.11 1.13, 3.86 0.26, 4 -0.02 C4.15 -0.3, 2.12 -0.63, 2.3 -0.39\" stroke=\"none\" stroke-width=\"0\" fill=\"#ffffff\"></path><path d=\"M1.2 0.01 C1.9 -0.09, 3.52 0.49, 4.26 0.62 C5 0.74, 5.27 0.38, 5.66 0.75 C6.05 1.13, 6.74 2.14, 6.59 2.85 C6.43 3.57, 5.31 4.62, 4.71 5.06 C4.1 5.51, 3.58 5.43, 2.95 5.52 C2.32 5.62, 1.56 5.88, 0.95 5.62 C0.34 5.37, -0.69 4.73, -0.71 4 C-0.73 3.28, 0.47 2.05, 0.82 1.26 C1.16 0.48, 1.08 -0.54, 1.37 -0.7 C1.66 -0.87, 2.59 0.13, 2.56 0.28 M1.53 -1.33 C2.22 -1.68, 4.18 -0.35, 4.98 0.17 C5.79 0.68, 6.43 0.99, 6.36 1.75 C6.29 2.52, 4.77 4.3, 4.57 4.75 C4.36 5.19, 5.3 4.14, 5.11 4.43 C4.92 4.72, 4.38 6.24, 3.43 6.47 C2.47 6.69, -0.24 6.42, -0.61 5.78 C-0.99 5.14, 0.96 3.27, 1.18 2.64 C1.4 2, 0.63 2.58, 0.69 1.97 C0.76 1.36, 1.32 -0.54, 1.58 -1.03 C1.84 -1.52, 2.38 -1.08, 2.23 -0.97\" stroke=\"transparent\" stroke-width=\"2\" fill=\"none\"></path></g><g stroke-linecap=\"round\" transform=\"translate(603.3313898534436 190.32132095094067) rotate(0 2.8090042526807792 2.994491622001476)\"><path d=\"M3.38 -0.22 C3.94 0.01, 4.82 1.22, 5.3 1.89 C5.78 2.56, 6.5 3.1, 6.24 3.8 C5.99 4.51, 4.3 5.9, 3.76 6.11 C3.23 6.31, 3.61 5.11, 3.03 5.04 C2.45 4.96, 0.94 5.85, 0.29 5.68 C-0.36 5.5, -0.78 4.69, -0.87 4 C-0.96 3.32, -0.63 2.08, -0.27 1.58 C0.09 1.08, 0.56 1.18, 1.31 0.99 C2.06 0.81, 3.75 0.68, 4.23 0.47 C4.72 0.25, 4.15 -0.17, 4.23 -0.3 M2.09 -0.32 C2.67 -0.67, 2.99 -0.71, 3.75 -0.49 C4.5 -0.27, 6.25 0.18, 6.62 1.01 C7 1.84, 6.36 3.71, 6 4.48 C5.64 5.26, 5 5.63, 4.45 5.68 C3.9 5.72, 3.33 4.92, 2.69 4.74 C2.05 4.56, 1.11 4.63, 0.6 4.6 C0.09 4.58, -0.38 5.15, -0.38 4.59 C-0.38 4.04, 0.47 2.12, 0.6 1.28 C0.73 0.44, -0.04 -0.44, 0.4 -0.45 C0.84 -0.46, 2.8 1.15, 3.26 1.22\" stroke=\"none\" stroke-width=\"0\" fill=\"#ffffff\"></path><path d=\"M2.72 0.56 C3.44 0.31, 3.91 -0.45, 4.51 -0.34 C5.12 -0.23, 6.2 0.56, 6.37 1.23 C6.53 1.9, 5.84 3.04, 5.52 3.67 C5.19 4.3, 4.94 4.58, 4.41 5.01 C3.89 5.44, 3.11 6.16, 2.37 6.23 C1.64 6.31, 0.33 6.01, 0.02 5.45 C-0.29 4.89, 0.54 3.7, 0.5 2.87 C0.47 2.03, -0.51 0.88, -0.2 0.44 C0.12 0, 2.1 0.34, 2.39 0.25 C2.67 0.16, 1.62 -0.12, 1.52 -0.08 M4.57 0.02 C5.38 0.39, 6.12 0.64, 6.13 1.35 C6.14 2.06, 4.75 3.82, 4.64 4.29 C4.52 4.75, 5.57 3.76, 5.44 4.12 C5.32 4.49, 4.82 6.14, 3.87 6.46 C2.91 6.79, 0.16 6.64, -0.27 6.07 C-0.71 5.51, 1.14 3.71, 1.26 3.09 C1.39 2.48, 0.5 3.04, 0.48 2.38 C0.47 1.72, 0.63 -0.3, 1.17 -0.87 C1.71 -1.44, 3.57 -1.09, 3.72 -1.05 C3.86 -1.02, 1.89 -0.98, 2.05 -0.65\" stroke=\"transparent\" stroke-width=\"2\" fill=\"none\"></path></g></svg>"
   ]
  },
  {
   "attachments": {},
   "cell_type": "markdown",
   "id": "89e37a19",
   "metadata": {},
   "source": [
    "## 🐣 Hello World\n",
    "([Back to top](#Table-of-Contents))\n",
    "\n",
    ">**🎯 Exercise Goal**\n",
    ">\n",
    ">Your goal in this exercise is to write a software that displays the words `Hello World!` (or any other message) on the screen.\n",
    "\n",
    "Many applications need to display text. To choose a basic example, think of screens in busses or trains that display the next stop. They run some kind of software to display the name of the next stop. They don't need to be interactive or allow the user to interact with the text in any way. They only need to display the text. \n",
    "\n",
    "The first program everyone learning a programming language writes is the so-called [\"Hello World\"](https://en.wikipedia.org/wiki/%22Hello,_World!%22_program). All the program does is that it returns the text `\"Hello World\"` and outputs that on the screen of the user. \n",
    "\n",
    ">💡 **Side Note:** When you start programming, you usually start by writing only text-based programs. Programs like the one you're using right now or web apps have **graphical user interfaces (GUI)**. When learning a programming langauge from scratch, it's common to start with text-based applications only. The original computers didn't have GUIs. And still nowadays, it's very common to interact with many computers (e.g., web servers) threw text-only interfaces. Those interfaces are also called **Terminal** or **Command Line**. Every computer has such an interface. On macOS and Linux you can search for the \"Terminal\" application. On Windows 10 you can look for the \"Powershell.\"\n",
    ">Developers regularly interact with their computer through the Terminal. It's very useful for executing text-based programs. \n",
    "\n",
    "In Python, you write a single line of code to output the text \"Hello World\" on the screen: \n",
    "\n",
    "```python\n",
    "print(\"Hello World\")\n",
    "```\n",
    "\n",
    "Try it! Click on the code cell below 👇 and write the Python code to display \"Hello World\". \n",
    "\n",
    "To try out and execute the code, click on the line and hit the \"Run\" button at the top. Or hit <kbd>Ctrl</kbd> + <kbd>Enter</kbd> on your keyboard. "
   ]
  },
  {
   "cell_type": "code",
   "execution_count": null,
   "id": "835e6d0e",
   "metadata": {},
   "outputs": [],
   "source": []
  },
  {
   "attachments": {},
   "cell_type": "markdown",
   "id": "a10b53d7",
   "metadata": {},
   "source": [
    "<details>\n",
    "<summary style=\"border: 1px solid; border-radius: 3px; padding: 5px; display: inline-block; cursor: pointer;\">\n",
    "💡 Hint\n",
    "</summary>\n",
    "<p>\n",
    "If you get an error message try to understand what it says. Usually, it contains some plain English text to help you understand what went wrong. \n",
    "\n",
    "In programming, every character counts (and, in Python, even spaces and tabs)! You can break entire programs by forgetting one character or space. So it's very important to work accurately. Double-check that all characters and spaces are correct.\n",
    "</p>\n",
    "</details>"
   ]
  },
  {
   "attachments": {},
   "cell_type": "markdown",
   "id": "a3ea4286",
   "metadata": {},
   "source": [
    "You should see the result \"Hello World\" right below the cell. Try changing the text and running the code again.\n",
    "\n",
    "🎉 Congrats! You have written your first Python program!\n",
    "\n",
    "`print()` is a **function**. You'll learn more about functions later. They are predefined pieces of code that do something automatically for you. You can write your own functions, but Python comes with a lot pre-written for you. You can use them to automatically generate random numbers or do other fun things. \n",
    "\n",
    "“Hello world” (or any set of characters that appear between quotation marks) is a **string**, which you’ll learn about in the next section. The `print()` function outputs strings or any other types of data that are written **inside the parentheses** `()`.\n",
    "\n",
    "Run the code in the cells below or change it around to see what happens. You may even try putting multiple `print()` functions inside the same cell. Just make sure to put each `print()` function on its own line. "
   ]
  },
  {
   "cell_type": "code",
   "execution_count": null,
   "id": "40d3561a",
   "metadata": {},
   "outputs": [],
   "source": [
    "print(42)"
   ]
  },
  {
   "cell_type": "code",
   "execution_count": null,
   "id": "5ed7e192",
   "metadata": {},
   "outputs": [],
   "source": [
    "print(\"This is some random text\")"
   ]
  },
  {
   "attachments": {},
   "cell_type": "markdown",
   "id": "35018b5c",
   "metadata": {},
   "source": [
    "## 💭 Comments\n",
    "\n",
    ">**🎯 Exercise Goal**\n",
    ">\n",
    ">Use comments to document parts of your code with text that isn't executed.\n",
    "\n",
    "Every programming language has a feature called **comments**. A comment is a way of adding text to your code that isn't executed. \n",
    "\n",
    "Run the code below and look at the output: "
   ]
  },
  {
   "cell_type": "code",
   "execution_count": null,
   "id": "8e3f71c2",
   "metadata": {},
   "outputs": [],
   "source": [
    "print(1)\n",
    "# print(2)\n",
    "print(3)\n",
    "print(4)"
   ]
  },
  {
   "attachments": {},
   "cell_type": "markdown",
   "id": "36149fb3",
   "metadata": {},
   "source": [
    "Did you notice how one of the numbers isn't printed out? \n",
    "\n",
    "That's because, in Python, the hash symbol `#` turns all characters **after the hash** and **within the same line** into a comment. The comment is ignored by the code compiler. It's as if it doesn't exist. But for you, as the developer, it can be very useful because it allows you to add text to your code as an explanation. \n",
    "\n",
    "The code below is broken. How can you fix it? "
   ]
  },
  {
   "cell_type": "code",
   "execution_count": null,
   "id": "47bb4ab2",
   "metadata": {},
   "outputs": [],
   "source": [
    "print(\"How do I get this to work?\") this is a print statement."
   ]
  },
  {
   "attachments": {},
   "cell_type": "markdown",
   "id": "d90ea0ab",
   "metadata": {},
   "source": [
    "Execute the code as is. You'll see a \"Syntax Error.\" The **syntax** of a programming language refers to the pre-defined words and styles of a programming language. For example, `print` is a word pre-defined by the Python programming language. It has a specific function that is pre-determined and not defined by you as the developer. If you run the code above as is Python will look at it and think `this is a print statement` is part of the code and not understand what to do with it. It'll break because `this is a print statement` isn't part of the official Python **syntax**.\n",
    "\n",
    "Can you think of a way to fix the broken code using Python comments? "
   ]
  },
  {
   "attachments": {},
   "cell_type": "markdown",
   "id": "59a1f5ae",
   "metadata": {},
   "source": [
    "<details>\n",
    "<summary style=\"border: 1px solid; border-radius: 3px; padding: 5px; display: inline-block; cursor: pointer;\">\n",
    "💡 Hint\n",
    "</summary>\n",
    "<p>\n",
    "Remember, in Python, you can use the `#` symbol to start a comment. \n",
    "\n",
    "A comment doesn't have to start at the beginning of a line. You can fix the code by adding the `#` after the official Python code ends and before the description text `this is a print statement` starts.\n",
    "</p>\n",
    "</details>"
   ]
  },
  {
   "attachments": {},
   "cell_type": "markdown",
   "id": "b6bcc49d",
   "metadata": {},
   "source": [
    "## 🅰️ Simple data types and strings\n",
    "([Back to top](#Table-of-Contents))\n",
    "\n",
    ">**🎯 Exercise Goal**\n",
    ">Differentiate between basic data types, such as **numbers** and **strings** and Python **syntax**.\n",
    "\n",
    "Programming languages have different elements [2]. You have already gotten to know two of those elements: \n",
    "\n",
    "- reserved words\n",
    "- constants\n",
    "\n",
    "`print()` is a **reserved word**. It's reserved by Python for some pre-defined functionality. \n",
    "\n",
    "`\"Hello World\"` is a string and is considered a **constant**. It's called a constant because it is a set of **data** that is defined by you as the developer and it doesn't change unless you as the developer change the code again.\n",
    "\n",
    "Data can have varying types. `\"Hello World\"` is a **string**. `42` is a **number**. This may seem obvious but there are some important nuances to keep in mind. There are more data types than this. But for now, they are the most important ones you need to know. \n",
    "\n",
    "Strings are pieces of text (that may also include numbers). Strings always start and end with double quotes `\"` or single quotes `'`. These quotes must come in pairs! With the first set of quotes `\"` you tell Python \"Here comes a string!\". And Python will assume everything that follows is part of the string until you add the closing quotation mark: `\"`. \n",
    "\n",
    "Check out this code, for example. Try to execute it and then inspect the error: "
   ]
  },
  {
   "cell_type": "code",
   "execution_count": null,
   "id": "63ddc23b",
   "metadata": {},
   "outputs": [],
   "source": [
    "print(\"I'm a broken string.)"
   ]
  },
  {
   "attachments": {},
   "cell_type": "markdown",
   "id": "49f098b5",
   "metadata": {},
   "source": [
    "<details>\n",
    "<summary style=\"border: 1px solid; border-radius: 3px; padding: 5px; display: inline-block; cursor: pointer;\">\n",
    "💡 Hint\n",
    "</summary>\n",
    "<p>\n",
    "\n",
    "Pay close attention to which type of quotes are used to start the string. You need to add the same type of quotes at the end of the string **but before** the closing parentheses. The string must be **inside** the parentheses of the `print()` function.    \n",
    "\n",
    "</p>\n",
    "</details>"
   ]
  },
  {
   "attachments": {},
   "cell_type": "markdown",
   "id": "b77bf2b7",
   "metadata": {},
   "source": [
    "What you may have noticed in the example above: The string actually is wrapped inside double quotes `\"` but contains a single set of single quotes `'`. In Python you can actually use either of those to mark the beginning and end of a string. But it's essential that you use the same one both for the beginning and the end. \n",
    "\n",
    "If you want to use either of those as part of the string text you can use the other to mark the beginning and end of the string. \n",
    "\n",
    "Alternatively, you can also use a backslash `\\` like this: "
   ]
  },
  {
   "cell_type": "code",
   "execution_count": null,
   "id": "1be7590b",
   "metadata": {},
   "outputs": [],
   "source": [
    "print('I\\'m a working string')"
   ]
  },
  {
   "attachments": {},
   "cell_type": "markdown",
   "id": "4e24370a",
   "metadata": {},
   "source": [
    "In the example above, try to play around with the different types of quotes and `\\` backslash. Try to get a feel for what happens when you move things around. \n",
    "\n",
    "Then, try to solve the broken pieces of code below:"
   ]
  },
  {
   "cell_type": "code",
   "execution_count": null,
   "id": "79fff07f",
   "metadata": {},
   "outputs": [],
   "source": [
    "print(\"This string is supposed to say \"Hello World\"!\")"
   ]
  },
  {
   "cell_type": "code",
   "execution_count": null,
   "id": "4ffc3c45",
   "metadata": {},
   "outputs": [],
   "source": [
    "print('This is not quite right\")"
   ]
  },
  {
   "cell_type": "code",
   "execution_count": null,
   "id": "0bc14a53",
   "metadata": {},
   "outputs": [],
   "source": [
    "print('I'm very happy to have written my first \"Hello World\" program!')"
   ]
  },
  {
   "attachments": {},
   "cell_type": "markdown",
   "id": "52a596d2",
   "metadata": {},
   "source": [
    "<details>\n",
    "<summary style=\"border: 1px solid; border-radius: 3px; padding: 5px; display: inline-block; cursor: pointer;\">\n",
    "💡 Hint\n",
    "</summary>\n",
    "<p>\n",
    "    \n",
    "1. The first statement uses double quotes inside the string. So to Python, it looks like the string is ending after `to say \"`. Then, it doesn't know what to do with `Hello` as that's not a **reserved word**. You can fix this by wrapping the entire string into a different kind of quotes or using `\\` to **escape** the quotes inside the string.\n",
    "2. The quotes start and end of the print statement aren't matching. One of them has to be changed. \n",
    "3. In this example, you'll have to use `\\` because both types of quotes are used inside the strong. \n",
    "    \n",
    "</p>\n",
    "</details>"
   ]
  },
  {
   "attachments": {},
   "cell_type": "markdown",
   "id": "56d49956",
   "metadata": {},
   "source": [
    "## 1️⃣ Numbers and basic math\n",
    "([Back to top](#Table-of-Contents))\n",
    "\n",
    ">**🎯 Exercise Goal**\n",
    ">\n",
    ">Use code to run basic math operations.\n",
    "\n",
    "One of the core functionalities of any programming language is to work with data and run (mathematical) operations on it. So it makes sense to also learn those things first. \n",
    "\n",
    "In Python code, you can write statements like mathematical operations and see their evaluated results. Look at some of the examples below. (Remember, you can adjust and execute each line by clicking on it and hitting the \"Run\" button)"
   ]
  },
  {
   "cell_type": "code",
   "execution_count": null,
   "id": "b1889662",
   "metadata": {},
   "outputs": [],
   "source": [
    "40 + 3"
   ]
  },
  {
   "cell_type": "code",
   "execution_count": null,
   "id": "10388eee",
   "metadata": {},
   "outputs": [],
   "source": [
    "54 - 12"
   ]
  },
  {
   "cell_type": "code",
   "execution_count": null,
   "id": "8a68e176",
   "metadata": {},
   "outputs": [],
   "source": [
    "6 * 7"
   ]
  },
  {
   "cell_type": "code",
   "execution_count": null,
   "id": "2f7b58fe",
   "metadata": {},
   "outputs": [],
   "source": [
    "80 / 4 * (2 + 3) - 58"
   ]
  },
  {
   "attachments": {},
   "cell_type": "markdown",
   "id": "10333729",
   "metadata": {},
   "source": [
    "You see, you can write all sorts of math operations including elements like parentheses. \n",
    "\n",
    "Try it out now!\n",
    "\n",
    "Let's say we want to calculate the average of 24, 95, and 7. We get the average of three numbers by adding them all together and dividing the result by 3. \n",
    "\n",
    "In the empty code area below, use Python code to calculate the average of `24`, `95`, and `7`."
   ]
  },
  {
   "cell_type": "code",
   "execution_count": null,
   "id": "263b1af0",
   "metadata": {},
   "outputs": [],
   "source": [
    "# Add your math operations below\n"
   ]
  },
  {
   "attachments": {},
   "cell_type": "markdown",
   "id": "2f6a9966",
   "metadata": {},
   "source": [
    "<details>\n",
    "<summary style=\"border: 1px solid; border-radius: 3px; padding: 5px; display: inline-block; cursor: pointer;\">\n",
    "💡 Hint\n",
    "</summary>\n",
    "<p>\n",
    "\n",
    "To get the average of several numbers you first add them all together. Then, you divide the sum by how many numbers you had to begin with. In our case that would be `3`. \n",
    "\n",
    "_Remember: You can use parentheses in math operations!_\n",
    "    \n",
    "</p>\n",
    "</details>"
   ]
  },
  {
   "attachments": {},
   "cell_type": "markdown",
   "id": "c7d2a590",
   "metadata": {},
   "source": [
    "The Jupyter Notebook will always automatically output on the screen the result of the last line of your code. This means, you won't see the results of multiple lines of calculations:"
   ]
  },
  {
   "cell_type": "code",
   "execution_count": null,
   "id": "cd97af25",
   "metadata": {},
   "outputs": [],
   "source": [
    "4 * 8\n",
    "(77 + 12384) * 6\n",
    "21 + 21"
   ]
  },
  {
   "attachments": {},
   "cell_type": "markdown",
   "id": "5abb82ef",
   "metadata": {},
   "source": [
    "Outside of Jupyter Notebooks, if you want to display multiple lines of code on the screen, you should use the `print()` function that you have learned about before. You can just add any kind of math operations inside the parentheses of the `print()` function to see the result on the screen. \n",
    "\n",
    "You can't see the result of one of the lines, below. Update the code to make sure to see the result for each line.\n",
    "\n",
    "_(Don't forget, you can click on the code, change it around, and execute it with the \"Run\" button at the top or by hitting `Ctrl` + `Enter` on your keyboard.)_"
   ]
  },
  {
   "cell_type": "code",
   "execution_count": null,
   "id": "a450464c",
   "metadata": {},
   "outputs": [],
   "source": [
    "print(4 * 8)\n",
    "(77 + 12384) * 6\n",
    "print(21 + 21)"
   ]
  },
  {
   "attachments": {},
   "cell_type": "markdown",
   "id": "5310ce82",
   "metadata": {},
   "source": [
    "<details>\n",
    "<summary style=\"border: 1px solid; border-radius: 3px; padding: 5px; display: inline-block; cursor: pointer;\">\n",
    "💡 Hint\n",
    "</summary>\n",
    "<p>\n",
    "\n",
    "The second line is missing a `print()` statement. Make sure the entire statement (including the parentheses) is inside the parentheses of the `print()` function. It might look a bit odd at first, but you'll have parentheses inside parentheses.\n",
    "    \n",
    "</p>\n",
    "</details>"
   ]
  },
  {
   "attachments": {},
   "cell_type": "markdown",
   "id": "b28c873c",
   "metadata": {},
   "source": [
    "## 📂 Variables\n",
    "([Back to top](#Table-of-Contents))\n",
    "\n",
    ">**🎯 Exercise Goal**\n",
    ">\n",
    ">Store simple data in variables to be reused and displayed multiple times. \n",
    "\n",
    "\n",
    "Now basic calculations aren't too impressive. But things get more interesting if you **store data** or remember it for later. \n",
    "\n",
    "Programming languages usually all have a concept called **variables**. Variables are a way for you to store data for later usage.\n",
    "\n",
    "Let's say, your job is to work with data sets and make various calculations based on the same kind of data. Maybe you own a shop. You want to see a sum of all the purchases that have been made. But you're also interested in seeing how much money each customer spent on average.\n",
    "\n",
    "You can write a quick computer program to help you with that calculation. \n",
    "\n",
    "First, we calculate the sum of all the money you made from purchases. Then, we calculate the average spending per purchase. \n",
    "\n",
    "The naive solution would be this:"
   ]
  },
  {
   "cell_type": "code",
   "execution_count": null,
   "id": "332e54bc",
   "metadata": {},
   "outputs": [],
   "source": [
    "# Sum of all purchases\n",
    "print((24 + 95 + 7))\n",
    "\n",
    "# Average of today's purchases\n",
    "print((24 + 95 + 7) / 3)"
   ]
  },
  {
   "attachments": {},
   "cell_type": "markdown",
   "id": "5d76528b",
   "metadata": {},
   "source": [
    "This is not super elegant but it works. But what if we want to use the numbers in even more ways? Maybe I have another set of purchases on the next day. So I have an average for every day and now I want to calculate the average of averages. "
   ]
  },
  {
   "cell_type": "code",
   "execution_count": null,
   "id": "5fd646d6",
   "metadata": {},
   "outputs": [],
   "source": [
    "# Day 1: Sum of all purchases\n",
    "print((24 + 95 + 7))\n",
    "# Day 1: Average of all purchases\n",
    "print((24 + 95 + 7) / 3)\n",
    "# Day 2: Sum of all purchases\n",
    "print((95 + 2 + 2))\n",
    "# Day 2: Average of all purchases\n",
    "print((95 + 2 + 2) / 3)\n",
    "\n",
    "# Total Average\n",
    "print((24 + 95 + 7 + 95 + 2 + 2) / 6)"
   ]
  },
  {
   "attachments": {},
   "cell_type": "markdown",
   "id": "64a5da57",
   "metadata": {},
   "source": [
    "It starts getting quite messy and repetitive. It's quite common in programming to have things like this where you want to remember a value for later and do multiple things with it. \n",
    "\n",
    "To \"remember\" a value for later we can assign the value to a **variable**. In Python, you do that by simply making up a variable name (this can be anything you make up) followed by an equal sign `=` and what you want to assign it to. It's only important that the word you made up is not the same as a **reserved word** (see above)."
   ]
  },
  {
   "cell_type": "code",
   "execution_count": null,
   "id": "345836a7",
   "metadata": {},
   "outputs": [],
   "source": [
    "the_answer_to_everything = 42"
   ]
  },
  {
   "attachments": {},
   "cell_type": "markdown",
   "id": "2e779ca8",
   "metadata": {},
   "source": [
    "Variables can be reused and represent whatever they're assigned to. Run the code example below. Then, try to change the variable value and run it again. "
   ]
  },
  {
   "cell_type": "code",
   "execution_count": null,
   "id": "b9deacd4",
   "metadata": {},
   "outputs": [],
   "source": [
    "the_answer_to_everything = 42\n",
    "\n",
    "print(\"The answer to everything is:\")\n",
    "print(the_answer_to_everything)\n",
    "print(\"No, seriously! It really is:\")\n",
    "print(the_answer_to_everything)"
   ]
  },
  {
   "attachments": {},
   "cell_type": "markdown",
   "id": "2f061c18",
   "metadata": {},
   "source": [
    "Given that new knowledge let's go back to the shop example from above. Try to use variables to simplify the code we wrote above and make it less repetitive. \n",
    "\n",
    "There is already some code prepared in the box below. Don't remove any of it. Instead, try to add the missing parts to get the code to work. \n",
    "\n",
    "The output should:\n",
    "- display the sum of all purchases of the first day\n",
    "- display the average of all purchases of the first day\n",
    "- display the sum of all purchases of the second day\n",
    "- display the average of all purchases of the second day\n",
    "- display the total average of all purchases"
   ]
  },
  {
   "cell_type": "code",
   "execution_count": null,
   "id": "56b2882e",
   "metadata": {},
   "outputs": [],
   "source": [
    "# Day 1\n",
    "day_1_a = 24\n",
    "\n",
    "\n",
    "\n",
    "\n",
    "\n",
    "print(\"On day 1, the total income was: \")\n",
    "print(day_1_total)\n",
    "\n",
    "print(\"On day 1, the average purchase price was: \")\n",
    "print(day_1_average)\n",
    "\n",
    "# Day 2\n",
    "day_2_a = 95\n",
    "\n",
    "\n",
    "\n",
    "\n",
    "\n",
    "print(\"On day 2, the total income was: \")\n",
    "print(day_2_total)\n",
    "\n",
    "print(\"On day 2, the average purchase price was: \")\n",
    "print(day_2_average)\n",
    "\n",
    "# Total\n",
    "\n",
    "\n",
    "\n",
    "print(\"The overall purchase price is: \")\n",
    "print(total_average)\n",
    "\n",
    "\n",
    "# ===============================\n",
    "# ✋ Automated Test (don't change any code below this line!)\n",
    "# ===============================\n",
    "\n",
    "print(\"\\n---\\n⚙️ Automated Test Results: \\n---\")\n",
    "print(\"❌ day_1_total seems to have the wrong result.\" if day_1_total != 126 else \"☑️ day_1_total is correct.\")\n",
    "print(\"❌ day_1_average seems to have the wrong result.\" if day_1_average != 42.0 else \"☑️ day_1_average is correct.\")\n",
    "print(\"❌ day_2_total seems to have the wrong result.\" if day_2_total != 99 else \"☑️ day_2_total is correct.\")\n",
    "print(\"❌ day_2_average seems to have the wrong result.\" if day_2_average != 33.0 else \"☑️ day_2_average is correct.\")\n",
    "print(\"❌ total_average seems to have the wrong result.\" if total_average != 37.5 else \"☑️ total_average is correct.\")"
   ]
  },
  {
   "attachments": {},
   "cell_type": "markdown",
   "id": "b7f0fbfe",
   "metadata": {},
   "source": [
    "<details>\n",
    "<summary style=\"border: 1px solid; border-radius: 3px; padding: 5px; display: inline-block; cursor: pointer;\">\n",
    "💡 Hint\n",
    "</summary>\n",
    "<p>\n",
    "\n",
    "If you run into issues, make sure to check the error message. You might, e.g., run into a `NameError` that tells you that some `name` `is not defined`. `name` is referring to \"variable name,\" in this case. So look closely and check if you maybe forgot to assign a variable name. There could even be a tiny typo.\n",
    "\n",
    "The code cell also contains some automated tests. They are print statements that are there to verify that you did the math correctly. Check the output of the tests to see if you had a mistake in any of your calculations. \n",
    "    \n",
    "</p>\n",
    "</details>"
   ]
  },
  {
   "attachments": {},
   "cell_type": "markdown",
   "id": "7f65352e",
   "metadata": {},
   "source": [
    "Nice! 🎉\n",
    "\n",
    "You've actually learned the most important core concepts of programming now. You know about simple data types like strings and numbers. You know how to do basic math. And you know how to temporarily store values using variables. "
   ]
  },
  {
   "attachments": {},
   "cell_type": "markdown",
   "id": "8a3f4cc6",
   "metadata": {},
   "source": [
    "## 🏡 How to try this at home\n",
    "([Back to top](#Table-of-Contents))\n",
    "\n",
    "You've now just worked within the web browser and within a Jupyter Notebook. But in reality, many people work with Python in **Python files**. \n",
    "\n",
    "To try all this out on your personal computer you need a few things. \n",
    "\n",
    "1. You should already be familiar with [how to use the command line or Terminal](https://developer.mozilla.org/en-US/docs/Learn/Tools_and_testing/Understanding_client-side_tools/Command_line) of your computer. So make sure to know just the complete basics of how to execute files and navigate folders. \n",
    "2. Make sure Python version 3 is installed on your computer. On Windows, you can install Python through the Windows Store. On macOS, you can just download and install Python [from the official python.org website](https://www.python.org/downloads/). On Linux, you can usually install it through a package installer. Common commands to do that are `sudo apt-get update` and `sudo apt-get install python3`. \n",
    "3. Next, you need a code editor. You can use any text editor that let's you open and edit files in their raw format (without adding visual styles - like in Word). A popular free tool these days is [Visual Studio Code](https://code.visualstudio.com/). But there are plenty free alternatives. \n",
    "\n",
    "Once you've gone through all these steps, you can use the code editor to create an entirely blank new file on your computer. (Make sure you remember which folder on your computer you create the file in!)\n",
    "\n",
    "You can fill that file with Python code. For example: \n",
    "\n",
    "```python\n",
    "print('Hello World')\n",
    "```\n",
    "\n",
    "Then save that file and make sure it ends on `.py` (for \"Python\"). For example: `test.py`. \n",
    "\n",
    "To execute that Python code file navigate to the folder the file is in through the command line. And then simply type in `python3 test.py` to execute the file. That's it. "
   ]
  },
  {
   "attachments": {},
   "cell_type": "markdown",
   "id": "2239e199",
   "metadata": {},
   "source": [
    "## References\n",
    "\n",
    "[1] L. Porter and D. Zingaro, _Learn AI-Assisted Python Programming_, MEAP Edition, Version 1. Manning Publications, 2023.\n",
    "\n",
    "[2] Dr. C. Severance, [FreeCodeCamp: Python for Everybody Course], https://www.freecodecamp.org/learn/scientific-computing-with-python/python-for-everybody/introduction-elements-of-python (accessed July 3rd, 2023)"
   ]
  }
 ],
 "metadata": {
  "kernelspec": {
   "display_name": "Python 3 (ipykernel)",
   "language": "python",
   "name": "python3"
  },
  "language_info": {
   "codemirror_mode": {
    "name": "ipython",
    "version": 3
   },
   "file_extension": ".py",
   "mimetype": "text/x-python",
   "name": "python",
   "nbconvert_exporter": "python",
   "pygments_lexer": "ipython3",
   "version": "3.10.10"
  },
  "vscode": {
   "interpreter": {
    "hash": "58243efc57a824e48bd8accfc07ecdf19a1d136d4cb030c6b2d8e282c2acc61d"
   }
  }
 },
 "nbformat": 4,
 "nbformat_minor": 5
}
